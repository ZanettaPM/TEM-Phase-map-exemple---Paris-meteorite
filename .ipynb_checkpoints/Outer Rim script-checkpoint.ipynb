{
 "cells": [
  {
   "cell_type": "markdown",
   "metadata": {
    "collapsed": true
   },
   "source": [
    "# Paris Outer Rim\n",
    "HyperSpy 1.3 and need to merge the Pull request #1835 and #1462"
   ]
  },
  {
   "cell_type": "markdown",
   "metadata": {},
   "source": [
    "This work is part of a published article please refer to this link and cite the authors if you are using it"
   ]
  },
  {
   "cell_type": "markdown",
   "metadata": {},
   "source": [
    "## Table of contents:\n",
    "\n",
    "* [1. Blind background modelling and elemental map exctraction](#first-bullet)\n",
    "* [2. Mineral map and MLLS procedure](#second-bullet)\n",
    "* [3. Background and peak fitting](#third-bullet)\n",
    "* [4. Pixel to pixel composition](#fourth-bullet)\n",
    "* [5. Calculation of the bulk composition](#fifth-bullet)"
   ]
  },
  {
   "cell_type": "code",
   "execution_count": 2,
   "metadata": {},
   "outputs": [],
   "source": [
    "%matplotlib qt\n",
    "import numpy as np\n",
    "import matplotlib.pyplot as plt\n",
    "import tifffile as tiff"
   ]
  },
  {
   "cell_type": "code",
   "execution_count": 9,
   "metadata": {},
   "outputs": [
    {
     "name": "stderr",
     "output_type": "stream",
     "text": [
      "WARNING:hyperspy.api:The ipywidgets GUI elements are not available, probably because the hyperspy_gui_ipywidgets package is not installed.\n"
     ]
    }
   ],
   "source": [
    "import imp\n",
    "hs=imp.load_source(\"hyperspy\", \"C:\\\\Users\\Pierre-Marie\\Documents\\GitHub\\ZanettaPM\\hyperspy\\hyperspy/__init__.py\")\n",
    "hs=imp.load_source(\"hyperspy.api\", \"C:\\\\Users\\Pierre-Marie\\Documents\\GitHub\\ZanettaPM\\hyperspy/hyperspy/api.py\")"
   ]
  },
  {
   "cell_type": "code",
   "execution_count": 5,
   "metadata": {},
   "outputs": [],
   "source": [
    "import hyperspy.api as hs"
   ]
  },
  {
   "cell_type": "code",
   "execution_count": 4,
   "metadata": {
    "scrolled": true
   },
   "outputs": [
    {
     "data": {
      "text/plain": [
       "'1.5.2'"
      ]
     },
     "execution_count": 4,
     "metadata": {},
     "output_type": "execute_result"
    }
   ],
   "source": [
    "hs.hyperspy.Release.version"
   ]
  },
  {
   "cell_type": "markdown",
   "metadata": {},
   "source": [
    "## Loading Data"
   ]
  },
  {
   "cell_type": "code",
   "execution_count": 10,
   "metadata": {},
   "outputs": [],
   "source": [
    "s=hs.load('Signal map.hspy')"
   ]
  },
  {
   "cell_type": "code",
   "execution_count": 11,
   "metadata": {},
   "outputs": [],
   "source": [
    "s.plot(True)"
   ]
  },
  {
   "cell_type": "code",
   "execution_count": 4,
   "metadata": {},
   "outputs": [],
   "source": [
    "#s=hs.load('signal_size_carto_gauche.hspy')"
   ]
  },
  {
   "cell_type": "code",
   "execution_count": 15,
   "metadata": {},
   "outputs": [],
   "source": [
    "s.plot(True)"
   ]
  },
  {
   "cell_type": "code",
   "execution_count": 14,
   "metadata": {},
   "outputs": [],
   "source": [
    "s=s.isig[0.17:10.]"
   ]
  },
  {
   "cell_type": "code",
   "execution_count": 38,
   "metadata": {},
   "outputs": [],
   "source": [
    "s.metadata.Sample.elements=[]\n",
    "s.set_elements([\"C\", \"O\",'Na','K',\"Mg\", \"Al\", \"Si\", \"Fe\",\"Fe\", \"Cr\", \"Ni\",'S','Ca','Cu','Ga','Pt','P','Cl','Mn','N','Ti','F'])"
   ]
  },
  {
   "cell_type": "code",
   "execution_count": 39,
   "metadata": {},
   "outputs": [],
   "source": [
    "s.metadata.Sample.add_node('xray_lines')\n",
    "s.set_lines([])\n",
    "s.add_lines(['Fe_La'])"
   ]
  },
  {
   "cell_type": "markdown",
   "metadata": {},
   "source": [
    "## 1. Blind background modelling and elemental map exctraction <a class=\"anchor\" id=\"first-bullet\"></a>"
   ]
  },
  {
   "cell_type": "code",
   "execution_count": 57,
   "metadata": {},
   "outputs": [],
   "source": [
    "m=s.create_model(auto_background=False)"
   ]
  },
  {
   "cell_type": "markdown",
   "metadata": {},
   "source": [
    "Here we normally use our personnal detector efficiency data. This data are sensitive and a public curve has been used"
   ]
  },
  {
   "cell_type": "code",
   "execution_count": 58,
   "metadata": {},
   "outputs": [],
   "source": [
    "m.add_physical_background(detector='SuperX',quantification='Mean')"
   ]
  },
  {
   "cell_type": "code",
   "execution_count": 59,
   "metadata": {},
   "outputs": [
    {
     "data": {
      "text/plain": [
       "{'Quant map and absorption correction parameters have been created'}"
      ]
     },
     "execution_count": 59,
     "metadata": {},
     "output_type": "execute_result"
    }
   ],
   "source": [
    "m.components.Bremsstrahlung.initialize()"
   ]
  },
  {
   "cell_type": "code",
   "execution_count": 60,
   "metadata": {},
   "outputs": [
    {
     "data": {
      "text/plain": [
       "   # |      Attribute Name |      Component Name |      Component Type\n",
       "---- | ------------------- | ------------------- | -------------------\n",
       "   0 |               Al_Ka |               Al_Ka |            Gaussian\n",
       "   1 |               Al_Kb |               Al_Kb |            Gaussian\n",
       "   2 |                C_Ka |                C_Ka |            Gaussian\n",
       "   3 |               Ca_Ka |               Ca_Ka |            Gaussian\n",
       "   4 |               Ca_Kb |               Ca_Kb |            Gaussian\n",
       "   5 |               Ca_La |               Ca_La |            Gaussian\n",
       "   6 |               Ca_Ln |               Ca_Ln |            Gaussian\n",
       "   7 |               Ca_Ll |               Ca_Ll |            Gaussian\n",
       "   8 |               Cl_Ka |               Cl_Ka |            Gaussian\n",
       "   9 |               Cl_Kb |               Cl_Kb |            Gaussian\n",
       "  10 |               Cr_Ka |               Cr_Ka |            Gaussian\n",
       "  11 |               Cr_Kb |               Cr_Kb |            Gaussian\n",
       "  12 |               Cr_La |               Cr_La |            Gaussian\n",
       "  13 |               Cr_Ln |               Cr_Ln |            Gaussian\n",
       "  14 |               Cr_Ll |               Cr_Ll |            Gaussian\n",
       "  15 |              Cr_Lb3 |              Cr_Lb3 |            Gaussian\n",
       "  16 |               Cu_Ka |               Cu_Ka |            Gaussian\n",
       "  17 |               Cu_Kb |               Cu_Kb |            Gaussian\n",
       "  18 |               Cu_La |               Cu_La |            Gaussian\n",
       "  19 |              Cu_Lb1 |              Cu_Lb1 |            Gaussian\n",
       "  20 |               Cu_Ln |               Cu_Ln |            Gaussian\n",
       "  21 |               Cu_Ll |               Cu_Ll |            Gaussian\n",
       "  22 |              Cu_Lb3 |              Cu_Lb3 |            Gaussian\n",
       "  23 |                F_Ka |                F_Ka |            Gaussian\n",
       "  24 |               Fe_Ka |               Fe_Ka |            Gaussian\n",
       "  25 |               Fe_Kb |               Fe_Kb |            Gaussian\n",
       "  26 |               Fe_La |               Fe_La |            Gaussian\n",
       "  27 |               Fe_Ln |               Fe_Ln |            Gaussian\n",
       "  28 |               Fe_Ll |               Fe_Ll |            Gaussian\n",
       "  29 |              Fe_Lb3 |              Fe_Lb3 |            Gaussian\n",
       "  30 |               Ga_Ka |               Ga_Ka |            Gaussian\n",
       "  31 |               Ga_La |               Ga_La |            Gaussian\n",
       "  32 |              Ga_Lb1 |              Ga_Lb1 |            Gaussian\n",
       "  33 |               Ga_Ln |               Ga_Ln |            Gaussian\n",
       "  34 |               Ga_Ll |               Ga_Ll |            Gaussian\n",
       "  35 |              Ga_Lb3 |              Ga_Lb3 |            Gaussian\n",
       "  36 |                K_Ka |                K_Ka |            Gaussian\n",
       "  37 |                K_Kb |                K_Kb |            Gaussian\n",
       "  38 |               Mg_Ka |               Mg_Ka |            Gaussian\n",
       "  39 |               Mg_Kb |               Mg_Kb |            Gaussian\n",
       "  40 |               Mn_Ka |               Mn_Ka |            Gaussian\n",
       "  41 |               Mn_Kb |               Mn_Kb |            Gaussian\n",
       "  42 |               Mn_La |               Mn_La |            Gaussian\n",
       "  43 |               Mn_Ln |               Mn_Ln |            Gaussian\n",
       "  44 |               Mn_Ll |               Mn_Ll |            Gaussian\n",
       "  45 |              Mn_Lb3 |              Mn_Lb3 |            Gaussian\n",
       "  46 |                N_Ka |                N_Ka |            Gaussian\n",
       "  47 |               Na_Ka |               Na_Ka |            Gaussian\n",
       "  48 |               Na_Kb |               Na_Kb |            Gaussian\n",
       "  49 |               Ni_Ka |               Ni_Ka |            Gaussian\n",
       "  50 |               Ni_Kb |               Ni_Kb |            Gaussian\n",
       "  51 |               Ni_La |               Ni_La |            Gaussian\n",
       "  52 |              Ni_Lb1 |              Ni_Lb1 |            Gaussian\n",
       "  53 |               Ni_Ln |               Ni_Ln |            Gaussian\n",
       "  54 |               Ni_Ll |               Ni_Ll |            Gaussian\n",
       "  55 |              Ni_Lb3 |              Ni_Lb3 |            Gaussian\n",
       "  56 |                O_Ka |                O_Ka |            Gaussian\n",
       "  57 |                P_Ka |                P_Ka |            Gaussian\n",
       "  58 |                P_Kb |                P_Kb |            Gaussian\n",
       "  59 |               Pt_La |               Pt_La |            Gaussian\n",
       "  60 |               Pt_Ln |               Pt_Ln |            Gaussian\n",
       "  61 |               Pt_Ll |               Pt_Ll |            Gaussian\n",
       "  62 |               Pt_Ma |               Pt_Ma |            Gaussian\n",
       "  63 |             Pt_M2N4 |             Pt_M2N4 |            Gaussian\n",
       "  64 |             Pt_M3O4 |             Pt_M3O4 |            Gaussian\n",
       "  65 |               Pt_Mb |               Pt_Mb |            Gaussian\n",
       "  66 |               Pt_Mg |               Pt_Mg |            Gaussian\n",
       "  67 |             Pt_M3O5 |             Pt_M3O5 |            Gaussian\n",
       "  68 |               Pt_Mz |               Pt_Mz |            Gaussian\n",
       "  69 |                S_Ka |                S_Ka |            Gaussian\n",
       "  70 |                S_Kb |                S_Kb |            Gaussian\n",
       "  71 |               Si_Ka |               Si_Ka |            Gaussian\n",
       "  72 |               Si_Kb |               Si_Kb |            Gaussian\n",
       "  73 |               Ti_Ka |               Ti_Ka |            Gaussian\n",
       "  74 |               Ti_Kb |               Ti_Kb |            Gaussian\n",
       "  75 |               Ti_La |               Ti_La |            Gaussian\n",
       "  76 |               Ti_Ln |               Ti_Ln |            Gaussian\n",
       "  77 |               Ti_Ll |               Ti_Ll |            Gaussian\n",
       "  78 |              Ti_Lb3 |              Ti_Lb3 |            Gaussian\n",
       "  79 |      Bremsstrahlung |      Bremsstrahlung | Physical_background"
      ]
     },
     "execution_count": 60,
     "metadata": {},
     "output_type": "execute_result"
    }
   ],
   "source": [
    "m.components"
   ]
  },
  {
   "cell_type": "code",
   "execution_count": 61,
   "metadata": {},
   "outputs": [],
   "source": [
    "To_delete = []\n",
    "for j in range (6,8):\n",
    "    To_delete.append(m[j].name)\n",
    "for j in range (13, 16):\n",
    "    To_delete.append(m[j].name)\n",
    "for j in range (19, 23):\n",
    "    To_delete.append(m[j].name)\n",
    "for j in range (32, 36):\n",
    "    To_delete.append(m[j].name)\n",
    "for j in range (43, 46):\n",
    "    To_delete.append(m[j].name)\n",
    "for j in range (60, 69):\n",
    "    To_delete.append(m[j].name)\n",
    "for j in range (76, 79):\n",
    "    To_delete.append(m[j].name)\n",
    "m.remove(To_delete)"
   ]
  },
  {
   "cell_type": "code",
   "execution_count": 62,
   "metadata": {},
   "outputs": [
    {
     "data": {
      "text/plain": [
       "   # |      Attribute Name |      Component Name |      Component Type\n",
       "---- | ------------------- | ------------------- | -------------------\n",
       "   0 |               Al_Ka |               Al_Ka |            Gaussian\n",
       "   1 |               Al_Kb |               Al_Kb |            Gaussian\n",
       "   2 |                C_Ka |                C_Ka |            Gaussian\n",
       "   3 |               Ca_Ka |               Ca_Ka |            Gaussian\n",
       "   4 |               Ca_Kb |               Ca_Kb |            Gaussian\n",
       "   5 |               Ca_La |               Ca_La |            Gaussian\n",
       "   6 |               Cl_Ka |               Cl_Ka |            Gaussian\n",
       "   7 |               Cl_Kb |               Cl_Kb |            Gaussian\n",
       "   8 |               Cr_Ka |               Cr_Ka |            Gaussian\n",
       "   9 |               Cr_Kb |               Cr_Kb |            Gaussian\n",
       "  10 |               Cr_La |               Cr_La |            Gaussian\n",
       "  11 |               Cu_Ka |               Cu_Ka |            Gaussian\n",
       "  12 |               Cu_Kb |               Cu_Kb |            Gaussian\n",
       "  13 |               Cu_La |               Cu_La |            Gaussian\n",
       "  14 |                F_Ka |                F_Ka |            Gaussian\n",
       "  15 |               Fe_Ka |               Fe_Ka |            Gaussian\n",
       "  16 |               Fe_Kb |               Fe_Kb |            Gaussian\n",
       "  17 |               Fe_La |               Fe_La |            Gaussian\n",
       "  18 |               Fe_Ln |               Fe_Ln |            Gaussian\n",
       "  19 |               Fe_Ll |               Fe_Ll |            Gaussian\n",
       "  20 |              Fe_Lb3 |              Fe_Lb3 |            Gaussian\n",
       "  21 |               Ga_Ka |               Ga_Ka |            Gaussian\n",
       "  22 |               Ga_La |               Ga_La |            Gaussian\n",
       "  23 |                K_Ka |                K_Ka |            Gaussian\n",
       "  24 |                K_Kb |                K_Kb |            Gaussian\n",
       "  25 |               Mg_Ka |               Mg_Ka |            Gaussian\n",
       "  26 |               Mg_Kb |               Mg_Kb |            Gaussian\n",
       "  27 |               Mn_Ka |               Mn_Ka |            Gaussian\n",
       "  28 |               Mn_Kb |               Mn_Kb |            Gaussian\n",
       "  29 |               Mn_La |               Mn_La |            Gaussian\n",
       "  30 |                N_Ka |                N_Ka |            Gaussian\n",
       "  31 |               Na_Ka |               Na_Ka |            Gaussian\n",
       "  32 |               Na_Kb |               Na_Kb |            Gaussian\n",
       "  33 |               Ni_Ka |               Ni_Ka |            Gaussian\n",
       "  34 |               Ni_Kb |               Ni_Kb |            Gaussian\n",
       "  35 |               Ni_La |               Ni_La |            Gaussian\n",
       "  36 |              Ni_Lb1 |              Ni_Lb1 |            Gaussian\n",
       "  37 |               Ni_Ln |               Ni_Ln |            Gaussian\n",
       "  38 |               Ni_Ll |               Ni_Ll |            Gaussian\n",
       "  39 |              Ni_Lb3 |              Ni_Lb3 |            Gaussian\n",
       "  40 |                O_Ka |                O_Ka |            Gaussian\n",
       "  41 |                P_Ka |                P_Ka |            Gaussian\n",
       "  42 |                P_Kb |                P_Kb |            Gaussian\n",
       "  43 |               Pt_La |               Pt_La |            Gaussian\n",
       "  44 |                S_Ka |                S_Ka |            Gaussian\n",
       "  45 |                S_Kb |                S_Kb |            Gaussian\n",
       "  46 |               Si_Ka |               Si_Ka |            Gaussian\n",
       "  47 |               Si_Kb |               Si_Kb |            Gaussian\n",
       "  48 |               Ti_Ka |               Ti_Ka |            Gaussian\n",
       "  49 |               Ti_Kb |               Ti_Kb |            Gaussian\n",
       "  50 |               Ti_La |               Ti_La |            Gaussian\n",
       "  51 |      Bremsstrahlung |      Bremsstrahlung | Physical_background"
      ]
     },
     "execution_count": 62,
     "metadata": {},
     "output_type": "execute_result"
    }
   ],
   "source": [
    "m.components"
   ]
  },
  {
   "cell_type": "markdown",
   "metadata": {},
   "source": [
    "Finally, we fit the background to the data. The background cannot be negative, in consequence we fix bounds. "
   ]
  },
  {
   "cell_type": "code",
   "execution_count": 63,
   "metadata": {},
   "outputs": [],
   "source": [
    "m.fit_background(bounded=True, windows_sigma=([3,3]))"
   ]
  },
  {
   "cell_type": "code",
   "execution_count": 64,
   "metadata": {},
   "outputs": [],
   "source": [
    "m.components.Bremsstrahlung.coefficients.assign_current_value_to_all()"
   ]
  },
  {
   "cell_type": "code",
   "execution_count": 53,
   "metadata": {},
   "outputs": [
    {
     "data": {
      "application/vnd.jupyter.widget-view+json": {
       "model_id": "7f1b19ed5bb5453bb47e1b76a7cee3b7",
       "version_major": 2,
       "version_minor": 0
      },
      "text/plain": [
       "HBox(children=(IntProgress(value=0, max=20064), HTML(value='')))"
      ]
     },
     "metadata": {},
     "output_type": "display_data"
    },
    {
     "name": "stdout",
     "output_type": "stream",
     "text": [
      "\n"
     ]
    }
   ],
   "source": [
    "m.fit_background(kind='multi',bounded=True, windows_sigma=([3,3]))"
   ]
  },
  {
   "cell_type": "code",
   "execution_count": 56,
   "metadata": {},
   "outputs": [],
   "source": [
    "m.plot(True)"
   ]
  },
  {
   "cell_type": "markdown",
   "metadata": {},
   "source": [
    "And we fit the gaussians using the linear fit proposed by thomas aarholt (already merged in \"v1.3_background_and_linear\")\n",
    "https://github.com/hyperspy/hyperspy/pull/1462"
   ]
  },
  {
   "cell_type": "code",
   "execution_count": 54,
   "metadata": {},
   "outputs": [],
   "source": [
    "m.fix_background()"
   ]
  },
  {
   "cell_type": "code",
   "execution_count": 66,
   "metadata": {
    "collapsed": true
   },
   "outputs": [
    {
     "data": {
      "application/vnd.jupyter.widget-view+json": {
       "model_id": "03192a15bd8541bfb9aeb2dc16a74695",
       "version_major": 2,
       "version_minor": 0
      },
      "text/plain": [
       "HBox(children=(IntProgress(value=0, max=20064), HTML(value='')))"
      ]
     },
     "metadata": {},
     "output_type": "display_data"
    },
    {
     "name": "stdout",
     "output_type": "stream",
     "text": [
      "\n"
     ]
    },
    {
     "ename": "KeyboardInterrupt",
     "evalue": "",
     "output_type": "error",
     "traceback": [
      "\u001b[1;31m---------------------------------------------------------------------------\u001b[0m",
      "\u001b[1;31mKeyboardInterrupt\u001b[0m                         Traceback (most recent call last)",
      "\u001b[1;32m<ipython-input-66-52a865535e4a>\u001b[0m in \u001b[0;36m<module>\u001b[1;34m\u001b[0m\n\u001b[0;32m      1\u001b[0m \u001b[0mm\u001b[0m\u001b[1;33m.\u001b[0m\u001b[0mset_parameters_value\u001b[0m\u001b[1;33m(\u001b[0m\u001b[1;34m'A'\u001b[0m\u001b[1;33m,\u001b[0m\u001b[1;36m1\u001b[0m\u001b[1;33m)\u001b[0m\u001b[1;33m\u001b[0m\u001b[1;33m\u001b[0m\u001b[0m\n\u001b[1;32m----> 2\u001b[1;33m \u001b[0mm\u001b[0m\u001b[1;33m.\u001b[0m\u001b[0mmultifit\u001b[0m\u001b[1;33m(\u001b[0m\u001b[0mfitter\u001b[0m\u001b[1;33m=\u001b[0m\u001b[1;34m'linear'\u001b[0m\u001b[1;33m,\u001b[0m\u001b[0mbounded\u001b[0m\u001b[1;33m=\u001b[0m\u001b[1;32mTrue\u001b[0m\u001b[1;33m,\u001b[0m\u001b[0mgrad\u001b[0m\u001b[1;33m=\u001b[0m\u001b[1;32mTrue\u001b[0m\u001b[1;33m)\u001b[0m\u001b[1;33m\u001b[0m\u001b[1;33m\u001b[0m\u001b[0m\n\u001b[0m",
      "\u001b[1;32m~\\Documents\\GitHub\\ZanettaPM\\hyperspy\\hyperspy\\model.py\u001b[0m in \u001b[0;36mmultifit\u001b[1;34m(self, mask, fetch_only_fixed, autosave, autosave_every, show_progressbar, interactive_plot, **kwargs)\u001b[0m\n\u001b[0;32m   1514\u001b[0m                                 self.fetch_stored_values(\n\u001b[0;32m   1515\u001b[0m                                     only_fixed=fetch_only_fixed)\n\u001b[1;32m-> 1516\u001b[1;33m                                 \u001b[0mself\u001b[0m\u001b[1;33m.\u001b[0m\u001b[0mfit\u001b[0m\u001b[1;33m(\u001b[0m\u001b[1;33m**\u001b[0m\u001b[0mkwargs\u001b[0m\u001b[1;33m)\u001b[0m\u001b[1;33m\u001b[0m\u001b[1;33m\u001b[0m\u001b[0m\n\u001b[0m\u001b[0;32m   1517\u001b[0m                                 \u001b[0mi\u001b[0m \u001b[1;33m+=\u001b[0m \u001b[1;36m1\u001b[0m\u001b[1;33m\u001b[0m\u001b[1;33m\u001b[0m\u001b[0m\n\u001b[0;32m   1518\u001b[0m                                 \u001b[0mpbar\u001b[0m\u001b[1;33m.\u001b[0m\u001b[0mupdate\u001b[0m\u001b[1;33m(\u001b[0m\u001b[1;36m1\u001b[0m\u001b[1;33m)\u001b[0m\u001b[1;33m\u001b[0m\u001b[1;33m\u001b[0m\u001b[0m\n",
      "\u001b[1;32m~\\Documents\\GitHub\\ZanettaPM\\hyperspy\\hyperspy\\model.py\u001b[0m in \u001b[0;36mfit\u001b[1;34m(self, fitter, method, grad, bounded, ext_bounding, update_plot, **kwargs)\u001b[0m\n\u001b[0;32m   1357\u001b[0m \u001b[1;33m\u001b[0m\u001b[0m\n\u001b[0;32m   1358\u001b[0m             \u001b[1;32melif\u001b[0m \u001b[0mfitter\u001b[0m \u001b[1;33m==\u001b[0m \u001b[1;34m\"linear\"\u001b[0m\u001b[1;33m:\u001b[0m\u001b[1;33m\u001b[0m\u001b[1;33m\u001b[0m\u001b[0m\n\u001b[1;32m-> 1359\u001b[1;33m                 \u001b[0mself\u001b[0m\u001b[1;33m.\u001b[0m\u001b[0m_linear_fitting\u001b[0m\u001b[1;33m(\u001b[0m\u001b[0mbounded\u001b[0m\u001b[1;33m)\u001b[0m\u001b[1;33m\u001b[0m\u001b[1;33m\u001b[0m\u001b[0m\n\u001b[0m\u001b[0;32m   1360\u001b[0m             \u001b[1;32melse\u001b[0m\u001b[1;33m:\u001b[0m\u001b[1;33m\u001b[0m\u001b[1;33m\u001b[0m\u001b[0m\n\u001b[0;32m   1361\u001b[0m                 \u001b[1;31m# General optimizers\u001b[0m\u001b[1;33m\u001b[0m\u001b[1;33m\u001b[0m\u001b[1;33m\u001b[0m\u001b[0m\n",
      "\u001b[1;32m~\\Documents\\GitHub\\ZanettaPM\\hyperspy\\hyperspy\\model.py\u001b[0m in \u001b[0;36m_linear_fitting\u001b[1;34m(self, bounded)\u001b[0m\n\u001b[0;32m   1017\u001b[0m         \u001b[1;32mfor\u001b[0m \u001b[0mcomponent\u001b[0m \u001b[1;32min\u001b[0m \u001b[0mself\u001b[0m\u001b[1;33m:\u001b[0m\u001b[1;33m\u001b[0m\u001b[1;33m\u001b[0m\u001b[0m\n\u001b[0;32m   1018\u001b[0m             \u001b[1;32mif\u001b[0m \u001b[0mcomponent\u001b[0m\u001b[1;33m.\u001b[0m\u001b[0mactive\u001b[0m \u001b[1;32mand\u001b[0m \u001b[0mcomponent\u001b[0m \u001b[1;32mnot\u001b[0m \u001b[1;32min\u001b[0m \u001b[0mtwinned_components\u001b[0m\u001b[1;33m:\u001b[0m\u001b[1;33m\u001b[0m\u001b[1;33m\u001b[0m\u001b[0m\n\u001b[1;32m-> 1019\u001b[1;33m                 \u001b[0mappend_component\u001b[0m\u001b[1;33m(\u001b[0m\u001b[0mcomponent\u001b[0m\u001b[1;33m)\u001b[0m\u001b[1;33m\u001b[0m\u001b[1;33m\u001b[0m\u001b[0m\n\u001b[0m\u001b[0;32m   1020\u001b[0m \u001b[1;33m\u001b[0m\u001b[0m\n\u001b[0;32m   1021\u001b[0m         \u001b[0mcomp_data\u001b[0m \u001b[1;33m=\u001b[0m \u001b[0mcomp_data\u001b[0m \u001b[1;33m-\u001b[0m \u001b[0mcomp_data_constant_values\u001b[0m  \u001b[1;31m# the linear data\u001b[0m\u001b[1;33m\u001b[0m\u001b[1;33m\u001b[0m\u001b[0m\n",
      "\u001b[1;32m~\\Documents\\GitHub\\ZanettaPM\\hyperspy\\hyperspy\\model.py\u001b[0m in \u001b[0;36mappend_component\u001b[1;34m(component)\u001b[0m\n\u001b[0;32m    964\u001b[0m             \u001b[1;34m'Separate free and constant data for fitting'\u001b[0m\u001b[1;33m\u001b[0m\u001b[1;33m\u001b[0m\u001b[0m\n\u001b[0;32m    965\u001b[0m             \u001b[1;32mif\u001b[0m \u001b[0mcomponent\u001b[0m \u001b[1;32mnot\u001b[0m \u001b[1;32min\u001b[0m \u001b[0mtwinned_components\u001b[0m\u001b[1;33m:\u001b[0m\u001b[1;33m\u001b[0m\u001b[1;33m\u001b[0m\u001b[0m\n\u001b[1;32m--> 966\u001b[1;33m                 \u001b[0m_append_component\u001b[0m\u001b[1;33m(\u001b[0m\u001b[0mcomponent\u001b[0m\u001b[1;33m)\u001b[0m\u001b[1;33m\u001b[0m\u001b[1;33m\u001b[0m\u001b[0m\n\u001b[0m\u001b[0;32m    967\u001b[0m                 \u001b[1;32mif\u001b[0m \u001b[0mcomponent\u001b[0m \u001b[1;32min\u001b[0m \u001b[0mtwinned_components_parents\u001b[0m\u001b[1;33m:\u001b[0m\u001b[1;33m\u001b[0m\u001b[1;33m\u001b[0m\u001b[0m\n\u001b[0;32m    968\u001b[0m                     \u001b[0madd_twins\u001b[0m\u001b[1;33m(\u001b[0m\u001b[0mcomponent\u001b[0m\u001b[1;33m)\u001b[0m\u001b[1;33m\u001b[0m\u001b[1;33m\u001b[0m\u001b[0m\n",
      "\u001b[1;32m~\\Documents\\GitHub\\ZanettaPM\\hyperspy\\hyperspy\\model.py\u001b[0m in \u001b[0;36m_append_component\u001b[1;34m(component)\u001b[0m\n\u001b[0;32m    916\u001b[0m                 \u001b[0mindex\u001b[0m \u001b[1;33m=\u001b[0m \u001b[0mp0_index_from_component\u001b[0m\u001b[1;33m(\u001b[0m\u001b[0mcomponent\u001b[0m\u001b[1;33m)\u001b[0m\u001b[1;33m\u001b[0m\u001b[1;33m\u001b[0m\u001b[0m\n\u001b[0;32m    917\u001b[0m                 \u001b[1;32mif\u001b[0m \u001b[0mlen\u001b[0m\u001b[1;33m(\u001b[0m\u001b[0mcomponent\u001b[0m\u001b[1;33m.\u001b[0m\u001b[0mfree_parameters\u001b[0m\u001b[1;33m)\u001b[0m \u001b[1;33m<\u001b[0m \u001b[1;36m2\u001b[0m\u001b[1;33m:\u001b[0m\u001b[1;33m\u001b[0m\u001b[1;33m\u001b[0m\u001b[0m\n\u001b[1;32m--> 918\u001b[1;33m                     \u001b[0mCOMP\u001b[0m \u001b[1;33m=\u001b[0m \u001b[0mcomponent\u001b[0m\u001b[1;33m.\u001b[0m\u001b[0m_compute_component\u001b[0m\u001b[1;33m(\u001b[0m\u001b[1;33m)\u001b[0m\u001b[1;33m\u001b[0m\u001b[1;33m\u001b[0m\u001b[0m\n\u001b[0m\u001b[0;32m    919\u001b[0m                     \u001b[0mCONST\u001b[0m \u001b[1;33m=\u001b[0m \u001b[0mcomponent\u001b[0m\u001b[1;33m.\u001b[0m\u001b[0m_compute_constant_term\u001b[0m\u001b[1;33m(\u001b[0m\u001b[1;33m)\u001b[0m\u001b[1;33m\u001b[0m\u001b[1;33m\u001b[0m\u001b[0m\n\u001b[0;32m    920\u001b[0m                     \u001b[0mcomp_data\u001b[0m\u001b[1;33m[\u001b[0m\u001b[0mindex\u001b[0m\u001b[1;33m]\u001b[0m \u001b[1;33m+=\u001b[0m \u001b[0mCOMP\u001b[0m \u001b[1;33m-\u001b[0m \u001b[0mCONST\u001b[0m\u001b[1;33m\u001b[0m\u001b[1;33m\u001b[0m\u001b[0m\n",
      "\u001b[1;32m~\\Documents\\GitHub\\ZanettaPM\\hyperspy\\hyperspy\\component.py\u001b[0m in \u001b[0;36m_compute_component\u001b[1;34m(self)\u001b[0m\n\u001b[0;32m   1212\u001b[0m         \u001b[1;32melse\u001b[0m\u001b[1;33m:\u001b[0m\u001b[1;33m\u001b[0m\u001b[1;33m\u001b[0m\u001b[0m\n\u001b[0;32m   1213\u001b[0m             \u001b[0maxes\u001b[0m \u001b[1;33m=\u001b[0m \u001b[1;33m[\u001b[0m\u001b[0max\u001b[0m\u001b[1;33m.\u001b[0m\u001b[0maxis\u001b[0m \u001b[1;32mfor\u001b[0m \u001b[0max\u001b[0m \u001b[1;32min\u001b[0m \u001b[0mmodel\u001b[0m\u001b[1;33m.\u001b[0m\u001b[0maxes_manager\u001b[0m\u001b[1;33m.\u001b[0m\u001b[0msignal_axes\u001b[0m\u001b[1;33m]\u001b[0m\u001b[1;33m\u001b[0m\u001b[1;33m\u001b[0m\u001b[0m\n\u001b[1;32m-> 1214\u001b[1;33m             \u001b[0mmesh\u001b[0m \u001b[1;33m=\u001b[0m \u001b[0mnp\u001b[0m\u001b[1;33m.\u001b[0m\u001b[0mmeshgrid\u001b[0m\u001b[1;33m(\u001b[0m\u001b[1;33m*\u001b[0m\u001b[0maxes\u001b[0m\u001b[1;33m)\u001b[0m\u001b[1;33m\u001b[0m\u001b[1;33m\u001b[0m\u001b[0m\n\u001b[0m\u001b[0;32m   1215\u001b[0m             \u001b[0mnot_convolved\u001b[0m \u001b[1;33m=\u001b[0m \u001b[0mself\u001b[0m\u001b[1;33m.\u001b[0m\u001b[0mfunction\u001b[0m\u001b[1;33m(\u001b[0m\u001b[1;33m*\u001b[0m\u001b[0mmesh\u001b[0m\u001b[1;33m)\u001b[0m\u001b[1;33m\u001b[0m\u001b[1;33m\u001b[0m\u001b[0m\n\u001b[0;32m   1216\u001b[0m             \u001b[0mdata\u001b[0m \u001b[1;33m=\u001b[0m \u001b[0mnot_convolved\u001b[0m\u001b[1;33m\u001b[0m\u001b[1;33m\u001b[0m\u001b[0m\n",
      "\u001b[1;32mC:\\ProgramData\\Anaconda3\\lib\\site-packages\\numpy\\lib\\function_base.py\u001b[0m in \u001b[0;36mmeshgrid\u001b[1;34m(*xi, **kwargs)\u001b[0m\n\u001b[0;32m   4209\u001b[0m \u001b[1;33m\u001b[0m\u001b[0m\n\u001b[0;32m   4210\u001b[0m     \u001b[1;32mif\u001b[0m \u001b[0mcopy_\u001b[0m\u001b[1;33m:\u001b[0m\u001b[1;33m\u001b[0m\u001b[1;33m\u001b[0m\u001b[0m\n\u001b[1;32m-> 4211\u001b[1;33m         \u001b[0moutput\u001b[0m \u001b[1;33m=\u001b[0m \u001b[1;33m[\u001b[0m\u001b[0mx\u001b[0m\u001b[1;33m.\u001b[0m\u001b[0mcopy\u001b[0m\u001b[1;33m(\u001b[0m\u001b[1;33m)\u001b[0m \u001b[1;32mfor\u001b[0m \u001b[0mx\u001b[0m \u001b[1;32min\u001b[0m \u001b[0moutput\u001b[0m\u001b[1;33m]\u001b[0m\u001b[1;33m\u001b[0m\u001b[1;33m\u001b[0m\u001b[0m\n\u001b[0m\u001b[0;32m   4212\u001b[0m \u001b[1;33m\u001b[0m\u001b[0m\n\u001b[0;32m   4213\u001b[0m     \u001b[1;32mreturn\u001b[0m \u001b[0moutput\u001b[0m\u001b[1;33m\u001b[0m\u001b[1;33m\u001b[0m\u001b[0m\n",
      "\u001b[1;32mC:\\ProgramData\\Anaconda3\\lib\\site-packages\\numpy\\lib\\function_base.py\u001b[0m in \u001b[0;36m<listcomp>\u001b[1;34m(.0)\u001b[0m\n\u001b[0;32m   4209\u001b[0m \u001b[1;33m\u001b[0m\u001b[0m\n\u001b[0;32m   4210\u001b[0m     \u001b[1;32mif\u001b[0m \u001b[0mcopy_\u001b[0m\u001b[1;33m:\u001b[0m\u001b[1;33m\u001b[0m\u001b[1;33m\u001b[0m\u001b[0m\n\u001b[1;32m-> 4211\u001b[1;33m         \u001b[0moutput\u001b[0m \u001b[1;33m=\u001b[0m \u001b[1;33m[\u001b[0m\u001b[0mx\u001b[0m\u001b[1;33m.\u001b[0m\u001b[0mcopy\u001b[0m\u001b[1;33m(\u001b[0m\u001b[1;33m)\u001b[0m \u001b[1;32mfor\u001b[0m \u001b[0mx\u001b[0m \u001b[1;32min\u001b[0m \u001b[0moutput\u001b[0m\u001b[1;33m]\u001b[0m\u001b[1;33m\u001b[0m\u001b[1;33m\u001b[0m\u001b[0m\n\u001b[0m\u001b[0;32m   4212\u001b[0m \u001b[1;33m\u001b[0m\u001b[0m\n\u001b[0;32m   4213\u001b[0m     \u001b[1;32mreturn\u001b[0m \u001b[0moutput\u001b[0m\u001b[1;33m\u001b[0m\u001b[1;33m\u001b[0m\u001b[0m\n",
      "\u001b[1;31mKeyboardInterrupt\u001b[0m: "
     ]
    }
   ],
   "source": [
    "\n",
    "m.set_parameters_value('A',1)\n",
    "m.multifit(fitter='linear',bounded=True,grad=True)"
   ]
  },
  {
   "cell_type": "code",
   "execution_count": 67,
   "metadata": {},
   "outputs": [],
   "source": [
    "m.plot(plot_components=True)"
   ]
  },
  {
   "cell_type": "markdown",
   "metadata": {},
   "source": [
    "We extract the different elementary map in order to use clustering methods to classify pixel of composition fields\n",
    "Here we plot the Mg map corresponding to the integrated peak after the background removing"
   ]
  },
  {
   "cell_type": "code",
   "execution_count": 68,
   "metadata": {},
   "outputs": [
    {
     "data": {
      "text/plain": [
       "<matplotlib.colorbar.Colorbar at 0x24302ee6108>"
      ]
     },
     "execution_count": 68,
     "metadata": {},
     "output_type": "execute_result"
    }
   ],
   "source": [
    "elemap=m.get_lines_intensity()\n",
    "plt.figure()\n",
    "plt.imshow(elemap[5],cmap='jet')\n",
    "plt.title('Mg map, background corrected, in number of counts')\n",
    "plt.colorbar()"
   ]
  },
  {
   "cell_type": "code",
   "execution_count": 37,
   "metadata": {
    "collapsed": true
   },
   "outputs": [],
   "source": [
    "a=s.metadata.Sample.xray_lines"
   ]
  },
  {
   "cell_type": "code",
   "execution_count": 42,
   "metadata": {
    "collapsed": true
   },
   "outputs": [],
   "source": [
    "for i in range(0,len(elemap)):\n",
    "    b=elemap[i]\n",
    "    b=np.float32(b)\n",
    "    tiff.imsave('C:\\Users\\Pierre-Marie\\Documents\\GitHub\\TEM-Phase-map-exemple---Paris-meteorite\\elemap\\ ' + a[i] + '.tif',(b))\n",
    "    np.savetxt('C:\\Users\\Pierre-Marie\\Documents\\GitHub\\TEM-Phase-map-exemple---Paris-meteorite\\elemap\\ ' + a[i] + '.txt',(b))"
   ]
  },
  {
   "cell_type": "code",
   "execution_count": 14,
   "metadata": {
    "collapsed": true
   },
   "outputs": [],
   "source": [
    "m.load_parameters_from_file('model.npz')"
   ]
  },
  {
   "cell_type": "code",
   "execution_count": 20,
   "metadata": {
    "collapsed": true
   },
   "outputs": [],
   "source": [
    "m.save_parameters2file('model')"
   ]
  },
  {
   "cell_type": "markdown",
   "metadata": {},
   "source": [
    "## 2. Mineral map and MLLS procedure <a class=\"anchor\" id=\"second-bullet\"></a>\n",
    "\n",
    "A simple phase map is first obtained using XmapTools software based on the elemental map extracted above. This procedure is used to find the differente phases. It is not obligatory but help to get a final map faster.\n",
    "\n",
    "Clustering methods exist in python and have been proposed into hyperspy: \n",
    "https://github.com/hyperspy/hyperspy/pull/1353\n",
    "\n",
    "Here to continue the example, a file containing the value of the map is provided in the repository of this tutorial"
   ]
  },
  {
   "cell_type": "code",
   "execution_count": 70,
   "metadata": {},
   "outputs": [],
   "source": [
    "carto=np.loadtxt('Map.txt')"
   ]
  },
  {
   "cell_type": "code",
   "execution_count": 71,
   "metadata": {},
   "outputs": [],
   "source": [
    "phases=['Al-rich_amorphous','Holes','Carbonates', 'Chromite', 'Platinium', 'FeS', 'Fib_boundary2','Pyroxene ','Fayalite','Fe_amorphous','Pentlandite','Mg_amorphous','Olivine']"
   ]
  },
  {
   "cell_type": "markdown",
   "metadata": {},
   "source": [
    "We first plot the phase map"
   ]
  },
  {
   "cell_type": "code",
   "execution_count": 72,
   "metadata": {},
   "outputs": [],
   "source": [
    "N=len(phases)"
   ]
  },
  {
   "cell_type": "code",
   "execution_count": 73,
   "metadata": {},
   "outputs": [
    {
     "name": "stderr",
     "output_type": "stream",
     "text": [
      "Traceback (most recent call last):\n",
      "  File \"C:\\ProgramData\\Anaconda3\\lib\\site-packages\\matplotlib\\backends\\backend_qt5.py\", line 505, in _draw_idle\n",
      "    self.draw()\n",
      "  File \"C:\\ProgramData\\Anaconda3\\lib\\site-packages\\matplotlib\\backends\\backend_agg.py\", line 388, in draw\n",
      "    self.figure.draw(self.renderer)\n",
      "  File \"C:\\ProgramData\\Anaconda3\\lib\\site-packages\\matplotlib\\artist.py\", line 38, in draw_wrapper\n",
      "    return draw(artist, renderer, *args, **kwargs)\n",
      "  File \"C:\\ProgramData\\Anaconda3\\lib\\site-packages\\matplotlib\\figure.py\", line 1709, in draw\n",
      "    renderer, self, artists, self.suppressComposite)\n",
      "  File \"C:\\ProgramData\\Anaconda3\\lib\\site-packages\\matplotlib\\image.py\", line 135, in _draw_list_compositing_images\n",
      "    a.draw(renderer)\n",
      "  File \"C:\\ProgramData\\Anaconda3\\lib\\site-packages\\matplotlib\\artist.py\", line 38, in draw_wrapper\n",
      "    return draw(artist, renderer, *args, **kwargs)\n",
      "  File \"C:\\ProgramData\\Anaconda3\\lib\\site-packages\\matplotlib\\axes\\_base.py\", line 2647, in draw\n",
      "    mimage._draw_list_compositing_images(renderer, self, artists)\n",
      "  File \"C:\\ProgramData\\Anaconda3\\lib\\site-packages\\matplotlib\\image.py\", line 135, in _draw_list_compositing_images\n",
      "    a.draw(renderer)\n",
      "  File \"C:\\ProgramData\\Anaconda3\\lib\\site-packages\\matplotlib\\artist.py\", line 38, in draw_wrapper\n",
      "    return draw(artist, renderer, *args, **kwargs)\n",
      "  File \"C:\\ProgramData\\Anaconda3\\lib\\site-packages\\matplotlib\\axis.py\", line 1203, in draw\n",
      "    ticks_to_draw = self._update_ticks()\n",
      "  File \"C:\\ProgramData\\Anaconda3\\lib\\site-packages\\matplotlib\\axis.py\", line 1142, in _update_ticks\n",
      "    if mtransforms._interval_contains_close(interval_t, loc_t):\n",
      "  File \"C:\\ProgramData\\Anaconda3\\lib\\site-packages\\matplotlib\\transforms.py\", line 2891, in _interval_contains_close\n",
      "    return a - rtol <= val <= b + rtol\n",
      "ValueError: The truth value of an array with more than one element is ambiguous. Use a.any() or a.all()\n",
      "Traceback (most recent call last):\n",
      "  File \"C:\\ProgramData\\Anaconda3\\lib\\site-packages\\matplotlib\\backends\\backend_qt5.py\", line 505, in _draw_idle\n",
      "    self.draw()\n",
      "  File \"C:\\ProgramData\\Anaconda3\\lib\\site-packages\\matplotlib\\backends\\backend_agg.py\", line 388, in draw\n",
      "    self.figure.draw(self.renderer)\n",
      "  File \"C:\\ProgramData\\Anaconda3\\lib\\site-packages\\matplotlib\\artist.py\", line 38, in draw_wrapper\n",
      "    return draw(artist, renderer, *args, **kwargs)\n",
      "  File \"C:\\ProgramData\\Anaconda3\\lib\\site-packages\\matplotlib\\figure.py\", line 1709, in draw\n",
      "    renderer, self, artists, self.suppressComposite)\n",
      "  File \"C:\\ProgramData\\Anaconda3\\lib\\site-packages\\matplotlib\\image.py\", line 135, in _draw_list_compositing_images\n",
      "    a.draw(renderer)\n",
      "  File \"C:\\ProgramData\\Anaconda3\\lib\\site-packages\\matplotlib\\artist.py\", line 38, in draw_wrapper\n",
      "    return draw(artist, renderer, *args, **kwargs)\n",
      "  File \"C:\\ProgramData\\Anaconda3\\lib\\site-packages\\matplotlib\\axes\\_base.py\", line 2647, in draw\n",
      "    mimage._draw_list_compositing_images(renderer, self, artists)\n",
      "  File \"C:\\ProgramData\\Anaconda3\\lib\\site-packages\\matplotlib\\image.py\", line 135, in _draw_list_compositing_images\n",
      "    a.draw(renderer)\n",
      "  File \"C:\\ProgramData\\Anaconda3\\lib\\site-packages\\matplotlib\\artist.py\", line 38, in draw_wrapper\n",
      "    return draw(artist, renderer, *args, **kwargs)\n",
      "  File \"C:\\ProgramData\\Anaconda3\\lib\\site-packages\\matplotlib\\axis.py\", line 1203, in draw\n",
      "    ticks_to_draw = self._update_ticks()\n",
      "  File \"C:\\ProgramData\\Anaconda3\\lib\\site-packages\\matplotlib\\axis.py\", line 1142, in _update_ticks\n",
      "    if mtransforms._interval_contains_close(interval_t, loc_t):\n",
      "  File \"C:\\ProgramData\\Anaconda3\\lib\\site-packages\\matplotlib\\transforms.py\", line 2891, in _interval_contains_close\n",
      "    return a - rtol <= val <= b + rtol\n",
      "ValueError: The truth value of an array with more than one element is ambiguous. Use a.any() or a.all()\n"
     ]
    }
   ],
   "source": [
    "plt.figure()\n",
    "plt.imshow(carto,plt.get_cmap('jet', N))\n",
    "cb = plt.colorbar()\n",
    "\n",
    "ticks = [1.5]\n",
    "for i in range(len(phases)-1):\n",
    "    ticks.append(0)\n",
    "    ticks[i+1]=ticks[i]+(N-2)/(N-1)\n",
    "ticks\n",
    "\n",
    "cb.set_ticks([ticks])\n",
    "cb.set_ticklabels(phases)\n"
   ]
  },
  {
   "cell_type": "code",
   "execution_count": 13,
   "metadata": {},
   "outputs": [],
   "source": [
    "s.plot(True)"
   ]
  },
  {
   "cell_type": "code",
   "execution_count": 74,
   "metadata": {},
   "outputs": [
    {
     "data": {
      "text/plain": [
       "(132, 152)"
      ]
     },
     "execution_count": 74,
     "metadata": {},
     "output_type": "execute_result"
    }
   ],
   "source": [
    "carto.shape"
   ]
  },
  {
   "cell_type": "code",
   "execution_count": 75,
   "metadata": {},
   "outputs": [
    {
     "data": {
      "text/html": [
       "<style>\n",
       "table, th, td {\n",
       "\tborder: 1px solid black;\n",
       "\tborder-collapse: collapse;\n",
       "}\n",
       "th, td {\n",
       "\tpadding: 5px;\n",
       "}\n",
       "</style>\n",
       "<p><b>< Axes manager, axes: (152, 132|492) ></b></p>\n",
       "<table style='width:100%'>\n",
       "\n",
       "<tr> \n",
       "<th>Navigation axis name</th> \n",
       "<th>size</th> \n",
       "<th>index</th> \n",
       "<th>offset</th> \n",
       "<th>scale</th> \n",
       "<th>units</th> </tr>\n",
       "<tr> \n",
       "<td>x</td> \n",
       "<td>152</td> \n",
       "<td>61</td> \n",
       "<td>-0.004493096408815524</td> \n",
       "<td>0.05144766880323119</td> \n",
       "<td>um</td> </tr>\n",
       "<tr> \n",
       "<td>y</td> \n",
       "<td>132</td> \n",
       "<td>39</td> \n",
       "<td>0.0009346326499253669</td> \n",
       "<td>0.05144766880323119</td> \n",
       "<td>um</td> </tr></table>\n",
       "<table style='width:100%'>\n",
       "\n",
       "<tr> \n",
       "<th>Signal axis name</th> \n",
       "<th>size</th> \n",
       "<th>offset</th> \n",
       "<th>scale</th> \n",
       "<th>units</th> </tr>\n",
       "<tr> \n",
       "<td>X-ray energy</td> \n",
       "<td>492</td> \n",
       "<td>0.16704193</td> \n",
       "<td>0.02</td> \n",
       "<td>keV</td> </tr></table>\n"
      ],
      "text/plain": [
       "<Axes manager, axes: (152, 132|492)>\n",
       "            Name |   size |  index |  offset |   scale |  units \n",
       "================ | ====== | ====== | ======= | ======= | ====== \n",
       "               x |    152 |     61 | -0.0045 |   0.051 |     um \n",
       "               y |    132 |     39 | 0.00093 |   0.051 |     um \n",
       "---------------- | ------ | ------ | ------- | ------- | ------ \n",
       "    X-ray energy |    492 |        |    0.17 |    0.02 |    keV "
      ]
     },
     "execution_count": 75,
     "metadata": {},
     "output_type": "execute_result"
    }
   ],
   "source": [
    "s.axes_manager"
   ]
  },
  {
   "cell_type": "code",
   "execution_count": 76,
   "metadata": {},
   "outputs": [
    {
     "data": {
      "text/plain": [
       "(132, 152)"
      ]
     },
     "execution_count": 76,
     "metadata": {},
     "output_type": "execute_result"
    }
   ],
   "source": [
    "carto.shape"
   ]
  },
  {
   "cell_type": "markdown",
   "metadata": {},
   "source": [
    "We create a new model that will contain the refence spectra of the MLLS procedure"
   ]
  },
  {
   "cell_type": "code",
   "execution_count": 77,
   "metadata": {},
   "outputs": [],
   "source": [
    "m2 = s.create_model(False,False)"
   ]
  },
  {
   "cell_type": "markdown",
   "metadata": {},
   "source": [
    "Ideally we use selected spectrum from the reference grains. Here a simple mean spectrum from all pixels of each phase is calculated"
   ]
  },
  {
   "cell_type": "code",
   "execution_count": 78,
   "metadata": {},
   "outputs": [],
   "source": [
    "carto=np.array(carto.data)\n",
    "a=int(np.max(carto))\n",
    "Sref=np.zeros([a,m2._signal.axes_manager[-1].size])\n",
    "component=dict()\n",
    "for i in range (0,a):\n",
    "    s2=s.data[carto==i+1]\n",
    "    s2=hs.signals.EDSSEMSpectrum(s2)\n",
    "    s2=s2.mean()\n",
    "    s2.get_calibration_from(s) \n",
    "    s2.metadata=s.metadata \n",
    "    Sref[i]=s2\n",
    "    component[i]=s2\n",
    "Sref=hs.signals.EDSSEMSpectrum(Sref)\n",
    "Sref.get_calibration_from(s) \n",
    "Sref.metadata=s.metadata "
   ]
  },
  {
   "cell_type": "markdown",
   "metadata": {},
   "source": [
    "One of the reference spectrum is plotted"
   ]
  },
  {
   "cell_type": "markdown",
   "metadata": {},
   "source": [
    "We add the reference spectra as component of the new model"
   ]
  },
  {
   "cell_type": "code",
   "execution_count": 79,
   "metadata": {},
   "outputs": [],
   "source": [
    "Sref.plot(True)"
   ]
  },
  {
   "cell_type": "code",
   "execution_count": 80,
   "metadata": {},
   "outputs": [],
   "source": [
    "for i in range (0,a):\n",
    "    g=hs.model.components1D.ScalableFixedPattern(component[i])\n",
    "    m2.extend([g])"
   ]
  },
  {
   "cell_type": "code",
   "execution_count": 81,
   "metadata": {},
   "outputs": [
    {
     "data": {
      "text/plain": [
       "   # |      Attribute Name |      Component Name |      Component Type\n",
       "---- | ------------------- | ------------------- | -------------------\n",
       "   0 | ScalableFixedPatt.. | ScalableFixedPatt.. | ScalableFixedPatt..\n",
       "   1 | ScalableFixedPatt.. | ScalableFixedPatt.. | ScalableFixedPatt..\n",
       "   2 | ScalableFixedPatt.. | ScalableFixedPatt.. | ScalableFixedPatt..\n",
       "   3 | ScalableFixedPatt.. | ScalableFixedPatt.. | ScalableFixedPatt..\n",
       "   4 | ScalableFixedPatt.. | ScalableFixedPatt.. | ScalableFixedPatt..\n",
       "   5 | ScalableFixedPatt.. | ScalableFixedPatt.. | ScalableFixedPatt..\n",
       "   6 | ScalableFixedPatt.. | ScalableFixedPatt.. | ScalableFixedPatt..\n",
       "   7 | ScalableFixedPatt.. | ScalableFixedPatt.. | ScalableFixedPatt..\n",
       "   8 | ScalableFixedPatt.. | ScalableFixedPatt.. | ScalableFixedPatt..\n",
       "   9 | ScalableFixedPatt.. | ScalableFixedPatt.. | ScalableFixedPatt..\n",
       "  10 | ScalableFixedPatt.. | ScalableFixedPatt.. | ScalableFixedPatt..\n",
       "  11 | ScalableFixedPatt.. | ScalableFixedPatt.. | ScalableFixedPatt..\n",
       "  12 | ScalableFixedPatt.. | ScalableFixedPatt.. | ScalableFixedPatt.."
      ]
     },
     "execution_count": 81,
     "metadata": {},
     "output_type": "execute_result"
    }
   ],
   "source": [
    "m2.components"
   ]
  },
  {
   "cell_type": "markdown",
   "metadata": {},
   "source": [
    "The only free parameter is the Yscale, other are fixed. The yscale is bounded between 0 and 1 to obtain a percentage of the different phases"
   ]
  },
  {
   "cell_type": "code",
   "execution_count": 82,
   "metadata": {},
   "outputs": [],
   "source": [
    "for i in range (0,len(m2)):\n",
    "    m2.set_parameters_not_free([i], parameter_name_list=['xscale','shift'])\n",
    "    m2.set_parameters_value('yscale',value=0.1,component_list=[i])\n",
    "    m2[i].yscale.bmin=0\n",
    "    m2[i].yscale.bmax=1"
   ]
  },
  {
   "cell_type": "code",
   "execution_count": 83,
   "metadata": {},
   "outputs": [],
   "source": [
    "m2.load_parameters_from_file('model_mlls.npz')"
   ]
  },
  {
   "cell_type": "code",
   "execution_count": 17,
   "metadata": {
    "collapsed": true
   },
   "outputs": [
    {
     "data": {
      "application/vnd.jupyter.widget-view+json": {
       "model_id": "333d3bf06d6c4d50b0ff6bc36beaa245",
       "version_major": 2,
       "version_minor": 0
      },
      "text/plain": [
       "HBox(children=(IntProgress(value=0, max=20064), HTML(value='')))"
      ]
     },
     "metadata": {},
     "output_type": "display_data"
    },
    {
     "name": "stdout",
     "output_type": "stream",
     "text": [
      "\n"
     ]
    },
    {
     "ename": "KeyboardInterrupt",
     "evalue": "",
     "output_type": "error",
     "traceback": [
      "\u001b[1;31m---------------------------------------------------------------------------\u001b[0m",
      "\u001b[1;31mKeyboardInterrupt\u001b[0m                         Traceback (most recent call last)",
      "\u001b[1;32m<ipython-input-17-2ef1d03c8f5a>\u001b[0m in \u001b[0;36m<module>\u001b[1;34m()\u001b[0m\n\u001b[1;32m----> 1\u001b[1;33m \u001b[0mm2\u001b[0m\u001b[1;33m.\u001b[0m\u001b[0mmultifit\u001b[0m\u001b[1;33m(\u001b[0m\u001b[0mbounded\u001b[0m\u001b[1;33m=\u001b[0m\u001b[1;32mTrue\u001b[0m\u001b[1;33m,\u001b[0m \u001b[0mgrad\u001b[0m\u001b[1;33m=\u001b[0m\u001b[1;32mTrue\u001b[0m\u001b[1;33m)\u001b[0m\u001b[1;33m\u001b[0m\u001b[0m\n\u001b[0m",
      "\u001b[1;32mD://Users/Documents/GitHub/ZanettaPM/hyperspy/hyperspy\\model.py\u001b[0m in \u001b[0;36mmultifit\u001b[1;34m(self, mask, fetch_only_fixed, autosave, autosave_every, show_progressbar, interactive_plot, **kwargs)\u001b[0m\n\u001b[0;32m   1514\u001b[0m                                 self.fetch_stored_values(\n\u001b[0;32m   1515\u001b[0m                                     only_fixed=fetch_only_fixed)\n\u001b[1;32m-> 1516\u001b[1;33m                                 \u001b[0mself\u001b[0m\u001b[1;33m.\u001b[0m\u001b[0mfit\u001b[0m\u001b[1;33m(\u001b[0m\u001b[1;33m**\u001b[0m\u001b[0mkwargs\u001b[0m\u001b[1;33m)\u001b[0m\u001b[1;33m\u001b[0m\u001b[0m\n\u001b[0m\u001b[0;32m   1517\u001b[0m                                 \u001b[0mi\u001b[0m \u001b[1;33m+=\u001b[0m \u001b[1;36m1\u001b[0m\u001b[1;33m\u001b[0m\u001b[0m\n\u001b[0;32m   1518\u001b[0m                                 \u001b[0mpbar\u001b[0m\u001b[1;33m.\u001b[0m\u001b[0mupdate\u001b[0m\u001b[1;33m(\u001b[0m\u001b[1;36m1\u001b[0m\u001b[1;33m)\u001b[0m\u001b[1;33m\u001b[0m\u001b[0m\n",
      "\u001b[1;32mD://Users/Documents/GitHub/ZanettaPM/hyperspy/hyperspy\\model.py\u001b[0m in \u001b[0;36mfit\u001b[1;34m(self, fitter, method, grad, bounded, ext_bounding, update_plot, **kwargs)\u001b[0m\n\u001b[0;32m   1287\u001b[0m                     \u001b[0moutput\u001b[0m \u001b[1;33m=\u001b[0m\u001b[0;31m \u001b[0m\u001b[0;31m\\\u001b[0m\u001b[1;33m\u001b[0m\u001b[0m\n\u001b[0;32m   1288\u001b[0m                         least_squares(self._errfunc, self.p0[:],\n\u001b[1;32m-> 1289\u001b[1;33m                                       args=args, bounds=ls_b, **kwargs)\n\u001b[0m\u001b[0;32m   1290\u001b[0m                     \u001b[0mself\u001b[0m\u001b[1;33m.\u001b[0m\u001b[0mp0\u001b[0m \u001b[1;33m=\u001b[0m \u001b[0moutput\u001b[0m\u001b[1;33m.\u001b[0m\u001b[0mx\u001b[0m\u001b[1;33m\u001b[0m\u001b[0m\n\u001b[0;32m   1291\u001b[0m \u001b[1;33m\u001b[0m\u001b[0m\n",
      "\u001b[1;32mC:\\Anaconda3\\lib\\site-packages\\scipy\\optimize\\_lsq\\least_squares.py\u001b[0m in \u001b[0;36mleast_squares\u001b[1;34m(fun, x0, jac, bounds, method, ftol, xtol, gtol, x_scale, loss, f_scale, diff_step, tr_solver, tr_options, jac_sparsity, max_nfev, verbose, args, kwargs)\u001b[0m\n\u001b[0;32m    906\u001b[0m         result = trf(fun_wrapped, jac_wrapped, x0, f0, J0, lb, ub, ftol, xtol,\n\u001b[0;32m    907\u001b[0m                      \u001b[0mgtol\u001b[0m\u001b[1;33m,\u001b[0m \u001b[0mmax_nfev\u001b[0m\u001b[1;33m,\u001b[0m \u001b[0mx_scale\u001b[0m\u001b[1;33m,\u001b[0m \u001b[0mloss_function\u001b[0m\u001b[1;33m,\u001b[0m \u001b[0mtr_solver\u001b[0m\u001b[1;33m,\u001b[0m\u001b[1;33m\u001b[0m\u001b[0m\n\u001b[1;32m--> 908\u001b[1;33m                      tr_options.copy(), verbose)\n\u001b[0m\u001b[0;32m    909\u001b[0m \u001b[1;33m\u001b[0m\u001b[0m\n\u001b[0;32m    910\u001b[0m     \u001b[1;32melif\u001b[0m \u001b[0mmethod\u001b[0m \u001b[1;33m==\u001b[0m \u001b[1;34m'dogbox'\u001b[0m\u001b[1;33m:\u001b[0m\u001b[1;33m\u001b[0m\u001b[0m\n",
      "\u001b[1;32mC:\\Anaconda3\\lib\\site-packages\\scipy\\optimize\\_lsq\\trf.py\u001b[0m in \u001b[0;36mtrf\u001b[1;34m(fun, jac, x0, f0, J0, lb, ub, ftol, xtol, gtol, max_nfev, x_scale, loss_function, tr_solver, tr_options, verbose)\u001b[0m\n\u001b[0;32m    126\u001b[0m         return trf_bounds(\n\u001b[0;32m    127\u001b[0m             \u001b[0mfun\u001b[0m\u001b[1;33m,\u001b[0m \u001b[0mjac\u001b[0m\u001b[1;33m,\u001b[0m \u001b[0mx0\u001b[0m\u001b[1;33m,\u001b[0m \u001b[0mf0\u001b[0m\u001b[1;33m,\u001b[0m \u001b[0mJ0\u001b[0m\u001b[1;33m,\u001b[0m \u001b[0mlb\u001b[0m\u001b[1;33m,\u001b[0m \u001b[0mub\u001b[0m\u001b[1;33m,\u001b[0m \u001b[0mftol\u001b[0m\u001b[1;33m,\u001b[0m \u001b[0mxtol\u001b[0m\u001b[1;33m,\u001b[0m \u001b[0mgtol\u001b[0m\u001b[1;33m,\u001b[0m \u001b[0mmax_nfev\u001b[0m\u001b[1;33m,\u001b[0m \u001b[0mx_scale\u001b[0m\u001b[1;33m,\u001b[0m\u001b[1;33m\u001b[0m\u001b[0m\n\u001b[1;32m--> 128\u001b[1;33m             loss_function, tr_solver, tr_options, verbose)\n\u001b[0m\u001b[0;32m    129\u001b[0m \u001b[1;33m\u001b[0m\u001b[0m\n\u001b[0;32m    130\u001b[0m \u001b[1;33m\u001b[0m\u001b[0m\n",
      "\u001b[1;32mC:\\Anaconda3\\lib\\site-packages\\scipy\\optimize\\_lsq\\trf.py\u001b[0m in \u001b[0;36mtrf_bounds\u001b[1;34m(fun, jac, x0, f0, J0, lb, ub, ftol, xtol, gtol, max_nfev, x_scale, loss_function, tr_solver, tr_options, verbose)\u001b[0m\n\u001b[0;32m    380\u001b[0m             \u001b[0mcost\u001b[0m \u001b[1;33m=\u001b[0m \u001b[0mcost_new\u001b[0m\u001b[1;33m\u001b[0m\u001b[0m\n\u001b[0;32m    381\u001b[0m \u001b[1;33m\u001b[0m\u001b[0m\n\u001b[1;32m--> 382\u001b[1;33m             \u001b[0mJ\u001b[0m \u001b[1;33m=\u001b[0m \u001b[0mjac\u001b[0m\u001b[1;33m(\u001b[0m\u001b[0mx\u001b[0m\u001b[1;33m,\u001b[0m \u001b[0mf\u001b[0m\u001b[1;33m)\u001b[0m\u001b[1;33m\u001b[0m\u001b[0m\n\u001b[0m\u001b[0;32m    383\u001b[0m             \u001b[0mnjev\u001b[0m \u001b[1;33m+=\u001b[0m \u001b[1;36m1\u001b[0m\u001b[1;33m\u001b[0m\u001b[0m\n\u001b[0;32m    384\u001b[0m \u001b[1;33m\u001b[0m\u001b[0m\n",
      "\u001b[1;32mC:\\Anaconda3\\lib\\site-packages\\scipy\\optimize\\_lsq\\least_squares.py\u001b[0m in \u001b[0;36mjac_wrapped\u001b[1;34m(x, f)\u001b[0m\n\u001b[0;32m    864\u001b[0m                 J = approx_derivative(fun, x, rel_step=diff_step, method=jac,\n\u001b[0;32m    865\u001b[0m                                       \u001b[0mf0\u001b[0m\u001b[1;33m=\u001b[0m\u001b[0mf\u001b[0m\u001b[1;33m,\u001b[0m \u001b[0mbounds\u001b[0m\u001b[1;33m=\u001b[0m\u001b[0mbounds\u001b[0m\u001b[1;33m,\u001b[0m \u001b[0margs\u001b[0m\u001b[1;33m=\u001b[0m\u001b[0margs\u001b[0m\u001b[1;33m,\u001b[0m\u001b[1;33m\u001b[0m\u001b[0m\n\u001b[1;32m--> 866\u001b[1;33m                                       kwargs=kwargs, sparsity=jac_sparsity)\n\u001b[0m\u001b[0;32m    867\u001b[0m                 \u001b[1;32mif\u001b[0m \u001b[0mJ\u001b[0m\u001b[1;33m.\u001b[0m\u001b[0mndim\u001b[0m \u001b[1;33m!=\u001b[0m \u001b[1;36m2\u001b[0m\u001b[1;33m:\u001b[0m  \u001b[1;31m# J is guaranteed not sparse.\u001b[0m\u001b[1;33m\u001b[0m\u001b[0m\n\u001b[0;32m    868\u001b[0m                     \u001b[0mJ\u001b[0m \u001b[1;33m=\u001b[0m \u001b[0mnp\u001b[0m\u001b[1;33m.\u001b[0m\u001b[0matleast_2d\u001b[0m\u001b[1;33m(\u001b[0m\u001b[0mJ\u001b[0m\u001b[1;33m)\u001b[0m\u001b[1;33m\u001b[0m\u001b[0m\n",
      "\u001b[1;32mC:\\Anaconda3\\lib\\site-packages\\scipy\\optimize\\_numdiff.py\u001b[0m in \u001b[0;36mapprox_derivative\u001b[1;34m(fun, x0, method, rel_step, f0, bounds, sparsity, as_linear_operator, args, kwargs)\u001b[0m\n\u001b[0;32m    382\u001b[0m         \u001b[1;32mif\u001b[0m \u001b[0msparsity\u001b[0m \u001b[1;32mis\u001b[0m \u001b[1;32mNone\u001b[0m\u001b[1;33m:\u001b[0m\u001b[1;33m\u001b[0m\u001b[0m\n\u001b[0;32m    383\u001b[0m             return _dense_difference(fun_wrapped, x0, f0, h,\n\u001b[1;32m--> 384\u001b[1;33m                                      use_one_sided, method)\n\u001b[0m\u001b[0;32m    385\u001b[0m         \u001b[1;32melse\u001b[0m\u001b[1;33m:\u001b[0m\u001b[1;33m\u001b[0m\u001b[0m\n\u001b[0;32m    386\u001b[0m             \u001b[1;32mif\u001b[0m \u001b[1;32mnot\u001b[0m \u001b[0missparse\u001b[0m\u001b[1;33m(\u001b[0m\u001b[0msparsity\u001b[0m\u001b[1;33m)\u001b[0m \u001b[1;32mand\u001b[0m \u001b[0mlen\u001b[0m\u001b[1;33m(\u001b[0m\u001b[0msparsity\u001b[0m\u001b[1;33m)\u001b[0m \u001b[1;33m==\u001b[0m \u001b[1;36m2\u001b[0m\u001b[1;33m:\u001b[0m\u001b[1;33m\u001b[0m\u001b[0m\n",
      "\u001b[1;32mC:\\Anaconda3\\lib\\site-packages\\scipy\\optimize\\_numdiff.py\u001b[0m in \u001b[0;36m_dense_difference\u001b[1;34m(fun, x0, f0, h, use_one_sided, method)\u001b[0m\n\u001b[0;32m    452\u001b[0m             \u001b[0mx\u001b[0m \u001b[1;33m=\u001b[0m \u001b[0mx0\u001b[0m \u001b[1;33m+\u001b[0m \u001b[0mh_vecs\u001b[0m\u001b[1;33m[\u001b[0m\u001b[0mi\u001b[0m\u001b[1;33m]\u001b[0m\u001b[1;33m\u001b[0m\u001b[0m\n\u001b[0;32m    453\u001b[0m             \u001b[0mdx\u001b[0m \u001b[1;33m=\u001b[0m \u001b[0mx\u001b[0m\u001b[1;33m[\u001b[0m\u001b[0mi\u001b[0m\u001b[1;33m]\u001b[0m \u001b[1;33m-\u001b[0m \u001b[0mx0\u001b[0m\u001b[1;33m[\u001b[0m\u001b[0mi\u001b[0m\u001b[1;33m]\u001b[0m  \u001b[1;31m# Recompute dx as exactly representable number.\u001b[0m\u001b[1;33m\u001b[0m\u001b[0m\n\u001b[1;32m--> 454\u001b[1;33m             \u001b[0mdf\u001b[0m \u001b[1;33m=\u001b[0m \u001b[0mfun\u001b[0m\u001b[1;33m(\u001b[0m\u001b[0mx\u001b[0m\u001b[1;33m)\u001b[0m \u001b[1;33m-\u001b[0m \u001b[0mf0\u001b[0m\u001b[1;33m\u001b[0m\u001b[0m\n\u001b[0m\u001b[0;32m    455\u001b[0m         \u001b[1;32melif\u001b[0m \u001b[0mmethod\u001b[0m \u001b[1;33m==\u001b[0m \u001b[1;34m'3-point'\u001b[0m \u001b[1;32mand\u001b[0m \u001b[0muse_one_sided\u001b[0m\u001b[1;33m[\u001b[0m\u001b[0mi\u001b[0m\u001b[1;33m]\u001b[0m\u001b[1;33m:\u001b[0m\u001b[1;33m\u001b[0m\u001b[0m\n\u001b[0;32m    456\u001b[0m             \u001b[0mx1\u001b[0m \u001b[1;33m=\u001b[0m \u001b[0mx0\u001b[0m \u001b[1;33m+\u001b[0m \u001b[0mh_vecs\u001b[0m\u001b[1;33m[\u001b[0m\u001b[0mi\u001b[0m\u001b[1;33m]\u001b[0m\u001b[1;33m\u001b[0m\u001b[0m\n",
      "\u001b[1;32mC:\\Anaconda3\\lib\\site-packages\\scipy\\optimize\\_numdiff.py\u001b[0m in \u001b[0;36mfun_wrapped\u001b[1;34m(x)\u001b[0m\n\u001b[0;32m    346\u001b[0m \u001b[1;33m\u001b[0m\u001b[0m\n\u001b[0;32m    347\u001b[0m     \u001b[1;32mdef\u001b[0m \u001b[0mfun_wrapped\u001b[0m\u001b[1;33m(\u001b[0m\u001b[0mx\u001b[0m\u001b[1;33m)\u001b[0m\u001b[1;33m:\u001b[0m\u001b[1;33m\u001b[0m\u001b[0m\n\u001b[1;32m--> 348\u001b[1;33m         \u001b[0mf\u001b[0m \u001b[1;33m=\u001b[0m \u001b[0mnp\u001b[0m\u001b[1;33m.\u001b[0m\u001b[0matleast_1d\u001b[0m\u001b[1;33m(\u001b[0m\u001b[0mfun\u001b[0m\u001b[1;33m(\u001b[0m\u001b[0mx\u001b[0m\u001b[1;33m,\u001b[0m \u001b[1;33m*\u001b[0m\u001b[0margs\u001b[0m\u001b[1;33m,\u001b[0m \u001b[1;33m**\u001b[0m\u001b[0mkwargs\u001b[0m\u001b[1;33m)\u001b[0m\u001b[1;33m)\u001b[0m\u001b[1;33m\u001b[0m\u001b[0m\n\u001b[0m\u001b[0;32m    349\u001b[0m         \u001b[1;32mif\u001b[0m \u001b[0mf\u001b[0m\u001b[1;33m.\u001b[0m\u001b[0mndim\u001b[0m \u001b[1;33m>\u001b[0m \u001b[1;36m1\u001b[0m\u001b[1;33m:\u001b[0m\u001b[1;33m\u001b[0m\u001b[0m\n\u001b[0;32m    350\u001b[0m             raise RuntimeError(\"`fun` return value has \"\n",
      "\u001b[1;32mD://Users/Documents/GitHub/ZanettaPM/hyperspy/hyperspy\\models\\model1d.py\u001b[0m in \u001b[0;36m_errfunc\u001b[1;34m(self, param, y, weights)\u001b[0m\n\u001b[0;32m    431\u001b[0m         \u001b[1;32mif\u001b[0m \u001b[0mweights\u001b[0m \u001b[1;32mis\u001b[0m \u001b[1;32mNone\u001b[0m\u001b[1;33m:\u001b[0m\u001b[1;33m\u001b[0m\u001b[0m\n\u001b[0;32m    432\u001b[0m             \u001b[0mweights\u001b[0m \u001b[1;33m=\u001b[0m \u001b[1;36m1.\u001b[0m\u001b[1;33m\u001b[0m\u001b[0m\n\u001b[1;32m--> 433\u001b[1;33m         \u001b[0merrfunc\u001b[0m \u001b[1;33m=\u001b[0m \u001b[0mself\u001b[0m\u001b[1;33m.\u001b[0m\u001b[0m_model_function\u001b[0m\u001b[1;33m(\u001b[0m\u001b[0mparam\u001b[0m\u001b[1;33m)\u001b[0m \u001b[1;33m-\u001b[0m \u001b[0my\u001b[0m\u001b[1;33m\u001b[0m\u001b[0m\n\u001b[0m\u001b[0;32m    434\u001b[0m         \u001b[1;32mreturn\u001b[0m \u001b[0merrfunc\u001b[0m \u001b[1;33m*\u001b[0m \u001b[0mweights\u001b[0m\u001b[1;33m\u001b[0m\u001b[0m\n\u001b[0;32m    435\u001b[0m \u001b[1;33m\u001b[0m\u001b[0m\n",
      "\u001b[1;32mD://Users/Documents/GitHub/ZanettaPM/hyperspy/hyperspy\\model.py\u001b[0m in \u001b[0;36m_model_function\u001b[1;34m(self, param)\u001b[0m\n\u001b[0;32m    837\u001b[0m         \u001b[0mself\u001b[0m\u001b[1;33m.\u001b[0m\u001b[0mp0\u001b[0m \u001b[1;33m=\u001b[0m \u001b[0mparam\u001b[0m\u001b[1;33m\u001b[0m\u001b[0m\n\u001b[0;32m    838\u001b[0m         \u001b[0mself\u001b[0m\u001b[1;33m.\u001b[0m\u001b[0m_fetch_values_from_p0\u001b[0m\u001b[1;33m(\u001b[0m\u001b[1;33m)\u001b[0m\u001b[1;33m\u001b[0m\u001b[0m\n\u001b[1;32m--> 839\u001b[1;33m         \u001b[0mto_return\u001b[0m \u001b[1;33m=\u001b[0m \u001b[0mself\u001b[0m\u001b[1;33m.\u001b[0m\u001b[0m__call__\u001b[0m\u001b[1;33m(\u001b[0m\u001b[0mnon_convolved\u001b[0m\u001b[1;33m=\u001b[0m\u001b[1;32mFalse\u001b[0m\u001b[1;33m,\u001b[0m \u001b[0monlyactive\u001b[0m\u001b[1;33m=\u001b[0m\u001b[1;32mTrue\u001b[0m\u001b[1;33m)\u001b[0m\u001b[1;33m\u001b[0m\u001b[0m\n\u001b[0m\u001b[0;32m    840\u001b[0m         \u001b[1;32mreturn\u001b[0m \u001b[0mto_return\u001b[0m\u001b[1;33m\u001b[0m\u001b[0m\n\u001b[0;32m    841\u001b[0m \u001b[1;33m\u001b[0m\u001b[0m\n",
      "\u001b[1;32mD://Users/Documents/GitHub/ZanettaPM/hyperspy/hyperspy\\models\\model1d.py\u001b[0m in \u001b[0;36m__call__\u001b[1;34m(self, non_convolved, onlyactive, component_list)\u001b[0m\n\u001b[0;32m    408\u001b[0m             \u001b[0msum_\u001b[0m \u001b[1;33m=\u001b[0m \u001b[0mnp\u001b[0m\u001b[1;33m.\u001b[0m\u001b[0mzeros\u001b[0m\u001b[1;33m(\u001b[0m\u001b[0mlen\u001b[0m\u001b[1;33m(\u001b[0m\u001b[0maxis\u001b[0m\u001b[1;33m)\u001b[0m\u001b[1;33m)\u001b[0m\u001b[1;33m\u001b[0m\u001b[0m\n\u001b[0;32m    409\u001b[0m             \u001b[1;32mfor\u001b[0m \u001b[0mcomponent\u001b[0m \u001b[1;32min\u001b[0m \u001b[0mcomponent_list\u001b[0m\u001b[1;33m:\u001b[0m\u001b[1;33m\u001b[0m\u001b[0m\n\u001b[1;32m--> 410\u001b[1;33m                 \u001b[0msum_\u001b[0m \u001b[1;33m+=\u001b[0m \u001b[0mcomponent\u001b[0m\u001b[1;33m.\u001b[0m\u001b[0mfunction\u001b[0m\u001b[1;33m(\u001b[0m\u001b[0maxis\u001b[0m\u001b[1;33m)\u001b[0m\u001b[1;33m\u001b[0m\u001b[0m\n\u001b[0m\u001b[0;32m    411\u001b[0m             \u001b[0mto_return\u001b[0m \u001b[1;33m=\u001b[0m \u001b[0msum_\u001b[0m\u001b[1;33m\u001b[0m\u001b[0m\n\u001b[0;32m    412\u001b[0m \u001b[1;33m\u001b[0m\u001b[0m\n",
      "\u001b[1;32mD://Users/Documents/GitHub/ZanettaPM/hyperspy/hyperspy\\_components\\scalable_fixed_pattern.py\u001b[0m in \u001b[0;36mfunction\u001b[1;34m(self, x)\u001b[0m\n\u001b[0;32m    122\u001b[0m         \u001b[1;32mif\u001b[0m \u001b[0mself\u001b[0m\u001b[1;33m.\u001b[0m\u001b[0minterpolate\u001b[0m \u001b[1;32mis\u001b[0m \u001b[1;32mTrue\u001b[0m\u001b[1;33m:\u001b[0m\u001b[1;33m\u001b[0m\u001b[0m\n\u001b[0;32m    123\u001b[0m             result = self.yscale.value * self.f(\n\u001b[1;32m--> 124\u001b[1;33m                 x * self.xscale.value - self.shift.value)\n\u001b[0m\u001b[0;32m    125\u001b[0m         \u001b[1;32melse\u001b[0m\u001b[1;33m:\u001b[0m\u001b[1;33m\u001b[0m\u001b[0m\n\u001b[0;32m    126\u001b[0m             \u001b[0mresult\u001b[0m \u001b[1;33m=\u001b[0m \u001b[0mself\u001b[0m\u001b[1;33m.\u001b[0m\u001b[0myscale\u001b[0m\u001b[1;33m.\u001b[0m\u001b[0mvalue\u001b[0m \u001b[1;33m*\u001b[0m \u001b[0mself\u001b[0m\u001b[1;33m.\u001b[0m\u001b[0msignal\u001b[0m\u001b[1;33m.\u001b[0m\u001b[0mdata\u001b[0m\u001b[1;33m\u001b[0m\u001b[0m\n",
      "\u001b[1;32mC:\\Anaconda3\\lib\\site-packages\\scipy\\interpolate\\polyint.py\u001b[0m in \u001b[0;36m__call__\u001b[1;34m(self, x)\u001b[0m\n\u001b[0;32m     77\u001b[0m         \"\"\"\n\u001b[0;32m     78\u001b[0m         \u001b[0mx\u001b[0m\u001b[1;33m,\u001b[0m \u001b[0mx_shape\u001b[0m \u001b[1;33m=\u001b[0m \u001b[0mself\u001b[0m\u001b[1;33m.\u001b[0m\u001b[0m_prepare_x\u001b[0m\u001b[1;33m(\u001b[0m\u001b[0mx\u001b[0m\u001b[1;33m)\u001b[0m\u001b[1;33m\u001b[0m\u001b[0m\n\u001b[1;32m---> 79\u001b[1;33m         \u001b[0my\u001b[0m \u001b[1;33m=\u001b[0m \u001b[0mself\u001b[0m\u001b[1;33m.\u001b[0m\u001b[0m_evaluate\u001b[0m\u001b[1;33m(\u001b[0m\u001b[0mx\u001b[0m\u001b[1;33m)\u001b[0m\u001b[1;33m\u001b[0m\u001b[0m\n\u001b[0m\u001b[0;32m     80\u001b[0m         \u001b[1;32mreturn\u001b[0m \u001b[0mself\u001b[0m\u001b[1;33m.\u001b[0m\u001b[0m_finish_y\u001b[0m\u001b[1;33m(\u001b[0m\u001b[0my\u001b[0m\u001b[1;33m,\u001b[0m \u001b[0mx_shape\u001b[0m\u001b[1;33m)\u001b[0m\u001b[1;33m\u001b[0m\u001b[0m\n\u001b[0;32m     81\u001b[0m \u001b[1;33m\u001b[0m\u001b[0m\n",
      "\u001b[1;32mC:\\Anaconda3\\lib\\site-packages\\scipy\\interpolate\\interpolate.py\u001b[0m in \u001b[0;36m_evaluate\u001b[1;34m(self, x_new)\u001b[0m\n\u001b[0;32m    660\u001b[0m         \u001b[1;31m#    The behavior is set by the bounds_error variable.\u001b[0m\u001b[1;33m\u001b[0m\u001b[1;33m\u001b[0m\u001b[0m\n\u001b[0;32m    661\u001b[0m         \u001b[0mx_new\u001b[0m \u001b[1;33m=\u001b[0m \u001b[0masarray\u001b[0m\u001b[1;33m(\u001b[0m\u001b[0mx_new\u001b[0m\u001b[1;33m)\u001b[0m\u001b[1;33m\u001b[0m\u001b[0m\n\u001b[1;32m--> 662\u001b[1;33m         \u001b[0my_new\u001b[0m \u001b[1;33m=\u001b[0m \u001b[0mself\u001b[0m\u001b[1;33m.\u001b[0m\u001b[0m_call\u001b[0m\u001b[1;33m(\u001b[0m\u001b[0mself\u001b[0m\u001b[1;33m,\u001b[0m \u001b[0mx_new\u001b[0m\u001b[1;33m)\u001b[0m\u001b[1;33m\u001b[0m\u001b[0m\n\u001b[0m\u001b[0;32m    663\u001b[0m         \u001b[1;32mif\u001b[0m \u001b[1;32mnot\u001b[0m \u001b[0mself\u001b[0m\u001b[1;33m.\u001b[0m\u001b[0m_extrapolate\u001b[0m\u001b[1;33m:\u001b[0m\u001b[1;33m\u001b[0m\u001b[0m\n\u001b[0;32m    664\u001b[0m             \u001b[0mbelow_bounds\u001b[0m\u001b[1;33m,\u001b[0m \u001b[0mabove_bounds\u001b[0m \u001b[1;33m=\u001b[0m \u001b[0mself\u001b[0m\u001b[1;33m.\u001b[0m\u001b[0m_check_bounds\u001b[0m\u001b[1;33m(\u001b[0m\u001b[0mx_new\u001b[0m\u001b[1;33m)\u001b[0m\u001b[1;33m\u001b[0m\u001b[0m\n",
      "\u001b[1;32mC:\\Anaconda3\\lib\\site-packages\\scipy\\interpolate\\interpolate.py\u001b[0m in \u001b[0;36m_call_linear_np\u001b[1;34m(self, x_new)\u001b[0m\n\u001b[0;32m    584\u001b[0m     \u001b[1;32mdef\u001b[0m \u001b[0m_call_linear_np\u001b[0m\u001b[1;33m(\u001b[0m\u001b[0mself\u001b[0m\u001b[1;33m,\u001b[0m \u001b[0mx_new\u001b[0m\u001b[1;33m)\u001b[0m\u001b[1;33m:\u001b[0m\u001b[1;33m\u001b[0m\u001b[0m\n\u001b[0;32m    585\u001b[0m         \u001b[1;31m# Note that out-of-bounds values are taken care of in self._evaluate\u001b[0m\u001b[1;33m\u001b[0m\u001b[1;33m\u001b[0m\u001b[0m\n\u001b[1;32m--> 586\u001b[1;33m         \u001b[1;32mreturn\u001b[0m \u001b[0mnp\u001b[0m\u001b[1;33m.\u001b[0m\u001b[0minterp\u001b[0m\u001b[1;33m(\u001b[0m\u001b[0mx_new\u001b[0m\u001b[1;33m,\u001b[0m \u001b[0mself\u001b[0m\u001b[1;33m.\u001b[0m\u001b[0mx\u001b[0m\u001b[1;33m,\u001b[0m \u001b[0mself\u001b[0m\u001b[1;33m.\u001b[0m\u001b[0my\u001b[0m\u001b[1;33m)\u001b[0m\u001b[1;33m\u001b[0m\u001b[0m\n\u001b[0m\u001b[0;32m    587\u001b[0m \u001b[1;33m\u001b[0m\u001b[0m\n\u001b[0;32m    588\u001b[0m     \u001b[1;32mdef\u001b[0m \u001b[0m_call_linear\u001b[0m\u001b[1;33m(\u001b[0m\u001b[0mself\u001b[0m\u001b[1;33m,\u001b[0m \u001b[0mx_new\u001b[0m\u001b[1;33m)\u001b[0m\u001b[1;33m:\u001b[0m\u001b[1;33m\u001b[0m\u001b[0m\n",
      "\u001b[1;32mC:\\Anaconda3\\lib\\site-packages\\numpy\\lib\\function_base.py\u001b[0m in \u001b[0;36minterp\u001b[1;34m(x, xp, fp, left, right, period)\u001b[0m\n\u001b[0;32m   1306\u001b[0m         \u001b[0mfp\u001b[0m \u001b[1;33m=\u001b[0m \u001b[0mnp\u001b[0m\u001b[1;33m.\u001b[0m\u001b[0mconcatenate\u001b[0m\u001b[1;33m(\u001b[0m\u001b[1;33m(\u001b[0m\u001b[0mfp\u001b[0m\u001b[1;33m[\u001b[0m\u001b[1;33m-\u001b[0m\u001b[1;36m1\u001b[0m\u001b[1;33m:\u001b[0m\u001b[1;33m]\u001b[0m\u001b[1;33m,\u001b[0m \u001b[0mfp\u001b[0m\u001b[1;33m,\u001b[0m \u001b[0mfp\u001b[0m\u001b[1;33m[\u001b[0m\u001b[1;36m0\u001b[0m\u001b[1;33m:\u001b[0m\u001b[1;36m1\u001b[0m\u001b[1;33m]\u001b[0m\u001b[1;33m)\u001b[0m\u001b[1;33m)\u001b[0m\u001b[1;33m\u001b[0m\u001b[0m\n\u001b[0;32m   1307\u001b[0m \u001b[1;33m\u001b[0m\u001b[0m\n\u001b[1;32m-> 1308\u001b[1;33m     \u001b[1;32mreturn\u001b[0m \u001b[0minterp_func\u001b[0m\u001b[1;33m(\u001b[0m\u001b[0mx\u001b[0m\u001b[1;33m,\u001b[0m \u001b[0mxp\u001b[0m\u001b[1;33m,\u001b[0m \u001b[0mfp\u001b[0m\u001b[1;33m,\u001b[0m \u001b[0mleft\u001b[0m\u001b[1;33m,\u001b[0m \u001b[0mright\u001b[0m\u001b[1;33m)\u001b[0m\u001b[1;33m\u001b[0m\u001b[0m\n\u001b[0m\u001b[0;32m   1309\u001b[0m \u001b[1;33m\u001b[0m\u001b[0m\n\u001b[0;32m   1310\u001b[0m \u001b[1;33m\u001b[0m\u001b[0m\n",
      "\u001b[1;31mKeyboardInterrupt\u001b[0m: "
     ]
    }
   ],
   "source": [
    "m2.multifit(bounded=True, grad=True)"
   ]
  },
  {
   "cell_type": "markdown",
   "metadata": {},
   "source": [
    "We plot maps of \"proportion in each pixel\" of the different phases"
   ]
  },
  {
   "cell_type": "code",
   "execution_count": 84,
   "metadata": {},
   "outputs": [],
   "source": [
    "threshold=[0.35,0.6,0.4,0.3,0.6,0.3,0.1,0.6,0.2,0.3,0.5,0.1,0.7]"
   ]
  },
  {
   "cell_type": "code",
   "execution_count": 86,
   "metadata": {},
   "outputs": [],
   "source": [
    "mllsmap = hs.signals.Signal2D(np.zeros((len(phases), s.data.shape[0], s.data.shape[1])))\n",
    "for i in range(0,len(m2)):\n",
    "    mllsmap.data[i,:,:]=m2[i].yscale.map['values']\n",
    "    mask=(mllsmap.data[i,:,:])<threshold[i]\n",
    "    mllsmap.data[i,:,:][mask]=0\n",
    "mllsmap.plot(cmap='jet')"
   ]
  },
  {
   "cell_type": "code",
   "execution_count": 88,
   "metadata": {},
   "outputs": [],
   "source": [
    "colorscale=([[0.90664343, 0.74466896, 0.86459331],\n",
    "       [0, 0, 0],\n",
    "       [0, 0,1],\n",
    "       [0.8055239 , 0.12485083, 0.05532277],\n",
    "       [1,1,1],\n",
    "       [0,1,0],\n",
    "       [1,1,1],\n",
    "       [0.8,0.4,0.3],\n",
    "       [1,0.6,0],\n",
    "       [0., 0.6, 0.8],\n",
    "       [0.9,1,0.1],\n",
    "       [0.1,0.8,0.9],\n",
    "       [0.9,0,0.8]])"
   ]
  },
  {
   "cell_type": "code",
   "execution_count": 89,
   "metadata": {
    "collapsed": true
   },
   "outputs": [
    {
     "name": "stderr",
     "output_type": "stream",
     "text": [
      "WARNING:matplotlib.image:Clipping input data to the valid range for imshow with RGB data ([0..1] for floats or [0..255] for integers).\n",
      "Traceback (most recent call last):\n",
      "  File \"C:\\ProgramData\\Anaconda3\\lib\\site-packages\\matplotlib\\backends\\backend_qt5.py\", line 505, in _draw_idle\n",
      "    self.draw()\n",
      "  File \"C:\\ProgramData\\Anaconda3\\lib\\site-packages\\matplotlib\\backends\\backend_agg.py\", line 388, in draw\n",
      "    self.figure.draw(self.renderer)\n",
      "  File \"C:\\ProgramData\\Anaconda3\\lib\\site-packages\\matplotlib\\artist.py\", line 38, in draw_wrapper\n",
      "    return draw(artist, renderer, *args, **kwargs)\n",
      "  File \"C:\\ProgramData\\Anaconda3\\lib\\site-packages\\matplotlib\\figure.py\", line 1709, in draw\n",
      "    renderer, self, artists, self.suppressComposite)\n",
      "  File \"C:\\ProgramData\\Anaconda3\\lib\\site-packages\\matplotlib\\image.py\", line 135, in _draw_list_compositing_images\n",
      "    a.draw(renderer)\n",
      "  File \"C:\\ProgramData\\Anaconda3\\lib\\site-packages\\matplotlib\\artist.py\", line 38, in draw_wrapper\n",
      "    return draw(artist, renderer, *args, **kwargs)\n",
      "  File \"C:\\ProgramData\\Anaconda3\\lib\\site-packages\\matplotlib\\axes\\_base.py\", line 2647, in draw\n",
      "    mimage._draw_list_compositing_images(renderer, self, artists)\n",
      "  File \"C:\\ProgramData\\Anaconda3\\lib\\site-packages\\matplotlib\\image.py\", line 135, in _draw_list_compositing_images\n",
      "    a.draw(renderer)\n",
      "  File \"C:\\ProgramData\\Anaconda3\\lib\\site-packages\\matplotlib\\artist.py\", line 38, in draw_wrapper\n",
      "    return draw(artist, renderer, *args, **kwargs)\n",
      "  File \"C:\\ProgramData\\Anaconda3\\lib\\site-packages\\matplotlib\\axis.py\", line 1203, in draw\n",
      "    ticks_to_draw = self._update_ticks()\n",
      "  File \"C:\\ProgramData\\Anaconda3\\lib\\site-packages\\matplotlib\\axis.py\", line 1142, in _update_ticks\n",
      "    if mtransforms._interval_contains_close(interval_t, loc_t):\n",
      "  File \"C:\\ProgramData\\Anaconda3\\lib\\site-packages\\matplotlib\\transforms.py\", line 2891, in _interval_contains_close\n",
      "    return a - rtol <= val <= b + rtol\n",
      "ValueError: The truth value of an array with more than one element is ambiguous. Use a.any() or a.all()\n",
      "Traceback (most recent call last):\n",
      "  File \"C:\\ProgramData\\Anaconda3\\lib\\site-packages\\matplotlib\\backends\\backend_qt5.py\", line 505, in _draw_idle\n",
      "    self.draw()\n",
      "  File \"C:\\ProgramData\\Anaconda3\\lib\\site-packages\\matplotlib\\backends\\backend_agg.py\", line 388, in draw\n",
      "    self.figure.draw(self.renderer)\n",
      "  File \"C:\\ProgramData\\Anaconda3\\lib\\site-packages\\matplotlib\\artist.py\", line 38, in draw_wrapper\n",
      "    return draw(artist, renderer, *args, **kwargs)\n",
      "  File \"C:\\ProgramData\\Anaconda3\\lib\\site-packages\\matplotlib\\figure.py\", line 1709, in draw\n",
      "    renderer, self, artists, self.suppressComposite)\n",
      "  File \"C:\\ProgramData\\Anaconda3\\lib\\site-packages\\matplotlib\\image.py\", line 135, in _draw_list_compositing_images\n",
      "    a.draw(renderer)\n",
      "  File \"C:\\ProgramData\\Anaconda3\\lib\\site-packages\\matplotlib\\artist.py\", line 38, in draw_wrapper\n",
      "    return draw(artist, renderer, *args, **kwargs)\n",
      "  File \"C:\\ProgramData\\Anaconda3\\lib\\site-packages\\matplotlib\\axes\\_base.py\", line 2647, in draw\n",
      "    mimage._draw_list_compositing_images(renderer, self, artists)\n",
      "  File \"C:\\ProgramData\\Anaconda3\\lib\\site-packages\\matplotlib\\image.py\", line 135, in _draw_list_compositing_images\n",
      "    a.draw(renderer)\n",
      "  File \"C:\\ProgramData\\Anaconda3\\lib\\site-packages\\matplotlib\\artist.py\", line 38, in draw_wrapper\n",
      "    return draw(artist, renderer, *args, **kwargs)\n",
      "  File \"C:\\ProgramData\\Anaconda3\\lib\\site-packages\\matplotlib\\axis.py\", line 1203, in draw\n",
      "    ticks_to_draw = self._update_ticks()\n",
      "  File \"C:\\ProgramData\\Anaconda3\\lib\\site-packages\\matplotlib\\axis.py\", line 1142, in _update_ticks\n",
      "    if mtransforms._interval_contains_close(interval_t, loc_t):\n",
      "  File \"C:\\ProgramData\\Anaconda3\\lib\\site-packages\\matplotlib\\transforms.py\", line 2891, in _interval_contains_close\n",
      "    return a - rtol <= val <= b + rtol\n",
      "ValueError: The truth value of an array with more than one element is ambiguous. Use a.any() or a.all()\n"
     ]
    }
   ],
   "source": [
    "from skimage import color\n",
    "\n",
    "RGB = []\n",
    "cmap=plt.cm.hsv\n",
    "cmaplist=np.zeros([N,4])\n",
    "RGB_final = 0\n",
    "colorscale = np.array(colorscale)\n",
    "\n",
    "\n",
    "for i in range (0,N):\n",
    "    cmaplist[i]=(colorscale[i,:][0],colorscale[i,:][1],colorscale[i,:][2],1)\n",
    "#create the nex map\n",
    "cmap = cmap.from_list('custum cmap', cmaplist,N)\n",
    "\n",
    "\n",
    "for i in range (N):\n",
    "    RGB.append(0)\n",
    "    RGB[i] = color.gray2rgb(mllsmap.data[i,:,:])\n",
    "    for j in range (3):\n",
    "        RGB[i][:,:,j] = RGB[i][:,:,j]*colorscale[i][j]\n",
    "    RGB_final += RGB[i]\n",
    "\n",
    "plt.figure()\n",
    "plt.imshow(RGB_final,cmap=cmap)\n",
    "cb=plt.colorbar()\n",
    "\n",
    "ticks = [0.030]\n",
    "for i in range(len(phases)-1):\n",
    "    ticks.append(0)\n",
    "    ticks[i+1]=ticks[i]+((N-2)/(N-1))/11.9\n",
    "ticks\n",
    "\n",
    "cb.set_ticks([ticks])\n",
    "cb.set_ticklabels(phases)\n",
    "\n"
   ]
  },
  {
   "cell_type": "code",
   "execution_count": 96,
   "metadata": {},
   "outputs": [],
   "source": [
    "a=mllsmap.data[9,:,:]>0 \n",
    "b=mllsmap.data[11,:,:]>0 \n",
    "a.astype(dtype=int)\n",
    "b.astype(dtype=int)\n",
    "M1=a+b\n",
    "\n",
    "M1=hs.signals.BaseSignal(M1)\n",
    "M1.plot()"
   ]
  },
  {
   "cell_type": "code",
   "execution_count": 39,
   "metadata": {},
   "outputs": [],
   "source": [
    "M1.save('mask_amorphous.hspy')"
   ]
  },
  {
   "cell_type": "code",
   "execution_count": 23,
   "metadata": {},
   "outputs": [],
   "source": [
    "m2.save_parameters2file('model_mlls')"
   ]
  },
  {
   "cell_type": "markdown",
   "metadata": {},
   "source": [
    "# 3. Background and peak fitting <a class=\"anchor\" id=\"third-bullet\"></a>"
   ]
  },
  {
   "cell_type": "markdown",
   "metadata": {},
   "source": [
    "We have now corrected our modal abundances. We will now fit correctly the background and the peak in more detail in order to get the intensity needed for the quantification"
   ]
  },
  {
   "cell_type": "code",
   "execution_count": 100,
   "metadata": {},
   "outputs": [],
   "source": [
    "#S2=s.rebin([152/2, 132/2,492])"
   ]
  },
  {
   "cell_type": "code",
   "execution_count": 98,
   "metadata": {},
   "outputs": [],
   "source": [
    "#S2=hs.save('signal_quanti.hspy')"
   ]
  },
  {
   "cell_type": "code",
   "execution_count": null,
   "metadata": {},
   "outputs": [],
   "source": [
    "S2=hs.load('signal_quanti.hspy')"
   ]
  },
  {
   "cell_type": "code",
   "execution_count": 103,
   "metadata": {},
   "outputs": [
    {
     "data": {
      "text/plain": [
       "<EDSTEMSpectrum, title: EDS, dimensions: (76, 66|492)>"
      ]
     },
     "execution_count": 103,
     "metadata": {},
     "output_type": "execute_result"
    }
   ],
   "source": [
    "S2"
   ]
  },
  {
   "cell_type": "code",
   "execution_count": 104,
   "metadata": {},
   "outputs": [],
   "source": [
    "S2.metadata.Sample.elements=[]\n",
    "S2.set_elements([\"C\", \"O\",'Na','K',\"Mg\", \"Al\", \"Si\", \"Fe\",\"Fe\", \"Cr\", \"Ni\",'S','Ca','Cu','Ga','Pt','P','Cl','Mn','N','Ti','F'])"
   ]
  },
  {
   "cell_type": "code",
   "execution_count": 105,
   "metadata": {},
   "outputs": [],
   "source": [
    "S2.metadata.Sample.add_node('xray_lines')\n",
    "S2.set_lines([])\n",
    "S2.add_lines(['Fe_La'])"
   ]
  },
  {
   "cell_type": "code",
   "execution_count": 106,
   "metadata": {},
   "outputs": [],
   "source": [
    "S2.metadata.Acquisition_instrument.TEM.Detector.EDS.elevation_angle = 18."
   ]
  },
  {
   "cell_type": "code",
   "execution_count": 107,
   "metadata": {},
   "outputs": [
    {
     "data": {
      "text/plain": [
       "├── Acquisition_instrument\n",
       "│   └── TEM\n",
       "│       ├── Detector\n",
       "│       │   └── EDS\n",
       "│       │       ├── azimuth_angle = 0.0\n",
       "│       │       ├── elevation_angle = 18.0\n",
       "│       │       ├── energy_resolution_MnKa = 130.0\n",
       "│       │       └── number_of_frames = 3004\n",
       "│       ├── Stage\n",
       "│       │   ├── tilt_alpha = 0.00\n",
       "│       │   ├── tilt_beta = 0.00\n",
       "│       │   ├── x = -0.000\n",
       "│       │   ├── y = -0.000\n",
       "│       │   └── z = -0.000\n",
       "│       ├── beam_energy = 300.0\n",
       "│       ├── camera_length = 115.9\n",
       "│       ├── magnification = 5000.0\n",
       "│       └── microscope = Titan\n",
       "├── General\n",
       "│   ├── date = 2018-05-03\n",
       "│   ├── original_filename = SI EDS-HAADF 1644 20180503.emd\n",
       "│   ├── time = 16:44:48\n",
       "│   ├── time_zone = Paris, Madrid (heure dété)\n",
       "│   └── title = EDS\n",
       "├── Sample\n",
       "│   ├── elements = ['Al', 'C', 'Ca', 'Cl', 'Cr', 'Cu', 'F', 'Fe', 'Ga', 'K', 'Mg', 'Mn', 'N', 'Na', 'Ni', 'O', 'P', 'Pt', 'S', 'Si', 'Ti']\n",
       "│   └── xray_lines <list>\n",
       "│       ╠══ [0] = Al_Ka\n",
       "│       ╠══ [1] = C_Ka\n",
       "│       ╠══ [10] = K_Ka\n",
       "│       ╠══ [11] = Mg_Ka\n",
       "│       ╠══ [12] = Mn_Ka\n",
       "│       ╠══ [13] = N_Ka\n",
       "│       ╠══ [14] = Na_Ka\n",
       "│       ╠══ [15] = Ni_Ka\n",
       "│       ╠══ [16] = O_Ka\n",
       "│       ╠══ [17] = P_Ka\n",
       "│       ╠══ [18] = Pt_La\n",
       "│       ╠══ [19] = S_Ka\n",
       "│       ╠══ [2] = Ca_Ka\n",
       "│       ╠══ [20] = Si_Ka\n",
       "│       ╠══ [21] = Ti_Ka\n",
       "│       ╠══ [3] = Cl_Ka\n",
       "│       ╠══ [4] = Cr_Ka\n",
       "│       ╠══ [5] = Cu_Ka\n",
       "│       ╠══ [6] = F_Ka\n",
       "│       ╠══ [7] = Fe_Ka\n",
       "│       ╠══ [8] = Fe_La\n",
       "│       ╚══ [9] = Ga_Ka\n",
       "└── Signal\n",
       "    ├── binned = True\n",
       "    └── signal_type = EDS_TEM"
      ]
     },
     "execution_count": 107,
     "metadata": {},
     "output_type": "execute_result"
    }
   ],
   "source": [
    "S2.metadata"
   ]
  },
  {
   "cell_type": "code",
   "execution_count": 120,
   "metadata": {},
   "outputs": [],
   "source": [
    "import numpy as np\n",
    "#superx=np.loadtxt('Det_eff.txt') #insert your ow\n",
    "#superx = 0.6*superx\n",
    "\n",
    "m2 = S2.create_model(auto_background = False)"
   ]
  },
  {
   "cell_type": "code",
   "execution_count": 121,
   "metadata": {},
   "outputs": [
    {
     "data": {
      "text/plain": [
       "   # |      Attribute Name |      Component Name |      Component Type\n",
       "---- | ------------------- | ------------------- | -------------------\n",
       "   0 |               Al_Ka |               Al_Ka |            Gaussian\n",
       "   1 |               Al_Kb |               Al_Kb |            Gaussian\n",
       "   2 |                C_Ka |                C_Ka |            Gaussian\n",
       "   3 |               Ca_Ka |               Ca_Ka |            Gaussian\n",
       "   4 |               Ca_Kb |               Ca_Kb |            Gaussian\n",
       "   5 |               Ca_La |               Ca_La |            Gaussian\n",
       "   6 |               Ca_Ln |               Ca_Ln |            Gaussian\n",
       "   7 |               Ca_Ll |               Ca_Ll |            Gaussian\n",
       "   8 |               Cl_Ka |               Cl_Ka |            Gaussian\n",
       "   9 |               Cl_Kb |               Cl_Kb |            Gaussian\n",
       "  10 |               Cr_Ka |               Cr_Ka |            Gaussian\n",
       "  11 |               Cr_Kb |               Cr_Kb |            Gaussian\n",
       "  12 |               Cr_La |               Cr_La |            Gaussian\n",
       "  13 |               Cr_Ln |               Cr_Ln |            Gaussian\n",
       "  14 |               Cr_Ll |               Cr_Ll |            Gaussian\n",
       "  15 |              Cr_Lb3 |              Cr_Lb3 |            Gaussian\n",
       "  16 |               Cu_Ka |               Cu_Ka |            Gaussian\n",
       "  17 |               Cu_Kb |               Cu_Kb |            Gaussian\n",
       "  18 |               Cu_La |               Cu_La |            Gaussian\n",
       "  19 |              Cu_Lb1 |              Cu_Lb1 |            Gaussian\n",
       "  20 |               Cu_Ln |               Cu_Ln |            Gaussian\n",
       "  21 |               Cu_Ll |               Cu_Ll |            Gaussian\n",
       "  22 |              Cu_Lb3 |              Cu_Lb3 |            Gaussian\n",
       "  23 |                F_Ka |                F_Ka |            Gaussian\n",
       "  24 |               Fe_Ka |               Fe_Ka |            Gaussian\n",
       "  25 |               Fe_Kb |               Fe_Kb |            Gaussian\n",
       "  26 |               Fe_La |               Fe_La |            Gaussian\n",
       "  27 |               Fe_Ln |               Fe_Ln |            Gaussian\n",
       "  28 |               Fe_Ll |               Fe_Ll |            Gaussian\n",
       "  29 |              Fe_Lb3 |              Fe_Lb3 |            Gaussian\n",
       "  30 |               Ga_Ka |               Ga_Ka |            Gaussian\n",
       "  31 |               Ga_La |               Ga_La |            Gaussian\n",
       "  32 |              Ga_Lb1 |              Ga_Lb1 |            Gaussian\n",
       "  33 |               Ga_Ln |               Ga_Ln |            Gaussian\n",
       "  34 |               Ga_Ll |               Ga_Ll |            Gaussian\n",
       "  35 |              Ga_Lb3 |              Ga_Lb3 |            Gaussian\n",
       "  36 |                K_Ka |                K_Ka |            Gaussian\n",
       "  37 |                K_Kb |                K_Kb |            Gaussian\n",
       "  38 |               Mg_Ka |               Mg_Ka |            Gaussian\n",
       "  39 |               Mg_Kb |               Mg_Kb |            Gaussian\n",
       "  40 |               Mn_Ka |               Mn_Ka |            Gaussian\n",
       "  41 |               Mn_Kb |               Mn_Kb |            Gaussian\n",
       "  42 |               Mn_La |               Mn_La |            Gaussian\n",
       "  43 |               Mn_Ln |               Mn_Ln |            Gaussian\n",
       "  44 |               Mn_Ll |               Mn_Ll |            Gaussian\n",
       "  45 |              Mn_Lb3 |              Mn_Lb3 |            Gaussian\n",
       "  46 |                N_Ka |                N_Ka |            Gaussian\n",
       "  47 |               Na_Ka |               Na_Ka |            Gaussian\n",
       "  48 |               Na_Kb |               Na_Kb |            Gaussian\n",
       "  49 |               Ni_Ka |               Ni_Ka |            Gaussian\n",
       "  50 |               Ni_Kb |               Ni_Kb |            Gaussian\n",
       "  51 |               Ni_La |               Ni_La |            Gaussian\n",
       "  52 |              Ni_Lb1 |              Ni_Lb1 |            Gaussian\n",
       "  53 |               Ni_Ln |               Ni_Ln |            Gaussian\n",
       "  54 |               Ni_Ll |               Ni_Ll |            Gaussian\n",
       "  55 |              Ni_Lb3 |              Ni_Lb3 |            Gaussian\n",
       "  56 |                O_Ka |                O_Ka |            Gaussian\n",
       "  57 |                P_Ka |                P_Ka |            Gaussian\n",
       "  58 |                P_Kb |                P_Kb |            Gaussian\n",
       "  59 |               Pt_La |               Pt_La |            Gaussian\n",
       "  60 |               Pt_Ln |               Pt_Ln |            Gaussian\n",
       "  61 |               Pt_Ll |               Pt_Ll |            Gaussian\n",
       "  62 |               Pt_Ma |               Pt_Ma |            Gaussian\n",
       "  63 |             Pt_M2N4 |             Pt_M2N4 |            Gaussian\n",
       "  64 |             Pt_M3O4 |             Pt_M3O4 |            Gaussian\n",
       "  65 |               Pt_Mb |               Pt_Mb |            Gaussian\n",
       "  66 |               Pt_Mg |               Pt_Mg |            Gaussian\n",
       "  67 |             Pt_M3O5 |             Pt_M3O5 |            Gaussian\n",
       "  68 |               Pt_Mz |               Pt_Mz |            Gaussian\n",
       "  69 |                S_Ka |                S_Ka |            Gaussian\n",
       "  70 |                S_Kb |                S_Kb |            Gaussian\n",
       "  71 |               Si_Ka |               Si_Ka |            Gaussian\n",
       "  72 |               Si_Kb |               Si_Kb |            Gaussian\n",
       "  73 |               Ti_Ka |               Ti_Ka |            Gaussian\n",
       "  74 |               Ti_Kb |               Ti_Kb |            Gaussian\n",
       "  75 |               Ti_La |               Ti_La |            Gaussian\n",
       "  76 |               Ti_Ln |               Ti_Ln |            Gaussian\n",
       "  77 |               Ti_Ll |               Ti_Ll |            Gaussian\n",
       "  78 |              Ti_Lb3 |              Ti_Lb3 |            Gaussian"
      ]
     },
     "execution_count": 121,
     "metadata": {},
     "output_type": "execute_result"
    }
   ],
   "source": [
    "m2.components"
   ]
  },
  {
   "cell_type": "code",
   "execution_count": 122,
   "metadata": {},
   "outputs": [],
   "source": [
    "To_delete = []\n",
    "for j in range (6,8):\n",
    "    To_delete.append(m2[j].name)\n",
    "for j in range (13, 16):\n",
    "    To_delete.append(m2[j].name)\n",
    "for j in range (19, 23):\n",
    "    To_delete.append(m2[j].name)\n",
    "for j in range (32, 36):\n",
    "    To_delete.append(m2[j].name)\n",
    "for j in range (43, 46):\n",
    "    To_delete.append(m2[j].name)\n",
    "for j in range (60, 69):\n",
    "    To_delete.append(m2[j].name)\n",
    "for j in range (76, 79):\n",
    "    To_delete.append(m2[j].name)\n",
    "m2.remove(To_delete)"
   ]
  },
  {
   "cell_type": "code",
   "execution_count": 123,
   "metadata": {},
   "outputs": [
    {
     "data": {
      "text/plain": [
       "   # |      Attribute Name |      Component Name |      Component Type\n",
       "---- | ------------------- | ------------------- | -------------------\n",
       "   0 |               Al_Ka |               Al_Ka |            Gaussian\n",
       "   1 |               Al_Kb |               Al_Kb |            Gaussian\n",
       "   2 |                C_Ka |                C_Ka |            Gaussian\n",
       "   3 |               Ca_Ka |               Ca_Ka |            Gaussian\n",
       "   4 |               Ca_Kb |               Ca_Kb |            Gaussian\n",
       "   5 |               Ca_La |               Ca_La |            Gaussian\n",
       "   6 |               Cl_Ka |               Cl_Ka |            Gaussian\n",
       "   7 |               Cl_Kb |               Cl_Kb |            Gaussian\n",
       "   8 |               Cr_Ka |               Cr_Ka |            Gaussian\n",
       "   9 |               Cr_Kb |               Cr_Kb |            Gaussian\n",
       "  10 |               Cr_La |               Cr_La |            Gaussian\n",
       "  11 |               Cu_Ka |               Cu_Ka |            Gaussian\n",
       "  12 |               Cu_Kb |               Cu_Kb |            Gaussian\n",
       "  13 |               Cu_La |               Cu_La |            Gaussian\n",
       "  14 |                F_Ka |                F_Ka |            Gaussian\n",
       "  15 |               Fe_Ka |               Fe_Ka |            Gaussian\n",
       "  16 |               Fe_Kb |               Fe_Kb |            Gaussian\n",
       "  17 |               Fe_La |               Fe_La |            Gaussian\n",
       "  18 |               Fe_Ln |               Fe_Ln |            Gaussian\n",
       "  19 |               Fe_Ll |               Fe_Ll |            Gaussian\n",
       "  20 |              Fe_Lb3 |              Fe_Lb3 |            Gaussian\n",
       "  21 |               Ga_Ka |               Ga_Ka |            Gaussian\n",
       "  22 |               Ga_La |               Ga_La |            Gaussian\n",
       "  23 |                K_Ka |                K_Ka |            Gaussian\n",
       "  24 |                K_Kb |                K_Kb |            Gaussian\n",
       "  25 |               Mg_Ka |               Mg_Ka |            Gaussian\n",
       "  26 |               Mg_Kb |               Mg_Kb |            Gaussian\n",
       "  27 |               Mn_Ka |               Mn_Ka |            Gaussian\n",
       "  28 |               Mn_Kb |               Mn_Kb |            Gaussian\n",
       "  29 |               Mn_La |               Mn_La |            Gaussian\n",
       "  30 |                N_Ka |                N_Ka |            Gaussian\n",
       "  31 |               Na_Ka |               Na_Ka |            Gaussian\n",
       "  32 |               Na_Kb |               Na_Kb |            Gaussian\n",
       "  33 |               Ni_Ka |               Ni_Ka |            Gaussian\n",
       "  34 |               Ni_Kb |               Ni_Kb |            Gaussian\n",
       "  35 |               Ni_La |               Ni_La |            Gaussian\n",
       "  36 |              Ni_Lb1 |              Ni_Lb1 |            Gaussian\n",
       "  37 |               Ni_Ln |               Ni_Ln |            Gaussian\n",
       "  38 |               Ni_Ll |               Ni_Ll |            Gaussian\n",
       "  39 |              Ni_Lb3 |              Ni_Lb3 |            Gaussian\n",
       "  40 |                O_Ka |                O_Ka |            Gaussian\n",
       "  41 |                P_Ka |                P_Ka |            Gaussian\n",
       "  42 |                P_Kb |                P_Kb |            Gaussian\n",
       "  43 |               Pt_La |               Pt_La |            Gaussian\n",
       "  44 |                S_Ka |                S_Ka |            Gaussian\n",
       "  45 |                S_Kb |                S_Kb |            Gaussian\n",
       "  46 |               Si_Ka |               Si_Ka |            Gaussian\n",
       "  47 |               Si_Kb |               Si_Kb |            Gaussian\n",
       "  48 |               Ti_Ka |               Ti_Ka |            Gaussian\n",
       "  49 |               Ti_Kb |               Ti_Kb |            Gaussian\n",
       "  50 |               Ti_La |               Ti_La |            Gaussian"
      ]
     },
     "execution_count": 123,
     "metadata": {},
     "output_type": "execute_result"
    }
   ],
   "source": [
    "m2.components"
   ]
  },
  {
   "cell_type": "code",
   "execution_count": 124,
   "metadata": {},
   "outputs": [],
   "source": [
    "m2.components.Fe_La.A.twin = None\n",
    "m2.components.Fe_Ll.A.twin = None"
   ]
  },
  {
   "cell_type": "code",
   "execution_count": 125,
   "metadata": {},
   "outputs": [
    {
     "data": {
      "text/plain": [
       "{'Quant map and absorption correction parameters have been created'}"
      ]
     },
     "execution_count": 125,
     "metadata": {},
     "output_type": "execute_result"
    }
   ],
   "source": [
    "m2.add_physical_background(detector='SuperX', absorption_model='quadrilateral')#, quantification = SimplQuant)\n",
    "m2.components.Bremsstrahlung.initialize()"
   ]
  },
  {
   "cell_type": "code",
   "execution_count": 126,
   "metadata": {},
   "outputs": [
    {
     "data": {
      "application/vnd.jupyter.widget-view+json": {
       "model_id": "9ca7a581d0c743599a02ccf7a78f703b",
       "version_major": 2,
       "version_minor": 0
      },
      "text/plain": [
       "HBox(children=(IntProgress(value=0, max=5016), HTML(value='')))"
      ]
     },
     "metadata": {},
     "output_type": "display_data"
    },
    {
     "name": "stdout",
     "output_type": "stream",
     "text": [
      "\n"
     ]
    },
    {
     "ename": "KeyboardInterrupt",
     "evalue": "",
     "output_type": "error",
     "traceback": [
      "\u001b[1;31m---------------------------------------------------------------------------\u001b[0m",
      "\u001b[1;31mKeyboardInterrupt\u001b[0m                         Traceback (most recent call last)",
      "\u001b[1;32m<ipython-input-126-1d43ace459c2>\u001b[0m in \u001b[0;36m<module>\u001b[1;34m\u001b[0m\n\u001b[1;32m----> 1\u001b[1;33m \u001b[0mm2\u001b[0m\u001b[1;33m.\u001b[0m\u001b[0mfit_background\u001b[0m\u001b[1;33m(\u001b[0m\u001b[0mkind\u001b[0m \u001b[1;33m=\u001b[0m \u001b[1;34m'multi'\u001b[0m\u001b[1;33m,\u001b[0m \u001b[0mbounded\u001b[0m \u001b[1;33m=\u001b[0m \u001b[1;32mTrue\u001b[0m\u001b[1;33m,\u001b[0m \u001b[0mwindows_sigma\u001b[0m\u001b[1;33m=\u001b[0m\u001b[1;33m(\u001b[0m\u001b[1;36m3\u001b[0m\u001b[1;33m,\u001b[0m \u001b[1;36m3\u001b[0m\u001b[1;33m)\u001b[0m\u001b[1;33m)\u001b[0m\u001b[1;33m\u001b[0m\u001b[1;33m\u001b[0m\u001b[0m\n\u001b[0m",
      "\u001b[1;32m~\\Documents\\GitHub\\ZanettaPM\\hyperspy\\hyperspy\\models\\edsmodel.py\u001b[0m in \u001b[0;36mfit_background\u001b[1;34m(self, start_energy, end_energy, windows_sigma, kind, **kwargs)\u001b[0m\n\u001b[0;32m    455\u001b[0m                 \u001b[0mself\u001b[0m\u001b[1;33m.\u001b[0m\u001b[0mfit\u001b[0m\u001b[1;33m(\u001b[0m\u001b[1;33m**\u001b[0m\u001b[0mkwargs\u001b[0m\u001b[1;33m)\u001b[0m\u001b[1;33m\u001b[0m\u001b[1;33m\u001b[0m\u001b[0m\n\u001b[0;32m    456\u001b[0m             \u001b[1;32mif\u001b[0m \u001b[0mkind\u001b[0m \u001b[1;33m==\u001b[0m \u001b[1;34m'multi'\u001b[0m\u001b[1;33m:\u001b[0m\u001b[1;33m\u001b[0m\u001b[1;33m\u001b[0m\u001b[0m\n\u001b[1;32m--> 457\u001b[1;33m                 \u001b[0mself\u001b[0m\u001b[1;33m.\u001b[0m\u001b[0mmultifit\u001b[0m\u001b[1;33m(\u001b[0m\u001b[1;33m**\u001b[0m\u001b[0mkwargs\u001b[0m\u001b[1;33m)\u001b[0m\u001b[1;33m\u001b[0m\u001b[1;33m\u001b[0m\u001b[0m\n\u001b[0m\u001b[0;32m    458\u001b[0m             \u001b[0mself\u001b[0m\u001b[1;33m.\u001b[0m\u001b[0mreset_signal_range\u001b[0m\u001b[1;33m(\u001b[0m\u001b[1;33m)\u001b[0m\u001b[1;33m\u001b[0m\u001b[1;33m\u001b[0m\u001b[0m\n\u001b[0;32m    459\u001b[0m         \u001b[0mself\u001b[0m\u001b[1;33m.\u001b[0m\u001b[0mfix_background\u001b[0m\u001b[1;33m(\u001b[0m\u001b[1;33m)\u001b[0m\u001b[1;33m\u001b[0m\u001b[1;33m\u001b[0m\u001b[0m\n",
      "\u001b[1;32m~\\Documents\\GitHub\\ZanettaPM\\hyperspy\\hyperspy\\model.py\u001b[0m in \u001b[0;36mmultifit\u001b[1;34m(self, mask, fetch_only_fixed, autosave, autosave_every, show_progressbar, interactive_plot, **kwargs)\u001b[0m\n\u001b[0;32m   1514\u001b[0m                                 self.fetch_stored_values(\n\u001b[0;32m   1515\u001b[0m                                     only_fixed=fetch_only_fixed)\n\u001b[1;32m-> 1516\u001b[1;33m                                 \u001b[0mself\u001b[0m\u001b[1;33m.\u001b[0m\u001b[0mfit\u001b[0m\u001b[1;33m(\u001b[0m\u001b[1;33m**\u001b[0m\u001b[0mkwargs\u001b[0m\u001b[1;33m)\u001b[0m\u001b[1;33m\u001b[0m\u001b[1;33m\u001b[0m\u001b[0m\n\u001b[0m\u001b[0;32m   1517\u001b[0m                                 \u001b[0mi\u001b[0m \u001b[1;33m+=\u001b[0m \u001b[1;36m1\u001b[0m\u001b[1;33m\u001b[0m\u001b[1;33m\u001b[0m\u001b[0m\n\u001b[0;32m   1518\u001b[0m                                 \u001b[0mpbar\u001b[0m\u001b[1;33m.\u001b[0m\u001b[0mupdate\u001b[0m\u001b[1;33m(\u001b[0m\u001b[1;36m1\u001b[0m\u001b[1;33m)\u001b[0m\u001b[1;33m\u001b[0m\u001b[1;33m\u001b[0m\u001b[0m\n",
      "\u001b[1;32m~\\Documents\\GitHub\\ZanettaPM\\hyperspy\\hyperspy\\model.py\u001b[0m in \u001b[0;36mfit\u001b[1;34m(self, fitter, method, grad, bounded, ext_bounding, update_plot, **kwargs)\u001b[0m\n\u001b[0;32m   1287\u001b[0m                     \u001b[0moutput\u001b[0m \u001b[1;33m=\u001b[0m\u001b[0;31m \u001b[0m\u001b[0;31m\\\u001b[0m\u001b[1;33m\u001b[0m\u001b[1;33m\u001b[0m\u001b[0m\n\u001b[0;32m   1288\u001b[0m                         least_squares(self._errfunc, self.p0[:],\n\u001b[1;32m-> 1289\u001b[1;33m                                       args=args, bounds=ls_b, **kwargs)\n\u001b[0m\u001b[0;32m   1290\u001b[0m                     \u001b[0mself\u001b[0m\u001b[1;33m.\u001b[0m\u001b[0mp0\u001b[0m \u001b[1;33m=\u001b[0m \u001b[0moutput\u001b[0m\u001b[1;33m.\u001b[0m\u001b[0mx\u001b[0m\u001b[1;33m\u001b[0m\u001b[1;33m\u001b[0m\u001b[0m\n\u001b[0;32m   1291\u001b[0m \u001b[1;33m\u001b[0m\u001b[0m\n",
      "\u001b[1;32mC:\\ProgramData\\Anaconda3\\lib\\site-packages\\scipy\\optimize\\_lsq\\least_squares.py\u001b[0m in \u001b[0;36mleast_squares\u001b[1;34m(fun, x0, jac, bounds, method, ftol, xtol, gtol, x_scale, loss, f_scale, diff_step, tr_solver, tr_options, jac_sparsity, max_nfev, verbose, args, kwargs)\u001b[0m\n\u001b[0;32m    914\u001b[0m         result = trf(fun_wrapped, jac_wrapped, x0, f0, J0, lb, ub, ftol, xtol,\n\u001b[0;32m    915\u001b[0m                      \u001b[0mgtol\u001b[0m\u001b[1;33m,\u001b[0m \u001b[0mmax_nfev\u001b[0m\u001b[1;33m,\u001b[0m \u001b[0mx_scale\u001b[0m\u001b[1;33m,\u001b[0m \u001b[0mloss_function\u001b[0m\u001b[1;33m,\u001b[0m \u001b[0mtr_solver\u001b[0m\u001b[1;33m,\u001b[0m\u001b[1;33m\u001b[0m\u001b[1;33m\u001b[0m\u001b[0m\n\u001b[1;32m--> 916\u001b[1;33m                      tr_options.copy(), verbose)\n\u001b[0m\u001b[0;32m    917\u001b[0m \u001b[1;33m\u001b[0m\u001b[0m\n\u001b[0;32m    918\u001b[0m     \u001b[1;32melif\u001b[0m \u001b[0mmethod\u001b[0m \u001b[1;33m==\u001b[0m \u001b[1;34m'dogbox'\u001b[0m\u001b[1;33m:\u001b[0m\u001b[1;33m\u001b[0m\u001b[1;33m\u001b[0m\u001b[0m\n",
      "\u001b[1;32mC:\\ProgramData\\Anaconda3\\lib\\site-packages\\scipy\\optimize\\_lsq\\trf.py\u001b[0m in \u001b[0;36mtrf\u001b[1;34m(fun, jac, x0, f0, J0, lb, ub, ftol, xtol, gtol, max_nfev, x_scale, loss_function, tr_solver, tr_options, verbose)\u001b[0m\n\u001b[0;32m    126\u001b[0m         return trf_bounds(\n\u001b[0;32m    127\u001b[0m             \u001b[0mfun\u001b[0m\u001b[1;33m,\u001b[0m \u001b[0mjac\u001b[0m\u001b[1;33m,\u001b[0m \u001b[0mx0\u001b[0m\u001b[1;33m,\u001b[0m \u001b[0mf0\u001b[0m\u001b[1;33m,\u001b[0m \u001b[0mJ0\u001b[0m\u001b[1;33m,\u001b[0m \u001b[0mlb\u001b[0m\u001b[1;33m,\u001b[0m \u001b[0mub\u001b[0m\u001b[1;33m,\u001b[0m \u001b[0mftol\u001b[0m\u001b[1;33m,\u001b[0m \u001b[0mxtol\u001b[0m\u001b[1;33m,\u001b[0m \u001b[0mgtol\u001b[0m\u001b[1;33m,\u001b[0m \u001b[0mmax_nfev\u001b[0m\u001b[1;33m,\u001b[0m \u001b[0mx_scale\u001b[0m\u001b[1;33m,\u001b[0m\u001b[1;33m\u001b[0m\u001b[1;33m\u001b[0m\u001b[0m\n\u001b[1;32m--> 128\u001b[1;33m             loss_function, tr_solver, tr_options, verbose)\n\u001b[0m\u001b[0;32m    129\u001b[0m \u001b[1;33m\u001b[0m\u001b[0m\n\u001b[0;32m    130\u001b[0m \u001b[1;33m\u001b[0m\u001b[0m\n",
      "\u001b[1;32mC:\\ProgramData\\Anaconda3\\lib\\site-packages\\scipy\\optimize\\_lsq\\trf.py\u001b[0m in \u001b[0;36mtrf_bounds\u001b[1;34m(fun, jac, x0, f0, J0, lb, ub, ftol, xtol, gtol, max_nfev, x_scale, loss_function, tr_solver, tr_options, verbose)\u001b[0m\n\u001b[0;32m    329\u001b[0m             \u001b[1;32mif\u001b[0m \u001b[0mtr_solver\u001b[0m \u001b[1;33m==\u001b[0m \u001b[1;34m'exact'\u001b[0m\u001b[1;33m:\u001b[0m\u001b[1;33m\u001b[0m\u001b[1;33m\u001b[0m\u001b[0m\n\u001b[0;32m    330\u001b[0m                 p_h, alpha, n_iter = solve_lsq_trust_region(\n\u001b[1;32m--> 331\u001b[1;33m                     n, m, uf, s, V, Delta, initial_alpha=alpha)\n\u001b[0m\u001b[0;32m    332\u001b[0m             \u001b[1;32melif\u001b[0m \u001b[0mtr_solver\u001b[0m \u001b[1;33m==\u001b[0m \u001b[1;34m'lsmr'\u001b[0m\u001b[1;33m:\u001b[0m\u001b[1;33m\u001b[0m\u001b[1;33m\u001b[0m\u001b[0m\n\u001b[0;32m    333\u001b[0m                 \u001b[0mp_S\u001b[0m\u001b[1;33m,\u001b[0m \u001b[0m_\u001b[0m \u001b[1;33m=\u001b[0m \u001b[0msolve_trust_region_2d\u001b[0m\u001b[1;33m(\u001b[0m\u001b[0mB_S\u001b[0m\u001b[1;33m,\u001b[0m \u001b[0mg_S\u001b[0m\u001b[1;33m,\u001b[0m \u001b[0mDelta\u001b[0m\u001b[1;33m)\u001b[0m\u001b[1;33m\u001b[0m\u001b[1;33m\u001b[0m\u001b[0m\n",
      "\u001b[1;32mC:\\ProgramData\\Anaconda3\\lib\\site-packages\\scipy\\optimize\\_lsq\\common.py\u001b[0m in \u001b[0;36msolve_lsq_trust_region\u001b[1;34m(n, m, uf, s, V, Delta, initial_alpha, rtol, max_iter)\u001b[0m\n\u001b[0;32m    161\u001b[0m             \u001b[1;32mbreak\u001b[0m\u001b[1;33m\u001b[0m\u001b[1;33m\u001b[0m\u001b[0m\n\u001b[0;32m    162\u001b[0m \u001b[1;33m\u001b[0m\u001b[0m\n\u001b[1;32m--> 163\u001b[1;33m     \u001b[0mp\u001b[0m \u001b[1;33m=\u001b[0m \u001b[1;33m-\u001b[0m\u001b[0mV\u001b[0m\u001b[1;33m.\u001b[0m\u001b[0mdot\u001b[0m\u001b[1;33m(\u001b[0m\u001b[0msuf\u001b[0m \u001b[1;33m/\u001b[0m \u001b[1;33m(\u001b[0m\u001b[0ms\u001b[0m\u001b[1;33m**\u001b[0m\u001b[1;36m2\u001b[0m \u001b[1;33m+\u001b[0m \u001b[0malpha\u001b[0m\u001b[1;33m)\u001b[0m\u001b[1;33m)\u001b[0m\u001b[1;33m\u001b[0m\u001b[1;33m\u001b[0m\u001b[0m\n\u001b[0m\u001b[0;32m    164\u001b[0m \u001b[1;33m\u001b[0m\u001b[0m\n\u001b[0;32m    165\u001b[0m     \u001b[1;31m# Make the norm of p equal to Delta, p is changed only slightly during\u001b[0m\u001b[1;33m\u001b[0m\u001b[1;33m\u001b[0m\u001b[1;33m\u001b[0m\u001b[0m\n",
      "\u001b[1;31mKeyboardInterrupt\u001b[0m: "
     ]
    }
   ],
   "source": [
    "m2.fit_background(kind = 'multi', bounded = True, windows_sigma=(3, 3))"
   ]
  },
  {
   "cell_type": "code",
   "execution_count": 127,
   "metadata": {
    "scrolled": true
   },
   "outputs": [
    {
     "data": {
      "application/vnd.jupyter.widget-view+json": {
       "model_id": "6e95bcb7bbc7425e8c45c843c39cce8a",
       "version_major": 2,
       "version_minor": 0
      },
      "text/plain": [
       "HBox(children=(IntProgress(value=0, max=5016), HTML(value='')))"
      ]
     },
     "metadata": {},
     "output_type": "display_data"
    },
    {
     "name": "stdout",
     "output_type": "stream",
     "text": [
      "\n"
     ]
    },
    {
     "ename": "AttributeError",
     "evalue": "Not all components are linear. Fit with a different fitter or set non-linear `parameters.free = False`. These components are nonlinear:[<Bremsstrahlung (Physical_background component)>]",
     "output_type": "error",
     "traceback": [
      "\u001b[1;31m---------------------------------------------------------------------------\u001b[0m",
      "\u001b[1;31mAttributeError\u001b[0m                            Traceback (most recent call last)",
      "\u001b[1;32m<ipython-input-127-1bf1d8e23726>\u001b[0m in \u001b[0;36m<module>\u001b[1;34m\u001b[0m\n\u001b[0;32m      1\u001b[0m \u001b[0mm2\u001b[0m\u001b[1;33m.\u001b[0m\u001b[0mset_parameters_value\u001b[0m\u001b[1;33m(\u001b[0m\u001b[1;34m'A'\u001b[0m\u001b[1;33m,\u001b[0m\u001b[1;36m1\u001b[0m\u001b[1;33m)\u001b[0m\u001b[1;33m\u001b[0m\u001b[1;33m\u001b[0m\u001b[0m\n\u001b[1;32m----> 2\u001b[1;33m \u001b[0mm2\u001b[0m\u001b[1;33m.\u001b[0m\u001b[0mmultifit\u001b[0m\u001b[1;33m(\u001b[0m\u001b[0mfitter\u001b[0m\u001b[1;33m=\u001b[0m\u001b[1;34m'linear'\u001b[0m\u001b[1;33m,\u001b[0m\u001b[0mbounded\u001b[0m\u001b[1;33m=\u001b[0m\u001b[1;32mTrue\u001b[0m\u001b[1;33m)\u001b[0m\u001b[1;33m\u001b[0m\u001b[1;33m\u001b[0m\u001b[0m\n\u001b[0m",
      "\u001b[1;32m~\\Documents\\GitHub\\ZanettaPM\\hyperspy\\hyperspy\\model.py\u001b[0m in \u001b[0;36mmultifit\u001b[1;34m(self, mask, fetch_only_fixed, autosave, autosave_every, show_progressbar, interactive_plot, **kwargs)\u001b[0m\n\u001b[0;32m   1514\u001b[0m                                 self.fetch_stored_values(\n\u001b[0;32m   1515\u001b[0m                                     only_fixed=fetch_only_fixed)\n\u001b[1;32m-> 1516\u001b[1;33m                                 \u001b[0mself\u001b[0m\u001b[1;33m.\u001b[0m\u001b[0mfit\u001b[0m\u001b[1;33m(\u001b[0m\u001b[1;33m**\u001b[0m\u001b[0mkwargs\u001b[0m\u001b[1;33m)\u001b[0m\u001b[1;33m\u001b[0m\u001b[1;33m\u001b[0m\u001b[0m\n\u001b[0m\u001b[0;32m   1517\u001b[0m                                 \u001b[0mi\u001b[0m \u001b[1;33m+=\u001b[0m \u001b[1;36m1\u001b[0m\u001b[1;33m\u001b[0m\u001b[1;33m\u001b[0m\u001b[0m\n\u001b[0;32m   1518\u001b[0m                                 \u001b[0mpbar\u001b[0m\u001b[1;33m.\u001b[0m\u001b[0mupdate\u001b[0m\u001b[1;33m(\u001b[0m\u001b[1;36m1\u001b[0m\u001b[1;33m)\u001b[0m\u001b[1;33m\u001b[0m\u001b[1;33m\u001b[0m\u001b[0m\n",
      "\u001b[1;32m~\\Documents\\GitHub\\ZanettaPM\\hyperspy\\hyperspy\\model.py\u001b[0m in \u001b[0;36mfit\u001b[1;34m(self, fitter, method, grad, bounded, ext_bounding, update_plot, **kwargs)\u001b[0m\n\u001b[0;32m   1357\u001b[0m \u001b[1;33m\u001b[0m\u001b[0m\n\u001b[0;32m   1358\u001b[0m             \u001b[1;32melif\u001b[0m \u001b[0mfitter\u001b[0m \u001b[1;33m==\u001b[0m \u001b[1;34m\"linear\"\u001b[0m\u001b[1;33m:\u001b[0m\u001b[1;33m\u001b[0m\u001b[1;33m\u001b[0m\u001b[0m\n\u001b[1;32m-> 1359\u001b[1;33m                 \u001b[0mself\u001b[0m\u001b[1;33m.\u001b[0m\u001b[0m_linear_fitting\u001b[0m\u001b[1;33m(\u001b[0m\u001b[0mbounded\u001b[0m\u001b[1;33m)\u001b[0m\u001b[1;33m\u001b[0m\u001b[1;33m\u001b[0m\u001b[0m\n\u001b[0m\u001b[0;32m   1360\u001b[0m             \u001b[1;32melse\u001b[0m\u001b[1;33m:\u001b[0m\u001b[1;33m\u001b[0m\u001b[1;33m\u001b[0m\u001b[0m\n\u001b[0;32m   1361\u001b[0m                 \u001b[1;31m# General optimizers\u001b[0m\u001b[1;33m\u001b[0m\u001b[1;33m\u001b[0m\u001b[1;33m\u001b[0m\u001b[0m\n",
      "\u001b[1;32m~\\Documents\\GitHub\\ZanettaPM\\hyperspy\\hyperspy\\model.py\u001b[0m in \u001b[0;36m_linear_fitting\u001b[1;34m(self, bounded)\u001b[0m\n\u001b[0;32m    883\u001b[0m                     \u001b[1;34m\"components are nonlinear:\"\u001b[0m\u001b[1;33m\u001b[0m\u001b[1;33m\u001b[0m\u001b[0m\n\u001b[0;32m    884\u001b[0m         \u001b[1;32mif\u001b[0m \u001b[0mnonlinear\u001b[0m\u001b[1;33m:\u001b[0m\u001b[1;33m\u001b[0m\u001b[1;33m\u001b[0m\u001b[0m\n\u001b[1;32m--> 885\u001b[1;33m             \u001b[1;32mraise\u001b[0m \u001b[0mAttributeError\u001b[0m\u001b[1;33m(\u001b[0m\u001b[0mnot_linear_error\u001b[0m \u001b[1;33m+\u001b[0m \u001b[0mstr\u001b[0m\u001b[1;33m(\u001b[0m\u001b[0mnonlinear\u001b[0m\u001b[1;33m)\u001b[0m\u001b[1;33m)\u001b[0m\u001b[1;33m\u001b[0m\u001b[1;33m\u001b[0m\u001b[0m\n\u001b[0m\u001b[0;32m    886\u001b[0m \u001b[1;33m\u001b[0m\u001b[0m\n\u001b[0;32m    887\u001b[0m         \u001b[0mself\u001b[0m\u001b[1;33m.\u001b[0m\u001b[0m_check_and_set_linear_parameters_not_zero\u001b[0m\u001b[1;33m(\u001b[0m\u001b[1;33m)\u001b[0m\u001b[1;33m\u001b[0m\u001b[1;33m\u001b[0m\u001b[0m\n",
      "\u001b[1;31mAttributeError\u001b[0m: Not all components are linear. Fit with a different fitter or set non-linear `parameters.free = False`. These components are nonlinear:[<Bremsstrahlung (Physical_background component)>]"
     ]
    }
   ],
   "source": [
    "m2.set_parameters_value('A',1)\n",
    "m2.multifit(fitter='linear',bounded=True)"
   ]
  },
  {
   "cell_type": "code",
   "execution_count": 48,
   "metadata": {},
   "outputs": [],
   "source": [
    "m2.plot(True)"
   ]
  },
  {
   "cell_type": "code",
   "execution_count": 49,
   "metadata": {},
   "outputs": [],
   "source": [
    "m2.save_parameters2file('model_quanti.npz')"
   ]
  },
  {
   "cell_type": "code",
   "execution_count": 128,
   "metadata": {},
   "outputs": [],
   "source": [
    "S2.set_lines([])\n",
    "S2.add_lines(['Fe_La'])"
   ]
  },
  {
   "cell_type": "code",
   "execution_count": 129,
   "metadata": {},
   "outputs": [],
   "source": [
    "result = m2.get_lines_intensity(xray_lines = 'from_metadata', plot_result=False)"
   ]
  },
  {
   "cell_type": "code",
   "execution_count": 130,
   "metadata": {},
   "outputs": [
    {
     "data": {
      "text/plain": [
       "[<BaseSignal, title: Intensity of Al_Ka at 1.49 keV from EDS, dimensions: (76, 66|)>,\n",
       " <BaseSignal, title: Intensity of C_Ka at 0.28 keV from EDS, dimensions: (76, 66|)>,\n",
       " <BaseSignal, title: Intensity of Ca_Ka at 3.69 keV from EDS, dimensions: (76, 66|)>,\n",
       " <BaseSignal, title: Intensity of Cl_Ka at 2.62 keV from EDS, dimensions: (76, 66|)>,\n",
       " <BaseSignal, title: Intensity of Cr_Ka at 5.41 keV from EDS, dimensions: (76, 66|)>,\n",
       " <BaseSignal, title: Intensity of Cu_Ka at 8.05 keV from EDS, dimensions: (76, 66|)>,\n",
       " <BaseSignal, title: Intensity of F_Ka at 0.68 keV from EDS, dimensions: (76, 66|)>,\n",
       " <BaseSignal, title: Intensity of Fe_Ka at 6.40 keV from EDS, dimensions: (76, 66|)>,\n",
       " <BaseSignal, title: Intensity of Fe_La at 0.70 keV from EDS, dimensions: (76, 66|)>,\n",
       " <BaseSignal, title: Intensity of Ga_Ka at 9.25 keV from EDS, dimensions: (76, 66|)>,\n",
       " <BaseSignal, title: Intensity of K_Ka at 3.31 keV from EDS, dimensions: (76, 66|)>,\n",
       " <BaseSignal, title: Intensity of Mg_Ka at 1.25 keV from EDS, dimensions: (76, 66|)>,\n",
       " <BaseSignal, title: Intensity of Mn_Ka at 5.90 keV from EDS, dimensions: (76, 66|)>,\n",
       " <BaseSignal, title: Intensity of N_Ka at 0.39 keV from EDS, dimensions: (76, 66|)>,\n",
       " <BaseSignal, title: Intensity of Na_Ka at 1.04 keV from EDS, dimensions: (76, 66|)>,\n",
       " <BaseSignal, title: Intensity of Ni_Ka at 7.48 keV from EDS, dimensions: (76, 66|)>,\n",
       " <BaseSignal, title: Intensity of O_Ka at 0.52 keV from EDS, dimensions: (76, 66|)>,\n",
       " <BaseSignal, title: Intensity of P_Ka at 2.01 keV from EDS, dimensions: (76, 66|)>,\n",
       " <BaseSignal, title: Intensity of Pt_La at 9.44 keV from EDS, dimensions: (76, 66|)>,\n",
       " <BaseSignal, title: Intensity of S_Ka at 2.31 keV from EDS, dimensions: (76, 66|)>,\n",
       " <BaseSignal, title: Intensity of Si_Ka at 1.74 keV from EDS, dimensions: (76, 66|)>,\n",
       " <BaseSignal, title: Intensity of Ti_Ka at 4.51 keV from EDS, dimensions: (76, 66|)>]"
      ]
     },
     "execution_count": 130,
     "metadata": {},
     "output_type": "execute_result"
    }
   ],
   "source": [
    "result"
   ]
  },
  {
   "cell_type": "code",
   "execution_count": 53,
   "metadata": {},
   "outputs": [],
   "source": [
    "for i in range (len(result)):\n",
    "    result[i].save(r'C:\\\\Your Directory'+ result[i].metadata.General.title +'.hspy',overwrite=True)"
   ]
  },
  {
   "cell_type": "markdown",
   "metadata": {},
   "source": [
    "## 4. Pixel to Pixel composition <a class=\"anchor\" id=\"fourth-bullet\"></a>"
   ]
  },
  {
   "cell_type": "markdown",
   "metadata": {},
   "source": [
    "We use our in house Cliff Lorimer + absorption correction model to calculate the composition of each pixel of the amorphous silicate\n",
    "These in house code can be found here: https://github.com/CorentinLG/CL_quant"
   ]
  },
  {
   "cell_type": "code",
   "execution_count": 1,
   "metadata": {},
   "outputs": [],
   "source": [
    "%matplotlib qt\n",
    "\n",
    "import numpy as np\n",
    "import matplotlib.pyplot as plt\n",
    "import tifffile as tiff\n",
    "import hyperspy.api as hs"
   ]
  },
  {
   "cell_type": "code",
   "execution_count": 2,
   "metadata": {},
   "outputs": [],
   "source": [
    "import sys\n",
    "sys.path.append(r'D:\\Users\\Documents\\GitHub\\CL_quant')\n",
    "from CL_Quant import*"
   ]
  },
  {
   "cell_type": "code",
   "execution_count": 3,
   "metadata": {},
   "outputs": [],
   "source": [
    "s=hs.load('signal_quanti.hspy')"
   ]
  },
  {
   "cell_type": "code",
   "execution_count": 4,
   "metadata": {},
   "outputs": [],
   "source": [
    "s.set_lines([])\n",
    "s.add_lines(['Fe_La'])"
   ]
  },
  {
   "cell_type": "code",
   "execution_count": 5,
   "metadata": {},
   "outputs": [],
   "source": [
    "result=hs.load(r'C:\\\\Your Directory '+ '*.hspy')"
   ]
  },
  {
   "cell_type": "code",
   "execution_count": 15,
   "metadata": {},
   "outputs": [
    {
     "data": {
      "text/plain": [
       "[<BaseSignal, title: Intensity of Al_Ka at 1.49 keV from EDS, dimensions: (76, 66|)>,\n",
       " <BaseSignal, title: Intensity of C_Ka at 0.28 keV from EDS, dimensions: (76, 66|)>,\n",
       " <BaseSignal, title: Intensity of Ca_Ka at 3.69 keV from EDS, dimensions: (76, 66|)>,\n",
       " <BaseSignal, title: Intensity of Cl_Ka at 2.62 keV from EDS, dimensions: (76, 66|)>,\n",
       " <BaseSignal, title: Intensity of Cr_Ka at 5.41 keV from EDS, dimensions: (76, 66|)>,\n",
       " <BaseSignal, title: Intensity of Cu_Ka at 8.05 keV from EDS, dimensions: (76, 66|)>,\n",
       " <BaseSignal, title: Intensity of F_Ka at 0.68 keV from EDS, dimensions: (76, 66|)>,\n",
       " <BaseSignal, title: Intensity of Fe_Ka at 6.40 keV from EDS, dimensions: (76, 66|)>,\n",
       " <BaseSignal, title: Intensity of Fe_La at 0.70 keV from EDS, dimensions: (76, 66|)>,\n",
       " <BaseSignal, title: Intensity of Ga_Ka at 9.25 keV from EDS, dimensions: (76, 66|)>,\n",
       " <BaseSignal, title: Intensity of K_Ka at 3.31 keV from EDS, dimensions: (76, 66|)>,\n",
       " <BaseSignal, title: Intensity of Mg_Ka at 1.25 keV from EDS, dimensions: (76, 66|)>,\n",
       " <BaseSignal, title: Intensity of Mn_Ka at 5.90 keV from EDS, dimensions: (76, 66|)>,\n",
       " <BaseSignal, title: Intensity of N_Ka at 0.39 keV from EDS, dimensions: (76, 66|)>,\n",
       " <BaseSignal, title: Intensity of Na_Ka at 1.04 keV from EDS, dimensions: (76, 66|)>,\n",
       " <BaseSignal, title: Intensity of Ni_Ka at 7.48 keV from EDS, dimensions: (76, 66|)>,\n",
       " <BaseSignal, title: Intensity of O_Ka at 0.52 keV from EDS, dimensions: (76, 66|)>,\n",
       " <BaseSignal, title: Intensity of P_Ka at 2.01 keV from EDS, dimensions: (76, 66|)>,\n",
       " <BaseSignal, title: Intensity of Pt_La at 9.44 keV from EDS, dimensions: (76, 66|)>,\n",
       " <BaseSignal, title: Intensity of S_Ka at 2.31 keV from EDS, dimensions: (76, 66|)>,\n",
       " <BaseSignal, title: Intensity of Si_Ka at 1.74 keV from EDS, dimensions: (76, 66|)>,\n",
       " <BaseSignal, title: Intensity of Ti_Ka at 4.51 keV from EDS, dimensions: (76, 66|)>]"
      ]
     },
     "execution_count": 15,
     "metadata": {},
     "output_type": "execute_result"
    }
   ],
   "source": [
    "result"
   ]
  },
  {
   "cell_type": "code",
   "execution_count": 9,
   "metadata": {},
   "outputs": [],
   "source": [
    "M1=hs.load('mask_amorphous.hspy')"
   ]
  },
  {
   "cell_type": "code",
   "execution_count": 10,
   "metadata": {},
   "outputs": [],
   "source": [
    "M1.plot()"
   ]
  },
  {
   "cell_type": "code",
   "execution_count": 11,
   "metadata": {},
   "outputs": [],
   "source": [
    "M1=M1.rebin([152/2,132/2])"
   ]
  },
  {
   "cell_type": "code",
   "execution_count": 12,
   "metadata": {},
   "outputs": [],
   "source": [
    "M1 = M1==4\n",
    "M1.plot()"
   ]
  },
  {
   "cell_type": "code",
   "execution_count": 13,
   "metadata": {},
   "outputs": [],
   "source": [
    "val = [3, 0, 2, -1, 2.66, 0, -1, 2.66, 2.66, 0, 1, 2, 2, 0, 1, 2, -2, -3, 0, -2, 4, 3]"
   ]
  },
  {
   "cell_type": "code",
   "execution_count": 14,
   "metadata": {},
   "outputs": [
    {
     "name": "stdout",
     "output_type": "stream",
     "text": [
      "['Al', 'C', 'Ca', 'Cl', 'Cr', 'Cu', 'F', 'Fe', 'Ga', 'K', 'Mg', 'Mn', 'N', 'Na', 'Ni', 'O', 'P', 'Pt', 'S', 'Si', 'Ti']\n",
      "Al_Ka 3\n",
      "C_Ka 0\n",
      "Ca_Ka 2\n",
      "Cl_Ka -1\n",
      "Cr_Ka 2.66\n",
      "Cu_Ka 0\n",
      "F_Ka -1\n",
      "Fe_Ka 2.66\n",
      "Fe_La 2.66\n",
      "Ga_Ka 0\n",
      "K_Ka 1\n",
      "Mg_Ka 2\n",
      "Mn_Ka 2\n",
      "N_Ka 0\n",
      "Na_Ka 1\n",
      "Ni_Ka 2\n",
      "O_Ka -2\n",
      "P_Ka -3\n",
      "Pt_La 0\n",
      "S_Ka -2\n",
      "Si_Ka 4\n",
      "Ti_Ka 3\n"
     ]
    }
   ],
   "source": [
    "\n",
    "print(s.metadata.Sample.elements),\n",
    "\n",
    "\n",
    "for i in range (len(s.metadata.Sample.xray_lines)):\n",
    "    print(s.metadata.Sample.xray_lines[i],val[i])"
   ]
  },
  {
   "cell_type": "code",
   "execution_count": 16,
   "metadata": {},
   "outputs": [
    {
     "name": "stdout",
     "output_type": "stream",
     "text": [
      "elts [['Al'], ['C'], ['Ca'], ['Cl'], ['Cr'], ['Cu'], ['F'], ['Fe'], ['Fe'], ['Ga'], ['K'], ['Mg'], ['Mn'], ['N'], ['Na'], ['Ni'], ['O'], ['P'], ['Pt'], ['S'], ['Si'], ['Ti']]\n",
      "number of pixels to deal with:  1129 total number of pixels:  5016\n"
     ]
    },
    {
     "name": "stderr",
     "output_type": "stream",
     "text": [
      "C:\\Anaconda3\\lib\\site-packages\\hyperspy\\misc\\eds\\utils.py:447: RuntimeWarning: divide by zero encountered in double_scalars\n",
      "  / intensities[i] / kfactors[i]\n",
      "C:\\Anaconda3\\lib\\site-packages\\hyperspy\\misc\\eds\\utils.py:447: RuntimeWarning: overflow encountered in double_scalars\n",
      "  / intensities[i] / kfactors[i]\n",
      "C:\\Anaconda3\\lib\\site-packages\\hyperspy\\misc\\eds\\utils.py:383: RuntimeWarning: invalid value encountered in greater\n",
      "  index = np.where(intens[:, i] > min_intensity)[0]\n",
      "D:\\Users\\Documents\\GitHub\\CL_quant\\absorption_correction_auto.py:86: RuntimeWarning: invalid value encountered in true_divide\n",
      "  rat = SubQuant[0].data/(Elt_rat*SubQuant[1].data)\n",
      "D:\\Users\\Documents\\GitHub\\CL_quant\\absorption_correction_auto.py:88: RuntimeWarning: invalid value encountered in true_divide\n",
      "  Dev = (SubQuant[0].data - Elt_rat * SubQuant[1].data)/SubQuant[0].data\n"
     ]
    },
    {
     "name": "stdout",
     "output_type": "stream",
     "text": [
      "line1/line2 deviation (%) = 22.04840621668063   processing next iteration\n",
      "line1/line2 deviation (%) = 12.676834699959127   processing next iteration\n",
      "line1/line2 deviation (%) = 7.997761403731639   processing next iteration\n",
      "line1/line2 deviation (%) = 5.291031205207215   processing next iteration\n",
      "line1/line2 deviation (%) = 3.5821725790075623   processing next iteration\n",
      "line1/line2 deviation (%) = 2.487310163871302   processing next iteration\n",
      "line1/line2 deviation (%) = 1.7495179919785102   processing next iteration\n",
      "line1/line2 deviation (%) = 1.2415926161474715   processing next iteration\n",
      "line1/line2 deviation (%) = 0.8809684556779579   processing next iteration\n",
      "line1/line2 deviation (%) = 0.6273313995376226   processing next iteration\n",
      "line1/line2 deviation (%) = 0.4464634763471118   processing next iteration\n",
      "line1/line2 deviation (%) = 0.32029851339361726   processing next iteration\n",
      "line1/line2 deviation (%) = 0.2298561114626113   processing next iteration\n",
      "line1/line2 deviation (%) = 0.16510413916086042   processing next iteration\n",
      "line1/line2 deviation (%) = 0.11870815816541645   processing next iteration\n",
      "line1/line2 deviation (%) = 0.08545553505550281   processing next iteration\n",
      "line1/line2 deviation (%) = 0.06154029404704198   processing next iteration\n",
      "line1/line2 deviation (%) = 0.04432960371355824   processing next iteration\n",
      "line1/line2 deviation (%) = 0.031938229932046217   processing next iteration\n",
      "line1/line2 deviation (%) = 0.023013750293376503   processing next iteration\n",
      "line1/line2 deviation (%) = 0.016584670576687638   processing next iteration\n",
      "line1/line2 deviation (%) = 0.011952457518836175   processing next iteration\n",
      "line1/line2 deviation (%) = 0.008614495284566504   processing next iteration\n"
     ]
    },
    {
     "name": "stderr",
     "output_type": "stream",
     "text": [
      "C:\\Anaconda3\\lib\\site-packages\\hyperspy\\misc\\material.py:42: RuntimeWarning: invalid value encountered in true_divide\n",
      "  atomic_percent[i] /= sum_weight\n",
      "C:\\Anaconda3\\lib\\site-packages\\hyperspy\\misc\\material.py:120: RuntimeWarning: invalid value encountered in true_divide\n",
      "  weight_percent[i] /= sum_atomic\n"
     ]
    },
    {
     "name": "stdout",
     "output_type": "stream",
     "text": [
      "Water computed\n",
      "Wall time: 21min 48s\n"
     ]
    }
   ],
   "source": [
    "%%time\n",
    "\n",
    "\"\"\"Quantification based on M1\"\"\"\n",
    "\n",
    "\n",
    "\n",
    "result_cor = correct_result(result)\n",
    "factors = kfactors(result)\n",
    "val = val = [3, 0, 2, -1, 2.66, 0, -1, 2.66, 2.66, 0, 1, 2, 2, 0, 1, 2, -2, -3, 0, -2, 4, 3]\n",
    "Quant, H2O, mt, Dev = absorption_correction_auto (result_cor, s, factors, line1 = 'Fe_Ka', line2 = 'Fe_La', Elt_rat = 1, d = 2.9, t = 150, tilt_stage = 0, navigation_mask = ~M1, Crit=0.01, water=True, valence = val)"
   ]
  },
  {
   "cell_type": "code",
   "execution_count": 22,
   "metadata": {},
   "outputs": [],
   "source": [
    "for i in range (len(Quant)):\n",
    "    Quant[i].save(r'C:\\\\Your Directory\\Quant\\ '+ Quant[i].metadata.General.title + str(i) +'.hspy',overwrite=True)\n",
    "    tiff.imsave(r'C:\\\\Your Directory\\Quant\\ '+ Quant[i].metadata.General.title + str(i) +'.tiff',(Quant[i].data))\n",
    "    np.savetxt(r'C:\\\\Your Directory\\Quant\\ '+ Quant[i].metadata.General.title + str(i) +'.txt',(Quant[i].data))"
   ]
  },
  {
   "cell_type": "code",
   "execution_count": 19,
   "metadata": {},
   "outputs": [
    {
     "data": {
      "text/plain": [
       "[<BaseSignal, title: atomic percent of Al, dimensions: (76, 66|)>,\n",
       " <BaseSignal, title: atomic percent of C, dimensions: (76, 66|)>,\n",
       " <BaseSignal, title: atomic percent of Ca, dimensions: (76, 66|)>,\n",
       " <BaseSignal, title: atomic percent of Cl, dimensions: (76, 66|)>,\n",
       " <BaseSignal, title: atomic percent of Cr, dimensions: (76, 66|)>,\n",
       " <BaseSignal, title: atomic percent of Cu, dimensions: (76, 66|)>,\n",
       " <BaseSignal, title: atomic percent of F, dimensions: (76, 66|)>,\n",
       " <BaseSignal, title: atomic percent of Fe, dimensions: (76, 66|)>,\n",
       " <BaseSignal, title: atomic percent of Fe, dimensions: (76, 66|)>,\n",
       " <BaseSignal, title: atomic percent of Ga, dimensions: (76, 66|)>,\n",
       " <BaseSignal, title: atomic percent of K, dimensions: (76, 66|)>,\n",
       " <BaseSignal, title: atomic percent of Mg, dimensions: (76, 66|)>,\n",
       " <BaseSignal, title: atomic percent of Mn, dimensions: (76, 66|)>,\n",
       " <BaseSignal, title: atomic percent of N, dimensions: (76, 66|)>,\n",
       " <BaseSignal, title: atomic percent of Na, dimensions: (76, 66|)>,\n",
       " <BaseSignal, title: atomic percent of Ni, dimensions: (76, 66|)>,\n",
       " <BaseSignal, title: atomic percent of O, dimensions: (76, 66|)>,\n",
       " <BaseSignal, title: atomic percent of P, dimensions: (76, 66|)>,\n",
       " <BaseSignal, title: atomic percent of Pt, dimensions: (76, 66|)>,\n",
       " <BaseSignal, title: atomic percent of S, dimensions: (76, 66|)>,\n",
       " <BaseSignal, title: atomic percent of Si, dimensions: (76, 66|)>,\n",
       " <BaseSignal, title: atomic percent of Ti, dimensions: (76, 66|)>,\n",
       " <BaseSignal, title: atomic percent of H, dimensions: (76, 66|)>]"
      ]
     },
     "execution_count": 19,
     "metadata": {},
     "output_type": "execute_result"
    }
   ],
   "source": [
    "Quant"
   ]
  },
  {
   "cell_type": "code",
   "execution_count": 24,
   "metadata": {},
   "outputs": [],
   "source": [
    "data_output(Quant, result_cor,H2O, mt_List=mt,density_or_thickness=2.9, name = 'Quanti amorphous.xlsx')"
   ]
  },
  {
   "cell_type": "code",
   "execution_count": 17,
   "metadata": {},
   "outputs": [
    {
     "name": "stdout",
     "output_type": "stream",
     "text": [
      "3.194373704917187\n",
      "7.103450266245317\n"
     ]
    }
   ],
   "source": [
    "plt.figure()\n",
    "plt.imshow(H2O, cmap = 'jet')\n",
    "plt.colorbar()\n",
    "print(np.nanstd(H2O[M1]))\n",
    "print(np.nanmean(H2O[M1]))"
   ]
  },
  {
   "cell_type": "markdown",
   "metadata": {},
   "source": [
    "## 5. Bulk composition<a class=\"anchor\" id=\"fifth-bullet\"></a>"
   ]
  },
  {
   "cell_type": "markdown",
   "metadata": {},
   "source": [
    "### Model"
   ]
  },
  {
   "cell_type": "code",
   "execution_count": 1,
   "metadata": {},
   "outputs": [],
   "source": [
    "%matplotlib qt\n",
    "\n",
    "import numpy as np\n",
    "import matplotlib.pyplot as plt\n",
    "import tifffile as tiff"
   ]
  },
  {
   "cell_type": "code",
   "execution_count": 2,
   "metadata": {},
   "outputs": [
    {
     "name": "stderr",
     "output_type": "stream",
     "text": [
      "WARNING:hyperspy.api:The ipywidgets GUI elements are not available, probably because the hyperspy_gui_ipywidgets package is not installed.\n"
     ]
    }
   ],
   "source": [
    "import imp\n",
    "hs=imp.load_source(\"hyperspy\", \"C:\\\\Users\\Pierre-Marie\\Documents\\GitHub\\ZanettaPM\\hyperspy\\hyperspy/__init__.py\")\n",
    "hs=imp.load_source(\"hyperspy.api\", \"C:\\\\Users\\Pierre-Marie\\Documents\\GitHub\\ZanettaPM\\hyperspy/hyperspy/api.py\")"
   ]
  },
  {
   "cell_type": "code",
   "execution_count": 3,
   "metadata": {},
   "outputs": [],
   "source": [
    "s=hs.load('signal quanti.hspy')"
   ]
  },
  {
   "cell_type": "code",
   "execution_count": 8,
   "metadata": {},
   "outputs": [],
   "source": [
    "s.plot(True)"
   ]
  },
  {
   "cell_type": "code",
   "execution_count": 4,
   "metadata": {},
   "outputs": [],
   "source": [
    "s.metadata.Sample.elements=[]\n",
    "s.set_elements([\"C\", \"O\",'Na','K',\"Mg\", \"Al\", \"Si\", \"Fe\",\"Fe\", \"Cr\", \"Ni\",'S','Ca','Cu','Ga','Pt','P','Cl','Mn','N','Ti','F'])"
   ]
  },
  {
   "cell_type": "code",
   "execution_count": 5,
   "metadata": {},
   "outputs": [],
   "source": [
    "M1=hs.load('mask_amorphous.hspy')"
   ]
  },
  {
   "cell_type": "code",
   "execution_count": 7,
   "metadata": {},
   "outputs": [],
   "source": [
    "M1=M1.rebin([152/2,132/2])"
   ]
  },
  {
   "cell_type": "code",
   "execution_count": 8,
   "metadata": {},
   "outputs": [],
   "source": [
    "M1 = M1>2\n",
    "M1.plot()"
   ]
  },
  {
   "cell_type": "code",
   "execution_count": 9,
   "metadata": {},
   "outputs": [],
   "source": [
    "a=s.data[M1]\n",
    "a=hs.signals.EDSTEMSpectrum(a)\n",
    "#a.sum().plot()\n",
    "a=a.sum()"
   ]
  },
  {
   "cell_type": "code",
   "execution_count": 10,
   "metadata": {},
   "outputs": [],
   "source": [
    "a.metadata=s.metadata\n",
    "a.get_calibration_from(s)"
   ]
  },
  {
   "cell_type": "code",
   "execution_count": 11,
   "metadata": {},
   "outputs": [],
   "source": [
    "a.plot(True)"
   ]
  },
  {
   "cell_type": "code",
   "execution_count": 12,
   "metadata": {},
   "outputs": [
    {
     "data": {
      "text/plain": [
       "├── Acquisition_instrument\n",
       "│   └── TEM\n",
       "│       ├── Detector\n",
       "│       │   └── EDS\n",
       "│       │       ├── azimuth_angle = 0.0\n",
       "│       │       ├── elevation_angle = 18.0\n",
       "│       │       ├── energy_resolution_MnKa = 130.0\n",
       "│       │       └── number_of_frames = 3004\n",
       "│       ├── Stage\n",
       "│       │   ├── tilt_alpha = 0.00\n",
       "│       │   ├── tilt_beta = 0.00\n",
       "│       │   ├── x = -0.000\n",
       "│       │   ├── y = -0.000\n",
       "│       │   └── z = -0.000\n",
       "│       ├── beam_energy = 300.0\n",
       "│       ├── camera_length = 115.9\n",
       "│       ├── magnification = 5000.0\n",
       "│       └── microscope = Titan\n",
       "├── General\n",
       "│   ├── date = 2018-05-03\n",
       "│   ├── original_filename = SI EDS-HAADF 1644 20180503.emd\n",
       "│   ├── time = 16:44:48\n",
       "│   ├── time_zone = Paris, Madrid (heure dété)\n",
       "│   └── title = EDS\n",
       "├── Sample\n",
       "│   ├── elements = ['Al', 'C', 'Ca', 'Cl', 'Cr', 'Cu', 'F', 'Fe', 'Ga', 'K', 'Mg', 'Mn', 'N', 'Na', 'Ni', 'O', 'P', 'Pt', 'S', 'Si', 'Ti']\n",
       "│   └── xray_lines <list>\n",
       "│       ╠══ [0] = Al_Ka\n",
       "│       ╠══ [1] = C_Ka\n",
       "│       ╠══ [10] = K_Ka\n",
       "│       ╠══ [11] = Mg_Ka\n",
       "│       ╠══ [12] = Mn_Ka\n",
       "│       ╠══ [13] = N_Ka\n",
       "│       ╠══ [14] = Na_Ka\n",
       "│       ╠══ [15] = Ni_Ka\n",
       "│       ╠══ [16] = O_Ka\n",
       "│       ╠══ [17] = P_Ka\n",
       "│       ╠══ [18] = Pt_La\n",
       "│       ╠══ [19] = S_Ka\n",
       "│       ╠══ [2] = Ca_Ka\n",
       "│       ╠══ [20] = Si_Ka\n",
       "│       ╠══ [21] = Ti_Ka\n",
       "│       ╠══ [3] = Cl_Ka\n",
       "│       ╠══ [4] = Cr_Ka\n",
       "│       ╠══ [5] = Cu_Ka\n",
       "│       ╠══ [6] = F_Ka\n",
       "│       ╠══ [7] = Fe_Ka\n",
       "│       ╠══ [8] = Fe_La\n",
       "│       ╚══ [9] = Ga_Ka\n",
       "└── Signal\n",
       "    ├── binned = True\n",
       "    └── signal_type = EDS_TEM"
      ]
     },
     "execution_count": 12,
     "metadata": {},
     "output_type": "execute_result"
    }
   ],
   "source": [
    "a.metadata"
   ]
  },
  {
   "cell_type": "code",
   "execution_count": 13,
   "metadata": {},
   "outputs": [],
   "source": [
    "import numpy as np\n",
    "#superx=np.loadtxt('Det_eff.txt')\n",
    "#superx = 0.6*superx\n",
    "\n",
    "m2 = a.create_model(auto_background = False)"
   ]
  },
  {
   "cell_type": "code",
   "execution_count": 14,
   "metadata": {},
   "outputs": [
    {
     "data": {
      "text/plain": [
       "   # |      Attribute Name |      Component Name |      Component Type\n",
       "---- | ------------------- | ------------------- | -------------------\n",
       "   0 |               Al_Ka |               Al_Ka |            Gaussian\n",
       "   1 |               Al_Kb |               Al_Kb |            Gaussian\n",
       "   2 |                C_Ka |                C_Ka |            Gaussian\n",
       "   3 |               Ca_Ka |               Ca_Ka |            Gaussian\n",
       "   4 |               Ca_Kb |               Ca_Kb |            Gaussian\n",
       "   5 |               Ca_La |               Ca_La |            Gaussian\n",
       "   6 |               Ca_Ln |               Ca_Ln |            Gaussian\n",
       "   7 |               Ca_Ll |               Ca_Ll |            Gaussian\n",
       "   8 |               Cl_Ka |               Cl_Ka |            Gaussian\n",
       "   9 |               Cl_Kb |               Cl_Kb |            Gaussian\n",
       "  10 |               Cr_Ka |               Cr_Ka |            Gaussian\n",
       "  11 |               Cr_Kb |               Cr_Kb |            Gaussian\n",
       "  12 |               Cr_La |               Cr_La |            Gaussian\n",
       "  13 |               Cr_Ln |               Cr_Ln |            Gaussian\n",
       "  14 |               Cr_Ll |               Cr_Ll |            Gaussian\n",
       "  15 |              Cr_Lb3 |              Cr_Lb3 |            Gaussian\n",
       "  16 |               Cu_Ka |               Cu_Ka |            Gaussian\n",
       "  17 |               Cu_Kb |               Cu_Kb |            Gaussian\n",
       "  18 |               Cu_La |               Cu_La |            Gaussian\n",
       "  19 |              Cu_Lb1 |              Cu_Lb1 |            Gaussian\n",
       "  20 |               Cu_Ln |               Cu_Ln |            Gaussian\n",
       "  21 |               Cu_Ll |               Cu_Ll |            Gaussian\n",
       "  22 |              Cu_Lb3 |              Cu_Lb3 |            Gaussian\n",
       "  23 |                F_Ka |                F_Ka |            Gaussian\n",
       "  24 |               Fe_Ka |               Fe_Ka |            Gaussian\n",
       "  25 |               Fe_Kb |               Fe_Kb |            Gaussian\n",
       "  26 |               Fe_La |               Fe_La |            Gaussian\n",
       "  27 |               Fe_Ln |               Fe_Ln |            Gaussian\n",
       "  28 |               Fe_Ll |               Fe_Ll |            Gaussian\n",
       "  29 |              Fe_Lb3 |              Fe_Lb3 |            Gaussian\n",
       "  30 |               Ga_Ka |               Ga_Ka |            Gaussian\n",
       "  31 |               Ga_La |               Ga_La |            Gaussian\n",
       "  32 |              Ga_Lb1 |              Ga_Lb1 |            Gaussian\n",
       "  33 |               Ga_Ln |               Ga_Ln |            Gaussian\n",
       "  34 |               Ga_Ll |               Ga_Ll |            Gaussian\n",
       "  35 |              Ga_Lb3 |              Ga_Lb3 |            Gaussian\n",
       "  36 |                K_Ka |                K_Ka |            Gaussian\n",
       "  37 |                K_Kb |                K_Kb |            Gaussian\n",
       "  38 |               Mg_Ka |               Mg_Ka |            Gaussian\n",
       "  39 |               Mg_Kb |               Mg_Kb |            Gaussian\n",
       "  40 |               Mn_Ka |               Mn_Ka |            Gaussian\n",
       "  41 |               Mn_Kb |               Mn_Kb |            Gaussian\n",
       "  42 |               Mn_La |               Mn_La |            Gaussian\n",
       "  43 |               Mn_Ln |               Mn_Ln |            Gaussian\n",
       "  44 |               Mn_Ll |               Mn_Ll |            Gaussian\n",
       "  45 |              Mn_Lb3 |              Mn_Lb3 |            Gaussian\n",
       "  46 |                N_Ka |                N_Ka |            Gaussian\n",
       "  47 |               Na_Ka |               Na_Ka |            Gaussian\n",
       "  48 |               Na_Kb |               Na_Kb |            Gaussian\n",
       "  49 |               Ni_Ka |               Ni_Ka |            Gaussian\n",
       "  50 |               Ni_Kb |               Ni_Kb |            Gaussian\n",
       "  51 |               Ni_La |               Ni_La |            Gaussian\n",
       "  52 |              Ni_Lb1 |              Ni_Lb1 |            Gaussian\n",
       "  53 |               Ni_Ln |               Ni_Ln |            Gaussian\n",
       "  54 |               Ni_Ll |               Ni_Ll |            Gaussian\n",
       "  55 |              Ni_Lb3 |              Ni_Lb3 |            Gaussian\n",
       "  56 |                O_Ka |                O_Ka |            Gaussian\n",
       "  57 |                P_Ka |                P_Ka |            Gaussian\n",
       "  58 |                P_Kb |                P_Kb |            Gaussian\n",
       "  59 |               Pt_La |               Pt_La |            Gaussian\n",
       "  60 |               Pt_Ln |               Pt_Ln |            Gaussian\n",
       "  61 |               Pt_Ll |               Pt_Ll |            Gaussian\n",
       "  62 |               Pt_Ma |               Pt_Ma |            Gaussian\n",
       "  63 |             Pt_M2N4 |             Pt_M2N4 |            Gaussian\n",
       "  64 |             Pt_M3O4 |             Pt_M3O4 |            Gaussian\n",
       "  65 |               Pt_Mb |               Pt_Mb |            Gaussian\n",
       "  66 |               Pt_Mg |               Pt_Mg |            Gaussian\n",
       "  67 |             Pt_M3O5 |             Pt_M3O5 |            Gaussian\n",
       "  68 |               Pt_Mz |               Pt_Mz |            Gaussian\n",
       "  69 |                S_Ka |                S_Ka |            Gaussian\n",
       "  70 |                S_Kb |                S_Kb |            Gaussian\n",
       "  71 |               Si_Ka |               Si_Ka |            Gaussian\n",
       "  72 |               Si_Kb |               Si_Kb |            Gaussian\n",
       "  73 |               Ti_Ka |               Ti_Ka |            Gaussian\n",
       "  74 |               Ti_Kb |               Ti_Kb |            Gaussian\n",
       "  75 |               Ti_La |               Ti_La |            Gaussian\n",
       "  76 |               Ti_Ln |               Ti_Ln |            Gaussian\n",
       "  77 |               Ti_Ll |               Ti_Ll |            Gaussian\n",
       "  78 |              Ti_Lb3 |              Ti_Lb3 |            Gaussian"
      ]
     },
     "execution_count": 14,
     "metadata": {},
     "output_type": "execute_result"
    }
   ],
   "source": [
    "m2.components"
   ]
  },
  {
   "cell_type": "code",
   "execution_count": 15,
   "metadata": {},
   "outputs": [],
   "source": [
    "To_delete = []\n",
    "for j in range (6,8):\n",
    "    To_delete.append(m2[j].name)\n",
    "for j in range (13, 16):\n",
    "    To_delete.append(m2[j].name)\n",
    "for j in range (19, 23):\n",
    "    To_delete.append(m2[j].name)\n",
    "for j in range (32, 36):\n",
    "    To_delete.append(m2[j].name)\n",
    "for j in range (43, 46):\n",
    "    To_delete.append(m2[j].name)\n",
    "for j in range (60, 69):\n",
    "    To_delete.append(m2[j].name)\n",
    "for j in range (76, 79):\n",
    "    To_delete.append(m2[j].name)\n",
    "m2.remove(To_delete)"
   ]
  },
  {
   "cell_type": "code",
   "execution_count": 16,
   "metadata": {},
   "outputs": [
    {
     "data": {
      "text/plain": [
       "   # |      Attribute Name |      Component Name |      Component Type\n",
       "---- | ------------------- | ------------------- | -------------------\n",
       "   0 |               Al_Ka |               Al_Ka |            Gaussian\n",
       "   1 |               Al_Kb |               Al_Kb |            Gaussian\n",
       "   2 |                C_Ka |                C_Ka |            Gaussian\n",
       "   3 |               Ca_Ka |               Ca_Ka |            Gaussian\n",
       "   4 |               Ca_Kb |               Ca_Kb |            Gaussian\n",
       "   5 |               Ca_La |               Ca_La |            Gaussian\n",
       "   6 |               Cl_Ka |               Cl_Ka |            Gaussian\n",
       "   7 |               Cl_Kb |               Cl_Kb |            Gaussian\n",
       "   8 |               Cr_Ka |               Cr_Ka |            Gaussian\n",
       "   9 |               Cr_Kb |               Cr_Kb |            Gaussian\n",
       "  10 |               Cr_La |               Cr_La |            Gaussian\n",
       "  11 |               Cu_Ka |               Cu_Ka |            Gaussian\n",
       "  12 |               Cu_Kb |               Cu_Kb |            Gaussian\n",
       "  13 |               Cu_La |               Cu_La |            Gaussian\n",
       "  14 |                F_Ka |                F_Ka |            Gaussian\n",
       "  15 |               Fe_Ka |               Fe_Ka |            Gaussian\n",
       "  16 |               Fe_Kb |               Fe_Kb |            Gaussian\n",
       "  17 |               Fe_La |               Fe_La |            Gaussian\n",
       "  18 |               Fe_Ln |               Fe_Ln |            Gaussian\n",
       "  19 |               Fe_Ll |               Fe_Ll |            Gaussian\n",
       "  20 |              Fe_Lb3 |              Fe_Lb3 |            Gaussian\n",
       "  21 |               Ga_Ka |               Ga_Ka |            Gaussian\n",
       "  22 |               Ga_La |               Ga_La |            Gaussian\n",
       "  23 |                K_Ka |                K_Ka |            Gaussian\n",
       "  24 |                K_Kb |                K_Kb |            Gaussian\n",
       "  25 |               Mg_Ka |               Mg_Ka |            Gaussian\n",
       "  26 |               Mg_Kb |               Mg_Kb |            Gaussian\n",
       "  27 |               Mn_Ka |               Mn_Ka |            Gaussian\n",
       "  28 |               Mn_Kb |               Mn_Kb |            Gaussian\n",
       "  29 |               Mn_La |               Mn_La |            Gaussian\n",
       "  30 |                N_Ka |                N_Ka |            Gaussian\n",
       "  31 |               Na_Ka |               Na_Ka |            Gaussian\n",
       "  32 |               Na_Kb |               Na_Kb |            Gaussian\n",
       "  33 |               Ni_Ka |               Ni_Ka |            Gaussian\n",
       "  34 |               Ni_Kb |               Ni_Kb |            Gaussian\n",
       "  35 |               Ni_La |               Ni_La |            Gaussian\n",
       "  36 |              Ni_Lb1 |              Ni_Lb1 |            Gaussian\n",
       "  37 |               Ni_Ln |               Ni_Ln |            Gaussian\n",
       "  38 |               Ni_Ll |               Ni_Ll |            Gaussian\n",
       "  39 |              Ni_Lb3 |              Ni_Lb3 |            Gaussian\n",
       "  40 |                O_Ka |                O_Ka |            Gaussian\n",
       "  41 |                P_Ka |                P_Ka |            Gaussian\n",
       "  42 |                P_Kb |                P_Kb |            Gaussian\n",
       "  43 |               Pt_La |               Pt_La |            Gaussian\n",
       "  44 |                S_Ka |                S_Ka |            Gaussian\n",
       "  45 |                S_Kb |                S_Kb |            Gaussian\n",
       "  46 |               Si_Ka |               Si_Ka |            Gaussian\n",
       "  47 |               Si_Kb |               Si_Kb |            Gaussian\n",
       "  48 |               Ti_Ka |               Ti_Ka |            Gaussian\n",
       "  49 |               Ti_Kb |               Ti_Kb |            Gaussian\n",
       "  50 |               Ti_La |               Ti_La |            Gaussian"
      ]
     },
     "execution_count": 16,
     "metadata": {},
     "output_type": "execute_result"
    }
   ],
   "source": [
    "m2.components"
   ]
  },
  {
   "cell_type": "code",
   "execution_count": 17,
   "metadata": {},
   "outputs": [],
   "source": [
    "m2.components.Fe_La.A.twin = None\n",
    "m2.components.Fe_Ll.A.twin = None"
   ]
  },
  {
   "cell_type": "code",
   "execution_count": 18,
   "metadata": {},
   "outputs": [
    {
     "data": {
      "text/plain": [
       "{'Quant map and absorption correction parameters have been created'}"
      ]
     },
     "execution_count": 18,
     "metadata": {},
     "output_type": "execute_result"
    }
   ],
   "source": [
    "m2.add_physical_background(detector='SuperX', absorption_model='quadrilateral',TOA=1)#, quantification = SimplQuant)\n",
    "m2.components.Bremsstrahlung.initialize()"
   ]
  },
  {
   "cell_type": "code",
   "execution_count": 20,
   "metadata": {},
   "outputs": [],
   "source": [
    "m2.fit_background(bounded = True, windows_sigma=(3, 3))"
   ]
  },
  {
   "cell_type": "code",
   "execution_count": 21,
   "metadata": {},
   "outputs": [],
   "source": [
    "m2.plot(True)"
   ]
  },
  {
   "cell_type": "code",
   "execution_count": 22,
   "metadata": {},
   "outputs": [],
   "source": [
    "# m2.set_parameters_value('A',1)\n",
    "m2.fit(bounded=True)"
   ]
  },
  {
   "cell_type": "code",
   "execution_count": 23,
   "metadata": {},
   "outputs": [],
   "source": [
    "s.set_lines([])\n",
    "s.add_lines(['Fe_La'])"
   ]
  },
  {
   "cell_type": "code",
   "execution_count": 24,
   "metadata": {},
   "outputs": [],
   "source": [
    "result = m2.get_lines_intensity(xray_lines = 'from_metadata', plot_result=False)"
   ]
  },
  {
   "cell_type": "code",
   "execution_count": 25,
   "metadata": {},
   "outputs": [
    {
     "data": {
      "text/plain": [
       "[<BaseSignal, title: Intensity of Al_Ka at 1.49 keV from EDS, dimensions: (|1)>,\n",
       " <BaseSignal, title: Intensity of C_Ka at 0.28 keV from EDS, dimensions: (|1)>,\n",
       " <BaseSignal, title: Intensity of Ca_Ka at 3.69 keV from EDS, dimensions: (|1)>,\n",
       " <BaseSignal, title: Intensity of Cl_Ka at 2.62 keV from EDS, dimensions: (|1)>,\n",
       " <BaseSignal, title: Intensity of Cr_Ka at 5.41 keV from EDS, dimensions: (|1)>,\n",
       " <BaseSignal, title: Intensity of Cu_Ka at 8.05 keV from EDS, dimensions: (|1)>,\n",
       " <BaseSignal, title: Intensity of F_Ka at 0.68 keV from EDS, dimensions: (|1)>,\n",
       " <BaseSignal, title: Intensity of Fe_Ka at 6.40 keV from EDS, dimensions: (|1)>,\n",
       " <BaseSignal, title: Intensity of Fe_La at 0.70 keV from EDS, dimensions: (|1)>,\n",
       " <BaseSignal, title: Intensity of Ga_Ka at 9.25 keV from EDS, dimensions: (|1)>,\n",
       " <BaseSignal, title: Intensity of K_Ka at 3.31 keV from EDS, dimensions: (|1)>,\n",
       " <BaseSignal, title: Intensity of Mg_Ka at 1.25 keV from EDS, dimensions: (|1)>,\n",
       " <BaseSignal, title: Intensity of Mn_Ka at 5.90 keV from EDS, dimensions: (|1)>,\n",
       " <BaseSignal, title: Intensity of N_Ka at 0.39 keV from EDS, dimensions: (|1)>,\n",
       " <BaseSignal, title: Intensity of Na_Ka at 1.04 keV from EDS, dimensions: (|1)>,\n",
       " <BaseSignal, title: Intensity of Ni_Ka at 7.48 keV from EDS, dimensions: (|1)>,\n",
       " <BaseSignal, title: Intensity of O_Ka at 0.52 keV from EDS, dimensions: (|1)>,\n",
       " <BaseSignal, title: Intensity of P_Ka at 2.01 keV from EDS, dimensions: (|1)>,\n",
       " <BaseSignal, title: Intensity of Pt_La at 9.44 keV from EDS, dimensions: (|1)>,\n",
       " <BaseSignal, title: Intensity of S_Ka at 2.31 keV from EDS, dimensions: (|1)>,\n",
       " <BaseSignal, title: Intensity of Si_Ka at 1.74 keV from EDS, dimensions: (|1)>,\n",
       " <BaseSignal, title: Intensity of Ti_Ka at 4.51 keV from EDS, dimensions: (|1)>]"
      ]
     },
     "execution_count": 25,
     "metadata": {},
     "output_type": "execute_result"
    }
   ],
   "source": [
    "result"
   ]
  },
  {
   "cell_type": "code",
   "execution_count": 26,
   "metadata": {},
   "outputs": [],
   "source": [
    "for i in range (len(result)):\n",
    "    result[i].save(r'C:\\\\Your Directory'+ result[i].metadata.General.title +'.hspy',overwrite=True)"
   ]
  },
  {
   "cell_type": "code",
   "execution_count": null,
   "metadata": {},
   "outputs": [],
   "source": [
    "s.save('amorphous mean')"
   ]
  },
  {
   "cell_type": "markdown",
   "metadata": {},
   "source": [
    "### Quantification"
   ]
  },
  {
   "cell_type": "code",
   "execution_count": 1,
   "metadata": {},
   "outputs": [],
   "source": [
    "%matplotlib qt\n",
    "\n",
    "import numpy as np\n",
    "import matplotlib.pyplot as plt\n",
    "import tifffile as tiff\n",
    "import hyperspy.api as hs"
   ]
  },
  {
   "cell_type": "code",
   "execution_count": 2,
   "metadata": {
    "collapsed": true
   },
   "outputs": [
    {
     "ename": "ModuleNotFoundError",
     "evalue": "No module named 'CL_Quant'",
     "output_type": "error",
     "traceback": [
      "\u001b[1;31m---------------------------------------------------------------------------\u001b[0m",
      "\u001b[1;31mModuleNotFoundError\u001b[0m                       Traceback (most recent call last)",
      "\u001b[1;32m<ipython-input-2-9f67cb972561>\u001b[0m in \u001b[0;36m<module>\u001b[1;34m\u001b[0m\n\u001b[0;32m      1\u001b[0m \u001b[1;32mimport\u001b[0m \u001b[0msys\u001b[0m\u001b[1;33m\u001b[0m\u001b[1;33m\u001b[0m\u001b[0m\n\u001b[0;32m      2\u001b[0m \u001b[0msys\u001b[0m\u001b[1;33m.\u001b[0m\u001b[0mpath\u001b[0m\u001b[1;33m.\u001b[0m\u001b[0mappend\u001b[0m\u001b[1;33m(\u001b[0m\u001b[1;34mr'D:\\Users\\Documents\\GitHub\\CL_quant'\u001b[0m\u001b[1;33m)\u001b[0m\u001b[1;33m\u001b[0m\u001b[1;33m\u001b[0m\u001b[0m\n\u001b[1;32m----> 3\u001b[1;33m \u001b[1;32mfrom\u001b[0m \u001b[0mCL_Quant\u001b[0m \u001b[1;32mimport\u001b[0m\u001b[1;33m*\u001b[0m\u001b[1;33m\u001b[0m\u001b[1;33m\u001b[0m\u001b[0m\n\u001b[0m",
      "\u001b[1;31mModuleNotFoundError\u001b[0m: No module named 'CL_Quant'"
     ]
    }
   ],
   "source": [
    "import sys\n",
    "sys.path.append(r'D:\\Users\\Documents\\GitHub\\CL_quant')\n",
    "from CL_Quant import*"
   ]
  },
  {
   "cell_type": "code",
   "execution_count": null,
   "metadata": {},
   "outputs": [],
   "source": [
    "s=hs.load('amorphous mean.hspy')"
   ]
  },
  {
   "cell_type": "code",
   "execution_count": null,
   "metadata": {},
   "outputs": [],
   "source": [
    "s.add_lines()"
   ]
  },
  {
   "cell_type": "code",
   "execution_count": null,
   "metadata": {},
   "outputs": [],
   "source": [
    "result=hs.load(r'Your Directory\\ '+ '*.hspy')"
   ]
  },
  {
   "cell_type": "code",
   "execution_count": null,
   "metadata": {},
   "outputs": [],
   "source": [
    "result"
   ]
  },
  {
   "cell_type": "code",
   "execution_count": null,
   "metadata": {},
   "outputs": [],
   "source": [
    "val = [3, 0, 2, -1, 2, 0, -1, 2, 0, 1, 2, 2, 0, 1, 2, -2, -3, 0, -2, 4, 3]\n",
    "print(s.metadata.Sample.elements),\n",
    "\n",
    "\n",
    "for i in range (len(s.metadata.Sample.xray_lines)):\n",
    "    print(s.metadata.Sample.xray_lines[i],val[i])"
   ]
  },
  {
   "cell_type": "code",
   "execution_count": 7,
   "metadata": {},
   "outputs": [
    {
     "name": "stdout",
     "output_type": "stream",
     "text": [
      "elts [['Al'], ['C'], ['Ca'], ['Cl'], ['Cr'], ['Cu'], ['F'], ['Fe'], ['Fe'], ['Ga'], ['K'], ['Mg'], ['Mn'], ['N'], ['Na'], ['Ni'], ['O'], ['P'], ['Pt'], ['S'], ['Si'], ['Ti']]\n",
      "number of pixels to deal with:  1 total number of pixels:  1\n"
     ]
    },
    {
     "name": "stderr",
     "output_type": "stream",
     "text": [
      "C:\\Anaconda3\\lib\\site-packages\\hyperspy\\misc\\eds\\utils.py:447: RuntimeWarning: divide by zero encountered in double_scalars\n",
      "  / intensities[i] / kfactors[i]\n"
     ]
    },
    {
     "name": "stdout",
     "output_type": "stream",
     "text": [
      "line1/line2 deviation (%) = 16.723236857083812   processing next iteration\n",
      "line1/line2 deviation (%) = 2.7875429883164284   processing next iteration\n",
      "line1/line2 deviation (%) = 0.7173375911509156   processing next iteration\n",
      "line1/line2 deviation (%) = 0.01003242111208743   processing next iteration\n",
      "line1/line2 deviation (%) = 0.03520460046545045   processing next iteration\n",
      "line1/line2 deviation (%) = 0.05565927557579559   processing next iteration\n",
      "line1/line2 deviation (%) = 0.04096855460331422   processing next iteration\n",
      "line1/line2 deviation (%) = 0.02655240783369538   processing next iteration\n",
      "line1/line2 deviation (%) = 0.016501016313204993   processing next iteration\n",
      "line1/line2 deviation (%) = 0.010263687012681518   processing next iteration\n",
      "line1/line2 deviation (%) = 0.006448170587027541   processing next iteration\n",
      "Water computed\n",
      "Wall time: 3min 18s\n"
     ]
    }
   ],
   "source": [
    "%%time\n",
    "\n",
    "\"\"\"Quantification based on M1\"\"\"\n",
    "\n",
    "\n",
    "\n",
    "result_cor = correct_result(result)\n",
    "factors = kfactors(result)\n",
    "val = val = [3, 0, 2, -1, 2.66, 0, -1, 2.66, 2.66, 0, 1, 2, 2, 0, 1, 2, -2, -3, 0, -2, 4, 3]\n",
    "Quant, H2O, mt, Dev = absorption_correction_auto (result_cor, s, factors, line1 = 'Fe_Ka', line2 = 'Fe_La', Elt_rat = 1, d = 2.9, t = 150, tilt_stage = 0, Crit=0.01, water=True, valence = val)"
   ]
  },
  {
   "cell_type": "code",
   "execution_count": 8,
   "metadata": {},
   "outputs": [
    {
     "data": {
      "text/plain": [
       "array([7.79612917])"
      ]
     },
     "execution_count": 8,
     "metadata": {},
     "output_type": "execute_result"
    }
   ],
   "source": [
    "H2O"
   ]
  },
  {
   "cell_type": "code",
   "execution_count": 8,
   "metadata": {},
   "outputs": [],
   "source": [
    "data_output(Quant, result_cor,H2O, mt_List=mt,density_or_thickness=2.9, name = 'amorphous_quanti_mean.xlsx')"
   ]
  },
  {
   "cell_type": "markdown",
   "metadata": {},
   "source": [
    "Thanks for using this code "
   ]
  }
 ],
 "metadata": {
  "kernelspec": {
   "display_name": "Python 3",
   "language": "python",
   "name": "python3"
  },
  "language_info": {
   "codemirror_mode": {
    "name": "ipython",
    "version": 3
   },
   "file_extension": ".py",
   "mimetype": "text/x-python",
   "name": "python",
   "nbconvert_exporter": "python",
   "pygments_lexer": "ipython3",
   "version": "3.7.4"
  },
  "widgets": {
   "application/vnd.jupyter.widget-state+json": {
    "state": {
     "00060699da5c45b2a66b705c3c4ececb": {
      "model_module": "jupyter-js-widgets",
      "model_module_version": "~2.1.4",
      "model_name": "HBoxModel",
      "state": {
       "_model_module_version": "~2.1.4",
       "_view_module_version": "~2.1.4",
       "children": [
        "IPY_MODEL_689324c7d9f84f4a8e30e3214f9d5b96",
        "IPY_MODEL_2a70fbe56d184f459c8cb8eebb10f112"
       ],
       "layout": "IPY_MODEL_526abbe2b0bd47849224030174d38afe"
      }
     },
     "0392c78b404945e3903048c085feac59": {
      "model_module": "jupyter-js-widgets",
      "model_module_version": "~2.1.4",
      "model_name": "ProgressStyleModel",
      "state": {
       "_model_module_version": "~2.1.4",
       "_view_module_version": "~2.1.4"
      }
     },
     "03e549b0156f4a61ae55df3ad385c56f": {
      "model_module": "jupyter-js-widgets",
      "model_module_version": "~2.1.4",
      "model_name": "ProgressStyleModel",
      "state": {
       "_model_module_version": "~2.1.4",
       "_view_module_version": "~2.1.4"
      }
     },
     "074a4b00854c4f8c91f816ef70e1a16a": {
      "model_module": "jupyter-js-widgets",
      "model_module_version": "~2.1.4",
      "model_name": "LayoutModel",
      "state": {
       "_model_module_version": "~2.1.4",
       "_view_module_version": "~2.1.4"
      }
     },
     "07712d3bfb6a4a4ba69d3e442e55ef66": {
      "model_module": "jupyter-js-widgets",
      "model_module_version": "~2.1.4",
      "model_name": "ProgressStyleModel",
      "state": {
       "_model_module_version": "~2.1.4",
       "_view_module_version": "~2.1.4"
      }
     },
     "07dbf0c6fdc8465fa466bf89f2d1927c": {
      "model_module": "jupyter-js-widgets",
      "model_module_version": "~2.1.4",
      "model_name": "HBoxModel",
      "state": {
       "_model_module_version": "~2.1.4",
       "_view_module_version": "~2.1.4",
       "children": [
        "IPY_MODEL_c43feea7ad0343e7a2e0deb42bb9014f",
        "IPY_MODEL_ee6ce05be5de44f1b8f900bf9f861bfc"
       ],
       "layout": "IPY_MODEL_68565d05245b4fac9dbd77ed9a168684"
      }
     },
     "09ffbfbc99994949afeb90760f51460d": {
      "model_module": "jupyter-js-widgets",
      "model_module_version": "~2.1.4",
      "model_name": "ProgressModel",
      "state": {
       "_model_module_version": "~2.1.4",
       "_view_module_version": "~2.1.4",
       "bar_style": "danger",
       "layout": "IPY_MODEL_571b543543564d7fae73aeae893ff1d2",
       "max": 10670,
       "style": "IPY_MODEL_519e5d3385da412babafde730eb151ed",
       "value": 779
      }
     },
     "0f552542943746778c76804be04c4144": {
      "model_module": "jupyter-js-widgets",
      "model_module_version": "~2.1.4",
      "model_name": "HBoxModel",
      "state": {
       "_model_module_version": "~2.1.4",
       "_view_module_version": "~2.1.4",
       "children": [
        "IPY_MODEL_5103fe1b5a354c0995da0432c72e7363",
        "IPY_MODEL_b2bcdc8fba954207b65799713f3a0c4c"
       ],
       "layout": "IPY_MODEL_89ca6d219deb4bbf9b1deac5dfad7e02"
      }
     },
     "18a220ce883b45778de8b3d9eb93e858": {
      "model_module": "jupyter-js-widgets",
      "model_module_version": "~2.1.4",
      "model_name": "LayoutModel",
      "state": {
       "_model_module_version": "~2.1.4",
       "_view_module_version": "~2.1.4"
      }
     },
     "1fddd82d70984aa187a4f70929194a9d": {
      "model_module": "jupyter-js-widgets",
      "model_module_version": "~2.1.4",
      "model_name": "HBoxModel",
      "state": {
       "_model_module_version": "~2.1.4",
       "_view_module_version": "~2.1.4",
       "children": [
        "IPY_MODEL_09ffbfbc99994949afeb90760f51460d",
        "IPY_MODEL_a3e1589800c74e0baad426e938ab7247"
       ],
       "layout": "IPY_MODEL_b0275ff0b3de4ba19abe0235c9766d02"
      }
     },
     "2297714e4aee43eca1f64f9ffd66d8cc": {
      "model_module": "jupyter-js-widgets",
      "model_module_version": "~2.1.4",
      "model_name": "LayoutModel",
      "state": {
       "_model_module_version": "~2.1.4",
       "_view_module_version": "~2.1.4"
      }
     },
     "2764023bf7854f0b9f2ca4a1e7a8e803": {
      "model_module": "jupyter-js-widgets",
      "model_module_version": "~2.1.4",
      "model_name": "LayoutModel",
      "state": {
       "_model_module_version": "~2.1.4",
       "_view_module_version": "~2.1.4"
      }
     },
     "2a6d3e57e3254c629753423f1f82a3d3": {
      "model_module": "jupyter-js-widgets",
      "model_module_version": "~2.1.4",
      "model_name": "LayoutModel",
      "state": {
       "_model_module_version": "~2.1.4",
       "_view_module_version": "~2.1.4"
      }
     },
     "2a70fbe56d184f459c8cb8eebb10f112": {
      "model_module": "jupyter-js-widgets",
      "model_module_version": "~2.1.4",
      "model_name": "HTMLModel",
      "state": {
       "_model_module_version": "~2.1.4",
       "_view_module_version": "~2.1.4",
       "layout": "IPY_MODEL_451450b56291428592d93ab0102a7967",
       "value": "100% 10670/10670 [11:28&lt;00:00, 15.49it/s]"
      }
     },
     "2d73bdbed2484c4d8fb7618b2e892d45": {
      "model_module": "jupyter-js-widgets",
      "model_module_version": "~2.1.4",
      "model_name": "LayoutModel",
      "state": {
       "_model_module_version": "~2.1.4",
       "_view_module_version": "~2.1.4"
      }
     },
     "2d9c311d176f4a4e92bd47ed0ca03e1e": {
      "model_module": "jupyter-js-widgets",
      "model_module_version": "~2.1.4",
      "model_name": "ProgressModel",
      "state": {
       "_model_module_version": "~2.1.4",
       "_view_module_version": "~2.1.4",
       "bar_style": "success",
       "layout": "IPY_MODEL_82da44d8b4e64647b27c936283168d8f",
       "max": 10670,
       "style": "IPY_MODEL_0392c78b404945e3903048c085feac59",
       "value": 10670
      }
     },
     "333c864c55634e21b382ed297ea10413": {
      "model_module": "jupyter-js-widgets",
      "model_module_version": "~2.1.4",
      "model_name": "ProgressStyleModel",
      "state": {
       "_model_module_version": "~2.1.4",
       "_view_module_version": "~2.1.4"
      }
     },
     "33d61774f5a04711b50f24b8fac46860": {
      "model_module": "jupyter-js-widgets",
      "model_module_version": "~2.1.4",
      "model_name": "HBoxModel",
      "state": {
       "_model_module_version": "~2.1.4",
       "_view_module_version": "~2.1.4",
       "children": [
        "IPY_MODEL_b6099c4732fb4fcbbd32eaa18ebca76a",
        "IPY_MODEL_46480d472d6b4f6eb581452d7bde1974"
       ],
       "layout": "IPY_MODEL_cc870d03a57240bdabfdaef05a7af722"
      }
     },
     "35021d6ff0a74a9b9f4f8ece7e944ec6": {
      "model_module": "jupyter-js-widgets",
      "model_module_version": "~2.1.4",
      "model_name": "LayoutModel",
      "state": {
       "_model_module_version": "~2.1.4",
       "_view_module_version": "~2.1.4",
       "display": "flex",
       "flex_flow": "row",
       "justify_content": "space-between"
      }
     },
     "37e2748217ad450c9e713f54d72e3e4e": {
      "model_module": "jupyter-js-widgets",
      "model_module_version": "~2.1.4",
      "model_name": "LayoutModel",
      "state": {
       "_model_module_version": "~2.1.4",
       "_view_module_version": "~2.1.4",
       "display": "flex",
       "flex_flow": "row",
       "justify_content": "space-between"
      }
     },
     "3dfe395e019d4043a92b5219fb981f6b": {
      "model_module": "jupyter-js-widgets",
      "model_module_version": "~2.1.4",
      "model_name": "LayoutModel",
      "state": {
       "_model_module_version": "~2.1.4",
       "_view_module_version": "~2.1.4"
      }
     },
     "41271e21f94e4c079f41befa474e46ce": {
      "model_module": "jupyter-js-widgets",
      "model_module_version": "~2.1.4",
      "model_name": "LayoutModel",
      "state": {
       "_model_module_version": "~2.1.4",
       "_view_module_version": "~2.1.4",
       "display": "flex",
       "flex_flow": "row",
       "justify_content": "space-between"
      }
     },
     "417b7bba7fda4e1cb74a0e81f6ce1bcb": {
      "model_module": "jupyter-js-widgets",
      "model_module_version": "~2.1.4",
      "model_name": "LayoutModel",
      "state": {
       "_model_module_version": "~2.1.4",
       "_view_module_version": "~2.1.4"
      }
     },
     "451450b56291428592d93ab0102a7967": {
      "model_module": "jupyter-js-widgets",
      "model_module_version": "~2.1.4",
      "model_name": "LayoutModel",
      "state": {
       "_model_module_version": "~2.1.4",
       "_view_module_version": "~2.1.4"
      }
     },
     "45643b69737047e5a4d19eac1f52da38": {
      "model_module": "jupyter-js-widgets",
      "model_module_version": "~2.1.4",
      "model_name": "ProgressStyleModel",
      "state": {
       "_model_module_version": "~2.1.4",
       "_view_module_version": "~2.1.4"
      }
     },
     "46480d472d6b4f6eb581452d7bde1974": {
      "model_module": "jupyter-js-widgets",
      "model_module_version": "~2.1.4",
      "model_name": "HTMLModel",
      "state": {
       "_model_module_version": "~2.1.4",
       "_view_module_version": "~2.1.4",
       "layout": "IPY_MODEL_edd1767d58284b998cbf483961dc3696",
       "value": "  0% 0/10670 [00:00&lt;?, ?it/s]"
      }
     },
     "4743bf811c234f839b548149fd1f11c3": {
      "model_module": "jupyter-js-widgets",
      "model_module_version": "~2.1.4",
      "model_name": "HTMLModel",
      "state": {
       "_model_module_version": "~2.1.4",
       "_view_module_version": "~2.1.4",
       "layout": "IPY_MODEL_d862678001484f74b6f21fad06a97726",
       "value": "100% 10670/10670 [11:17&lt;00:00, 15.27it/s]"
      }
     },
     "4834262a8291417689724e6ae30eabc6": {
      "model_module": "jupyter-js-widgets",
      "model_module_version": "~2.1.4",
      "model_name": "LayoutModel",
      "state": {
       "_model_module_version": "~2.1.4",
       "_view_module_version": "~2.1.4"
      }
     },
     "4baa11c5048745b58c5b45c441609445": {
      "model_module": "jupyter-js-widgets",
      "model_module_version": "~2.1.4",
      "model_name": "LayoutModel",
      "state": {
       "_model_module_version": "~2.1.4",
       "_view_module_version": "~2.1.4"
      }
     },
     "4c205cbbfdf44a1e9fd434beb1d90c09": {
      "model_module": "jupyter-js-widgets",
      "model_module_version": "~2.1.4",
      "model_name": "ProgressModel",
      "state": {
       "_model_module_version": "~2.1.4",
       "_view_module_version": "~2.1.4",
       "bar_style": "success",
       "layout": "IPY_MODEL_c4a70ad602164fde8ef6ac4e89061224",
       "max": 10670,
       "style": "IPY_MODEL_333c864c55634e21b382ed297ea10413",
       "value": 10670
      }
     },
     "5103fe1b5a354c0995da0432c72e7363": {
      "model_module": "jupyter-js-widgets",
      "model_module_version": "~2.1.4",
      "model_name": "ProgressModel",
      "state": {
       "_model_module_version": "~2.1.4",
       "_view_module_version": "~2.1.4",
       "bar_style": "danger",
       "layout": "IPY_MODEL_bed3b4e80bba4584bfca9393f4fc996b",
       "max": 10670,
       "style": "IPY_MODEL_45643b69737047e5a4d19eac1f52da38",
       "value": 459
      }
     },
     "519e5d3385da412babafde730eb151ed": {
      "model_module": "jupyter-js-widgets",
      "model_module_version": "~2.1.4",
      "model_name": "ProgressStyleModel",
      "state": {
       "_model_module_version": "~2.1.4",
       "_view_module_version": "~2.1.4"
      }
     },
     "526abbe2b0bd47849224030174d38afe": {
      "model_module": "jupyter-js-widgets",
      "model_module_version": "~2.1.4",
      "model_name": "LayoutModel",
      "state": {
       "_model_module_version": "~2.1.4",
       "_view_module_version": "~2.1.4"
      }
     },
     "571b543543564d7fae73aeae893ff1d2": {
      "model_module": "jupyter-js-widgets",
      "model_module_version": "~2.1.4",
      "model_name": "LayoutModel",
      "state": {
       "_model_module_version": "~2.1.4",
       "_view_module_version": "~2.1.4"
      }
     },
     "57a33707e9184c7197193f20fa7245e7": {
      "model_module": "jupyter-js-widgets",
      "model_module_version": "~2.1.4",
      "model_name": "LayoutModel",
      "state": {
       "_model_module_version": "~2.1.4",
       "_view_module_version": "~2.1.4"
      }
     },
     "58881f26f60042c1b66eb65266bd6307": {
      "model_module": "jupyter-js-widgets",
      "model_module_version": "~2.1.4",
      "model_name": "ProgressStyleModel",
      "state": {
       "_model_module_version": "~2.1.4",
       "_view_module_version": "~2.1.4"
      }
     },
     "5bf5ab5f4b3944f78d60c36ee95aabfb": {
      "model_module": "jupyter-js-widgets",
      "model_module_version": "~2.1.4",
      "model_name": "HBoxModel",
      "state": {
       "_model_module_version": "~2.1.4",
       "_view_module_version": "~2.1.4",
       "children": [
        "IPY_MODEL_4c205cbbfdf44a1e9fd434beb1d90c09",
        "IPY_MODEL_4743bf811c234f839b548149fd1f11c3"
       ],
       "layout": "IPY_MODEL_417b7bba7fda4e1cb74a0e81f6ce1bcb"
      }
     },
     "5dc7db172d474f6b81dfc66b869484fd": {
      "model_module": "jupyter-js-widgets",
      "model_module_version": "~2.1.4",
      "model_name": "LayoutModel",
      "state": {
       "_model_module_version": "~2.1.4",
       "_view_module_version": "~2.1.4"
      }
     },
     "5e3a3218f59b4696a891b0da0ca21a1b": {
      "model_module": "jupyter-js-widgets",
      "model_module_version": "~2.1.4",
      "model_name": "LayoutModel",
      "state": {
       "_model_module_version": "~2.1.4",
       "_view_module_version": "~2.1.4"
      }
     },
     "643e3e78cab24546bd143e3093277c54": {
      "model_module": "jupyter-js-widgets",
      "model_module_version": "~2.1.4",
      "model_name": "LayoutModel",
      "state": {
       "_model_module_version": "~2.1.4",
       "_view_module_version": "~2.1.4"
      }
     },
     "664e4efd1d0f41619fa262587b7cc002": {
      "model_module": "jupyter-js-widgets",
      "model_module_version": "~2.1.4",
      "model_name": "ProgressStyleModel",
      "state": {
       "_model_module_version": "~2.1.4",
       "_view_module_version": "~2.1.4"
      }
     },
     "67b0d6c8fc524c3f94373f36ea08c8c5": {
      "model_module": "jupyter-js-widgets",
      "model_module_version": "~2.1.4",
      "model_name": "LayoutModel",
      "state": {
       "_model_module_version": "~2.1.4",
       "_view_module_version": "~2.1.4"
      }
     },
     "68565d05245b4fac9dbd77ed9a168684": {
      "model_module": "jupyter-js-widgets",
      "model_module_version": "~2.1.4",
      "model_name": "LayoutModel",
      "state": {
       "_model_module_version": "~2.1.4",
       "_view_module_version": "~2.1.4"
      }
     },
     "689324c7d9f84f4a8e30e3214f9d5b96": {
      "model_module": "jupyter-js-widgets",
      "model_module_version": "~2.1.4",
      "model_name": "ProgressModel",
      "state": {
       "_model_module_version": "~2.1.4",
       "_view_module_version": "~2.1.4",
       "bar_style": "success",
       "layout": "IPY_MODEL_edf3d87a448145ab843c827165a2dd7b",
       "max": 10670,
       "style": "IPY_MODEL_ae8fa062a9844b4baf7872880588d5df",
       "value": 10670
      }
     },
     "71c014c73ff04f8487260db2f277ea1c": {
      "model_module": "jupyter-js-widgets",
      "model_module_version": "~2.1.4",
      "model_name": "HBoxModel",
      "state": {
       "_model_module_version": "~2.1.4",
       "_view_module_version": "~2.1.4",
       "children": [
        "IPY_MODEL_f106fd53dc33455997220f7fb12db736",
        "IPY_MODEL_aeb25d3e807243f49de77cf8e5ea493b"
       ],
       "layout": "IPY_MODEL_2297714e4aee43eca1f64f9ffd66d8cc"
      }
     },
     "7291e86f681344a78b1f24290c3cebfb": {
      "model_module": "jupyter-js-widgets",
      "model_module_version": "~2.1.4",
      "model_name": "ProgressStyleModel",
      "state": {
       "_model_module_version": "~2.1.4",
       "_view_module_version": "~2.1.4"
      }
     },
     "82da44d8b4e64647b27c936283168d8f": {
      "model_module": "jupyter-js-widgets",
      "model_module_version": "~2.1.4",
      "model_name": "LayoutModel",
      "state": {
       "_model_module_version": "~2.1.4",
       "_view_module_version": "~2.1.4"
      }
     },
     "8536e14ecc024b3482fe9c787cf64224": {
      "model_module": "jupyter-js-widgets",
      "model_module_version": "~2.1.4",
      "model_name": "HTMLModel",
      "state": {
       "_model_module_version": "~2.1.4",
       "_view_module_version": "~2.1.4",
       "layout": "IPY_MODEL_074a4b00854c4f8c91f816ef70e1a16a",
       "value": "100% 10670/10670 [10:58&lt;00:00, 15.27it/s]"
      }
     },
     "89ca6d219deb4bbf9b1deac5dfad7e02": {
      "model_module": "jupyter-js-widgets",
      "model_module_version": "~2.1.4",
      "model_name": "LayoutModel",
      "state": {
       "_model_module_version": "~2.1.4",
       "_view_module_version": "~2.1.4"
      }
     },
     "8b22ab0b4d2848688b4e45644d82fd30": {
      "model_module": "jupyter-js-widgets",
      "model_module_version": "~2.1.4",
      "model_name": "LayoutModel",
      "state": {
       "_model_module_version": "~2.1.4",
       "_view_module_version": "~2.1.4"
      }
     },
     "929d5d9b91f3472fbfa0427cd96fda40": {
      "model_module": "jupyter-js-widgets",
      "model_module_version": "~2.1.4",
      "model_name": "ProgressStyleModel",
      "state": {
       "_model_module_version": "~2.1.4",
       "_view_module_version": "~2.1.4"
      }
     },
     "92d05ab2c4eb44a4a1baaaaa7fcab320": {
      "model_module": "jupyter-js-widgets",
      "model_module_version": "~2.1.4",
      "model_name": "HBoxModel",
      "state": {
       "_model_module_version": "~2.1.4",
       "_view_module_version": "~2.1.4",
       "children": [
        "IPY_MODEL_e97a79343eea422587b34bc729dd921d",
        "IPY_MODEL_f71a731a52b34b59bf10d9139db0934c"
       ],
       "layout": "IPY_MODEL_18a220ce883b45778de8b3d9eb93e858"
      }
     },
     "954abf01a8e047f48c899ae2a9ba360f": {
      "model_module": "jupyter-js-widgets",
      "model_module_version": "~2.1.4",
      "model_name": "ProgressModel",
      "state": {
       "_model_module_version": "~2.1.4",
       "_view_module_version": "~2.1.4",
       "bar_style": "success",
       "layout": "IPY_MODEL_f86a1d1a6410481fbe1a570c828617b4",
       "max": 10670,
       "style": "IPY_MODEL_03e549b0156f4a61ae55df3ad385c56f",
       "value": 10670
      }
     },
     "9e6103a94a434626b2f0910ac7f3b0cc": {
      "model_module": "jupyter-js-widgets",
      "model_module_version": "~2.1.4",
      "model_name": "LayoutModel",
      "state": {
       "_model_module_version": "~2.1.4",
       "_view_module_version": "~2.1.4",
       "display": "flex",
       "flex_flow": "row",
       "justify_content": "space-between"
      }
     },
     "9e930f06dbb6472abaf002d087cdc289": {
      "model_module": "jupyter-js-widgets",
      "model_module_version": "~2.1.4",
      "model_name": "ProgressModel",
      "state": {
       "_model_module_version": "~2.1.4",
       "_view_module_version": "~2.1.4",
       "bar_style": "success",
       "layout": "IPY_MODEL_4baa11c5048745b58c5b45c441609445",
       "max": 10670,
       "style": "IPY_MODEL_7291e86f681344a78b1f24290c3cebfb",
       "value": 10670
      }
     },
     "a2b5d968e9b24cc9984162f5f4b3f59e": {
      "model_module": "jupyter-js-widgets",
      "model_module_version": "~2.1.4",
      "model_name": "HBoxModel",
      "state": {
       "_model_module_version": "~2.1.4",
       "_view_module_version": "~2.1.4",
       "children": [
        "IPY_MODEL_2d9c311d176f4a4e92bd47ed0ca03e1e",
        "IPY_MODEL_8536e14ecc024b3482fe9c787cf64224"
       ],
       "layout": "IPY_MODEL_3dfe395e019d4043a92b5219fb981f6b"
      }
     },
     "a3e1589800c74e0baad426e938ab7247": {
      "model_module": "jupyter-js-widgets",
      "model_module_version": "~2.1.4",
      "model_name": "HTMLModel",
      "state": {
       "_model_module_version": "~2.1.4",
       "_view_module_version": "~2.1.4",
       "layout": "IPY_MODEL_67b0d6c8fc524c3f94373f36ea08c8c5",
       "value": "  7% 779/10670 [00:52&lt;11:11, 14.74it/s]"
      }
     },
     "ae8b21022ac74e189f547e3c385899d8": {
      "model_module": "jupyter-js-widgets",
      "model_module_version": "~2.1.4",
      "model_name": "HBoxModel",
      "state": {
       "_model_module_version": "~2.1.4",
       "_view_module_version": "~2.1.4",
       "children": [
        "IPY_MODEL_954abf01a8e047f48c899ae2a9ba360f",
        "IPY_MODEL_f6f7ea17cfa74a618b0076df4dc33492"
       ],
       "layout": "IPY_MODEL_2d73bdbed2484c4d8fb7618b2e892d45"
      }
     },
     "ae8fa062a9844b4baf7872880588d5df": {
      "model_module": "jupyter-js-widgets",
      "model_module_version": "~2.1.4",
      "model_name": "ProgressStyleModel",
      "state": {
       "_model_module_version": "~2.1.4",
       "_view_module_version": "~2.1.4"
      }
     },
     "aeb25d3e807243f49de77cf8e5ea493b": {
      "model_module": "jupyter-js-widgets",
      "model_module_version": "~2.1.4",
      "model_name": "HTMLModel",
      "state": {
       "_model_module_version": "~2.1.4",
       "_view_module_version": "~2.1.4",
       "layout": "IPY_MODEL_4834262a8291417689724e6ae30eabc6",
       "value": "100% 10670/10670 [07:01&lt;00:00, 25.32it/s]"
      }
     },
     "af2085898db748bf9bb887bfad7e9843": {
      "model_module": "jupyter-js-widgets",
      "model_module_version": "~2.1.4",
      "model_name": "LayoutModel",
      "state": {
       "_model_module_version": "~2.1.4",
       "_view_module_version": "~2.1.4"
      }
     },
     "b0275ff0b3de4ba19abe0235c9766d02": {
      "model_module": "jupyter-js-widgets",
      "model_module_version": "~2.1.4",
      "model_name": "LayoutModel",
      "state": {
       "_model_module_version": "~2.1.4",
       "_view_module_version": "~2.1.4"
      }
     },
     "b2bcdc8fba954207b65799713f3a0c4c": {
      "model_module": "jupyter-js-widgets",
      "model_module_version": "~2.1.4",
      "model_name": "HTMLModel",
      "state": {
       "_model_module_version": "~2.1.4",
       "_view_module_version": "~2.1.4",
       "layout": "IPY_MODEL_643e3e78cab24546bd143e3093277c54",
       "value": "  4% 459/10670 [00:29&lt;10:19, 16.47it/s]"
      }
     },
     "b6099c4732fb4fcbbd32eaa18ebca76a": {
      "model_module": "jupyter-js-widgets",
      "model_module_version": "~2.1.4",
      "model_name": "ProgressModel",
      "state": {
       "_model_module_version": "~2.1.4",
       "_view_module_version": "~2.1.4",
       "bar_style": "danger",
       "layout": "IPY_MODEL_5dc7db172d474f6b81dfc66b869484fd",
       "max": 10670,
       "style": "IPY_MODEL_664e4efd1d0f41619fa262587b7cc002"
      }
     },
     "baaa3637dc744d298d304e610f49ed19": {
      "model_module": "jupyter-js-widgets",
      "model_module_version": "~2.1.4",
      "model_name": "LayoutModel",
      "state": {
       "_model_module_version": "~2.1.4",
       "_view_module_version": "~2.1.4"
      }
     },
     "bed3b4e80bba4584bfca9393f4fc996b": {
      "model_module": "jupyter-js-widgets",
      "model_module_version": "~2.1.4",
      "model_name": "LayoutModel",
      "state": {
       "_model_module_version": "~2.1.4",
       "_view_module_version": "~2.1.4"
      }
     },
     "c43feea7ad0343e7a2e0deb42bb9014f": {
      "model_module": "jupyter-js-widgets",
      "model_module_version": "~2.1.4",
      "model_name": "ProgressModel",
      "state": {
       "_model_module_version": "~2.1.4",
       "_view_module_version": "~2.1.4",
       "bar_style": "success",
       "layout": "IPY_MODEL_5e3a3218f59b4696a891b0da0ca21a1b",
       "max": 10670,
       "style": "IPY_MODEL_07712d3bfb6a4a4ba69d3e442e55ef66",
       "value": 10670
      }
     },
     "c4a70ad602164fde8ef6ac4e89061224": {
      "model_module": "jupyter-js-widgets",
      "model_module_version": "~2.1.4",
      "model_name": "LayoutModel",
      "state": {
       "_model_module_version": "~2.1.4",
       "_view_module_version": "~2.1.4"
      }
     },
     "cc870d03a57240bdabfdaef05a7af722": {
      "model_module": "jupyter-js-widgets",
      "model_module_version": "~2.1.4",
      "model_name": "LayoutModel",
      "state": {
       "_model_module_version": "~2.1.4",
       "_view_module_version": "~2.1.4"
      }
     },
     "d05e02cc3fef4f3ba02ab646ef9ff1ea": {
      "model_module": "jupyter-js-widgets",
      "model_module_version": "~2.1.4",
      "model_name": "HBoxModel",
      "state": {
       "_model_module_version": "~2.1.4",
       "_view_module_version": "~2.1.4",
       "children": [
        "IPY_MODEL_9e930f06dbb6472abaf002d087cdc289",
        "IPY_MODEL_f4da809164c744659f87ca725f7f5ff6"
       ],
       "layout": "IPY_MODEL_d808d7da1036409699f67db04abb781e"
      }
     },
     "d808d7da1036409699f67db04abb781e": {
      "model_module": "jupyter-js-widgets",
      "model_module_version": "~2.1.4",
      "model_name": "LayoutModel",
      "state": {
       "_model_module_version": "~2.1.4",
       "_view_module_version": "~2.1.4"
      }
     },
     "d862678001484f74b6f21fad06a97726": {
      "model_module": "jupyter-js-widgets",
      "model_module_version": "~2.1.4",
      "model_name": "LayoutModel",
      "state": {
       "_model_module_version": "~2.1.4",
       "_view_module_version": "~2.1.4"
      }
     },
     "e3950c3ce29045998c352848daaf7822": {
      "model_module": "jupyter-js-widgets",
      "model_module_version": "~2.1.4",
      "model_name": "LayoutModel",
      "state": {
       "_model_module_version": "~2.1.4",
       "_view_module_version": "~2.1.4",
       "display": "flex",
       "flex_flow": "row",
       "justify_content": "space-between"
      }
     },
     "e97a79343eea422587b34bc729dd921d": {
      "model_module": "jupyter-js-widgets",
      "model_module_version": "~2.1.4",
      "model_name": "ProgressModel",
      "state": {
       "_model_module_version": "~2.1.4",
       "_view_module_version": "~2.1.4",
       "bar_style": "success",
       "layout": "IPY_MODEL_57a33707e9184c7197193f20fa7245e7",
       "max": 10670,
       "style": "IPY_MODEL_58881f26f60042c1b66eb65266bd6307",
       "value": 10670
      }
     },
     "edd1767d58284b998cbf483961dc3696": {
      "model_module": "jupyter-js-widgets",
      "model_module_version": "~2.1.4",
      "model_name": "LayoutModel",
      "state": {
       "_model_module_version": "~2.1.4",
       "_view_module_version": "~2.1.4"
      }
     },
     "edf3d87a448145ab843c827165a2dd7b": {
      "model_module": "jupyter-js-widgets",
      "model_module_version": "~2.1.4",
      "model_name": "LayoutModel",
      "state": {
       "_model_module_version": "~2.1.4",
       "_view_module_version": "~2.1.4"
      }
     },
     "ee6ce05be5de44f1b8f900bf9f861bfc": {
      "model_module": "jupyter-js-widgets",
      "model_module_version": "~2.1.4",
      "model_name": "HTMLModel",
      "state": {
       "_model_module_version": "~2.1.4",
       "_view_module_version": "~2.1.4",
       "layout": "IPY_MODEL_2a6d3e57e3254c629753423f1f82a3d3",
       "value": "100% 10670/10670 [01:52&lt;00:00, 94.74it/s]"
      }
     },
     "f106fd53dc33455997220f7fb12db736": {
      "model_module": "jupyter-js-widgets",
      "model_module_version": "~2.1.4",
      "model_name": "ProgressModel",
      "state": {
       "_model_module_version": "~2.1.4",
       "_view_module_version": "~2.1.4",
       "bar_style": "success",
       "layout": "IPY_MODEL_2764023bf7854f0b9f2ca4a1e7a8e803",
       "max": 10670,
       "style": "IPY_MODEL_929d5d9b91f3472fbfa0427cd96fda40",
       "value": 10670
      }
     },
     "f4da809164c744659f87ca725f7f5ff6": {
      "model_module": "jupyter-js-widgets",
      "model_module_version": "~2.1.4",
      "model_name": "HTMLModel",
      "state": {
       "_model_module_version": "~2.1.4",
       "_view_module_version": "~2.1.4",
       "layout": "IPY_MODEL_8b22ab0b4d2848688b4e45644d82fd30",
       "value": "100% 10670/10670 [07:00&lt;00:00, 24.53it/s]"
      }
     },
     "f6f7ea17cfa74a618b0076df4dc33492": {
      "model_module": "jupyter-js-widgets",
      "model_module_version": "~2.1.4",
      "model_name": "HTMLModel",
      "state": {
       "_model_module_version": "~2.1.4",
       "_view_module_version": "~2.1.4",
       "layout": "IPY_MODEL_af2085898db748bf9bb887bfad7e9843",
       "value": "100% 10670/10670 [11:25&lt;00:00, 15.49it/s]"
      }
     },
     "f71a731a52b34b59bf10d9139db0934c": {
      "model_module": "jupyter-js-widgets",
      "model_module_version": "~2.1.4",
      "model_name": "HTMLModel",
      "state": {
       "_model_module_version": "~2.1.4",
       "_view_module_version": "~2.1.4",
       "layout": "IPY_MODEL_baaa3637dc744d298d304e610f49ed19",
       "value": "100% 10670/10670 [01:47&lt;00:00, 99.23it/s]"
      }
     },
     "f86a1d1a6410481fbe1a570c828617b4": {
      "model_module": "jupyter-js-widgets",
      "model_module_version": "~2.1.4",
      "model_name": "LayoutModel",
      "state": {
       "_model_module_version": "~2.1.4",
       "_view_module_version": "~2.1.4"
      }
     }
    },
    "version_major": 1,
    "version_minor": 0
   }
  }
 },
 "nbformat": 4,
 "nbformat_minor": 1
}
